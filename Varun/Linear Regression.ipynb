{
 "cells": [
  {
   "cell_type": "code",
   "execution_count": 1,
   "metadata": {},
   "outputs": [],
   "source": [
    "#Calculate Hypothesis Fn\n",
    "def Hypothesis(theta,x):\n",
    "    k=np.dot(theta,np.transpose(x))\n",
    "    return k\n"
   ]
  },
  {
   "cell_type": "code",
   "execution_count": 22,
   "metadata": {},
   "outputs": [],
   "source": [
    "#Calculate Cost Fn J\n",
    "def Cost_Fn(X,Y,theta,m):\n",
    "    k=Hypothesis(theta,X)\n",
    "    cf=(1/2*m)*np.sum((k-Y)**2)\n",
    "    return cf"
   ]
  },
  {
   "cell_type": "code",
   "execution_count": 23,
   "metadata": {},
   "outputs": [],
   "source": [
    "#Define Cost Fn Deriavative dj/dw1 ,dj/dw2\n",
    "def Cost_Fn_Der(X,Y,theta,j,m):\n",
    "    k=Hypothesis(theta,X)\n",
    "    l=np.dot(np.transpose(k-Y),X)\n",
    "    return l"
   ]
  },
  {
   "cell_type": "code",
   "execution_count": 24,
   "metadata": {},
   "outputs": [],
   "source": [
    "#Perform the gradient descent update W1 = W1 - alpha* dJ/dW1 , W2 = W2 - alpha*dJ/dW2\n",
    "def Gradient_descent(X,Y,theta,m,alpha):\n",
    "    j=Cost_Fn(X,Y,theta,m)\n",
    "    theta = theta - (alpha * Cost_Fn_Der(X,Y,theta,j,m))\n",
    "    return theta"
   ]
  },
  {
   "cell_type": "code",
   "execution_count": 35,
   "metadata": {},
   "outputs": [],
   "source": [
    "def Linear_regression(X,Y,alpha,theta,num_itrns):\n",
    "    m=len(X)\n",
    "    for x in range(num_itrns):\n",
    "        new_theta = Gradient_descent(X,Y,theta, m, alpha)\n",
    "        theta = new_theta\n",
    "        if x % 100 == 0:\n",
    "            print(\"iteration no \",x)\n",
    "            print ('theta ', theta)\n",
    "            print ('cost is ', Cost_Fn(X,Y,theta,m))\n",
    "            print()\n",
    "    return new_theta"
   ]
  },
  {
   "cell_type": "code",
   "execution_count": 39,
   "metadata": {},
   "outputs": [
    {
     "name": "stdout",
     "output_type": "stream",
     "text": [
      "('iteration ', 0)\n",
      "('theta ', array([0.5955, 3.1065]))\n",
      "('cost is ', 0.0)\n",
      "()\n",
      "('iteration ', 100)\n",
      "('theta ', array([8.26056997, 2.339558  ]))\n",
      "('cost is ', 0.0)\n",
      "()\n",
      "('iteration ', 200)\n",
      "('theta ', array([12.61614594,  1.64734617]))\n",
      "('cost is ', 0.0)\n",
      "()\n",
      "('iteration ', 300)\n",
      "('theta ', array([15.11393812,  1.25038345]))\n",
      "('cost is ', 0.0)\n",
      "()\n",
      "('iteration ', 400)\n",
      "('theta ', array([16.54634701,  1.02273723]))\n",
      "('cost is ', 0.0)\n",
      "()\n",
      "('iteration ', 500)\n",
      "('theta ', array([17.36779055,  0.89218896]))\n",
      "('cost is ', 0.0)\n",
      "()\n",
      "('iteration ', 600)\n",
      "('theta ', array([17.83886379,  0.81732344]))\n",
      "('cost is ', 0.0)\n",
      "()\n",
      "('iteration ', 700)\n",
      "('theta ', array([18.10901016,  0.7743903 ]))\n",
      "('cost is ', 0.0)\n",
      "()\n",
      "('iteration ', 800)\n",
      "('theta ', array([18.263931  ,  0.74976944]))\n",
      "('cost is ', 0.0)\n",
      "()\n",
      "('iteration ', 900)\n",
      "('theta ', array([18.35277345,  0.73565012]))\n",
      "('cost is ', 0.0)\n",
      "()\n",
      "('iteration ', 1000)\n",
      "('theta ', array([18.40372193,  0.72755311]))\n",
      "('cost is ', 0.0)\n",
      "()\n",
      "('iteration ', 1100)\n",
      "('theta ', array([18.43293936,  0.72290971]))\n",
      "('cost is ', 0.0)\n",
      "()\n",
      "('iteration ', 1200)\n",
      "('theta ', array([18.44969468,  0.72024687]))\n",
      "('cost is ', 0.0)\n",
      "()\n",
      "('iteration ', 1300)\n",
      "('theta ', array([18.45930335,  0.7187198 ]))\n",
      "('cost is ', 0.0)\n",
      "()\n",
      "('iteration ', 1400)\n",
      "('theta ', array([18.46481364,  0.71784408]))\n",
      "('cost is ', 0.0)\n",
      "()\n",
      "('iteration ', 1500)\n",
      "('theta ', array([18.46797362,  0.71734188]))\n",
      "('cost is ', 0.0)\n",
      "()\n",
      "('iteration ', 1600)\n",
      "('theta ', array([18.46978578,  0.71705388]))\n",
      "('cost is ', 0.0)\n",
      "()\n",
      "('iteration ', 1700)\n",
      "('theta ', array([18.47082499,  0.71688872]))\n",
      "('cost is ', 0.0)\n",
      "()\n",
      "('iteration ', 1800)\n",
      "('theta ', array([18.47142095,  0.71679401]))\n",
      "('cost is ', 0.0)\n",
      "()\n",
      "('iteration ', 1900)\n",
      "('theta ', array([18.47176272,  0.71673969]))\n",
      "('cost is ', 0.0)\n",
      "()\n",
      "()\n",
      "('Final theta:', array([18.47195724,  0.71670878]))\n",
      "[18.47195724  0.71670878]\n"
     ]
    }
   ],
   "source": [
    "import numpy as np\n",
    "\n",
    "\n",
    "Y= [19, 20, 20.5, 21.5, 22, 23, 23, 25.5, 24]\n",
    "X = [[1,1],[1,2],[1,3],[1,4],[1,5],[1,6],[1,7],[1,8],[1,9]]\n",
    "theta = ([0,0])\n",
    "alpha = 0.003\n",
    "iterations = 2000\n",
    "nt=Linear_regression(X,Y,alpha,theta,iterations)\n",
    "print()\n",
    "print(\"Final theta:\", nt)\n",
    "print(nt)"
   ]
  },
  {
   "cell_type": "code",
   "execution_count": null,
   "metadata": {},
   "outputs": [],
   "source": []
  }
 ],
 "metadata": {
  "kernelspec": {
   "display_name": "Python 2",
   "language": "python",
   "name": "python2"
  },
  "language_info": {
   "codemirror_mode": {
    "name": "ipython",
    "version": 2
   },
   "file_extension": ".py",
   "mimetype": "text/x-python",
   "name": "python",
   "nbconvert_exporter": "python",
   "pygments_lexer": "ipython2",
   "version": "2.7.14"
  }
 },
 "nbformat": 4,
 "nbformat_minor": 2
}
