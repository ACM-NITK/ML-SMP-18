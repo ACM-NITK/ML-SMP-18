{
 "cells": [
  {
   "cell_type": "code",
   "execution_count": 28,
   "metadata": {},
   "outputs": [
    {
     "name": "stdout",
     "output_type": "stream",
     "text": [
      "['1' '2' '3' '4']\n",
      "['4' '3' '2' '1']\n"
     ]
    }
   ],
   "source": [
    "#Reversing a Vector\n",
    "import numpy as np\n",
    "arr=np.array(['1','2','3','4'])\n",
    "reversed_arr = arr[::-1]\n",
    "print(arr)\n",
    "print(reversed_arr)"
   ]
  },
  {
   "cell_type": "code",
   "execution_count": 7,
   "metadata": {},
   "outputs": [
    {
     "name": "stdout",
     "output_type": "stream",
     "text": [
      "[[0 1 2]\n",
      " [3 4 5]\n",
      " [6 7 8]]\n"
     ]
    }
   ],
   "source": [
    "#Create a 3x3 matrix with values ranging from 0 to 8\n",
    "import numpy as np\n",
    "a=np.arange(9).reshape(3,3)\n",
    "print(a)"
   ]
  },
  {
   "cell_type": "code",
   "execution_count": 11,
   "metadata": {},
   "outputs": [
    {
     "name": "stdout",
     "output_type": "stream",
     "text": [
      "[[1. 1. 1. 1. 1. 1.]\n",
      " [1. 0. 0. 0. 0. 1.]\n",
      " [1. 0. 0. 0. 0. 1.]\n",
      " [1. 1. 1. 1. 1. 1.]]\n"
     ]
    }
   ],
   "source": [
    "#Create a 2d array with 1 on the border and 0 inside\n",
    "import numpy as np\n",
    "a=np.ones((4,6))\n",
    "a[1:-1,1:-1]=0\n",
    "print(a)"
   ]
  },
  {
   "cell_type": "code",
   "execution_count": 27,
   "metadata": {},
   "outputs": [
    {
     "name": "stdout",
     "output_type": "stream",
     "text": [
      "[[ 43  37]\n",
      " [ 66  57]\n",
      " [ 89  77]\n",
      " [112  97]\n",
      " [135 117]]\n"
     ]
    }
   ],
   "source": [
    "#Multiply a 5x3 matrix by a 3x2 matrix\n",
    "import numpy as np\n",
    "a=np.array([[1,2,3],[2,3,4],[3,4,5],[4,5,6],[5,6,7]])\n",
    "b=np.array([[9,8],[8,7],[6,5]])\n",
    "print(np.dot(a,b))\n"
   ]
  },
  {
   "cell_type": "code",
   "execution_count": 54,
   "metadata": {},
   "outputs": [
    {
     "name": "stdout",
     "output_type": "stream",
     "text": [
      "[-1.68689674 -6.36498041  7.96198831  4.07527716 -6.16413412]\n",
      "[ 3.19487197 -3.54843552  5.213731   -6.45502798 11.28799553]\n",
      "Not Equal\n"
     ]
    }
   ],
   "source": [
    "#Python program to check two random arrays are equal or not\n",
    "import numpy as np\n",
    "a=np.random.normal(1,10,5)\n",
    "b=np.random.normal(1,10,5)\n",
    "print(a)\n",
    "print(b)\n",
    "if np.array_equal(a,b):\n",
    "    print('Equal')\n",
    "else:\n",
    "    print('Not Equal')"
   ]
  },
  {
   "cell_type": "code",
   "execution_count": 72,
   "metadata": {},
   "outputs": [
    {
     "name": "stdout",
     "output_type": "stream",
     "text": [
      "N largest values are \n",
      "[4.98799481 4.92906378 4.14189973 3.73688138]\n"
     ]
    }
   ],
   "source": [
    "#program to get n largest values in an array\n",
    "import numpy as np\n",
    "a=np.random.uniform(1,5,10)\n",
    "a=-np.sort(-a)\n",
    "n=4\n",
    "print('N largest values are ')\n",
    "print(a[:n])"
   ]
  },
  {
   "cell_type": "code",
   "execution_count": null,
   "metadata": {},
   "outputs": [],
   "source": []
  }
 ],
 "metadata": {
  "kernelspec": {
   "display_name": "Python 2",
   "language": "python",
   "name": "python2"
  },
  "language_info": {
   "codemirror_mode": {
    "name": "ipython",
    "version": 2
   },
   "file_extension": ".py",
   "mimetype": "text/x-python",
   "name": "python",
   "nbconvert_exporter": "python",
   "pygments_lexer": "ipython2",
   "version": "2.7.14"
  }
 },
 "nbformat": 4,
 "nbformat_minor": 2
}
