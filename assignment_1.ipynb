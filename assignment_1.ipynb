{
 "cells": [
  {
   "cell_type": "code",
   "execution_count": 2,
   "metadata": {},
   "outputs": [
    {
     "name": "stdout",
     "output_type": "stream",
     "text": [
      "[1 2 3]\n"
     ]
    }
   ],
   "source": [
    "import numpy as np\n"
   ]
  },
  {
   "cell_type": "code",
   "execution_count": 9,
   "metadata": {},
   "outputs": [
    {
     "name": "stdout",
     "output_type": "stream",
     "text": [
      "enter magnitude of vector in x direction1\n",
      "enter magnitude of vector in y direction5\n",
      "enter magnitude of vector in z direction8\n",
      "given vector: 1 i + 5 j + 8 k\n",
      "reversed vector: 8 i + 5 j + 1 k\n"
     ]
    }
   ],
   "source": [
    "#question 1: reversing vector\n",
    "import numpy as np\n",
    "x=int(input('enter magnitude of vector in x direction'))\n",
    "y=int(input('enter magnitude of vector in y direction'))\n",
    "z=int(input('enter magnitude of vector in z direction'))\n",
    "a=np.array([x,y,z])\n",
    "b=a[::-1]      #using slicing method\n",
    "print('given vector:',a[0],'i +',a[1],'j +',a[2],'k')\n",
    "print('reversed vector:',b[0],'i +',b[1],'j +',b[2],'k')\n"
   ]
  },
  {
   "cell_type": "code",
   "execution_count": 23,
   "metadata": {},
   "outputs": [
    {
     "name": "stdout",
     "output_type": "stream",
     "text": [
      "[[0 1 2]\n",
      " [3 4 5]\n",
      " [6 7 8]]\n"
     ]
    }
   ],
   "source": [
    "#question 2:\n",
    "#c=np.array([[0,1,2],[3,4,5],[6,7,8]])\n",
    "import numpy as np\n",
    "c=np.arange(0,9,1).reshape(3,3)\n",
    "print(c)"
   ]
  },
  {
   "cell_type": "code",
   "execution_count": 39,
   "metadata": {},
   "outputs": [
    {
     "name": "stdout",
     "output_type": "stream",
     "text": [
      "enter orde of matrix \n",
      "\n",
      "3\n",
      "4\n",
      "[[1. 1. 1. 1.]\n",
      " [1. 0. 0. 1.]\n",
      " [1. 1. 1. 1.]]\n"
     ]
    }
   ],
   "source": [
    "#question 3:\n",
    "import numpy as np\n",
    "print('enter order of matrix')\n",
    "n=int(input())\n",
    "m=int(input())\n",
    "d=np.ones((n,m))\n",
    "d[1:-1,1:-1]=0\n",
    "print(d)"
   ]
  },
  {
   "cell_type": "code",
   "execution_count": 46,
   "metadata": {},
   "outputs": [
    {
     "name": "stdout",
     "output_type": "stream",
     "text": [
      "matrix 1:\n",
      " [[0.80256099 0.96522229 0.30577949]\n",
      " [0.92349356 0.73079864 0.19712646]\n",
      " [0.88190736 0.28428799 0.90067328]\n",
      " [0.54258536 0.85140536 0.96829658]\n",
      " [0.30576863 0.53296916 0.48753968]]\n",
      "matrix 2:\n",
      " [[0.17121377 0.33042712]\n",
      " [0.81101116 0.36916461]\n",
      " [0.26262938 0.08209652]]\n",
      "multiplied matrix:\n",
      " [[1.00052222 0.64661725]\n",
      " [0.80257186 0.5911157 ]\n",
      " [0.61809869 0.47029731]\n",
      " [1.03770046 0.57308742]\n",
      " [0.61263798 0.33781291]]\n"
     ]
    }
   ],
   "source": [
    "#question 4:\n",
    "import numpy as np\n",
    "p=np.random.random((5,3))\n",
    "print('matrix 1:\\n',p)\n",
    "q=np.random.random((3,2))\n",
    "print('matrix 2:\\n',q)\n",
    "print('multiplied matrix:\\n',np.dot(p,q))"
   ]
  },
  {
   "cell_type": "code",
   "execution_count": 47,
   "metadata": {},
   "outputs": [],
   "source": [
    "#question 5:\n",
    "import numpy as np"
   ]
  },
  {
   "cell_type": "code",
   "execution_count": 83,
   "metadata": {},
   "outputs": [
    {
     "name": "stdout",
     "output_type": "stream",
     "text": [
      "matrix 1:\n",
      " [[0.15219055 0.86817765]\n",
      " [0.08909354 0.65281982]]\n",
      "matrix 2:\n",
      " [[0.28861497 0.25978806]\n",
      " [0.14357988 0.25618791]]\n",
      "matrix 1 and 2 are\n",
      "not equal\n"
     ]
    }
   ],
   "source": [
    "#question 6:\n",
    "import numpy as np\n",
    "w=np.random.random((2,2))\n",
    "z=np.random.random((2,2))\n",
    "print('matrix 1:\\n',w)\n",
    "print('matrix 2:\\n',z)\n",
    "print('matrix 1 and 2 are')\n",
    "x=w==z\n",
    "if np.all(x):\n",
    "    print('equal')\n",
    "else:\n",
    "    print('not equal')"
   ]
  },
  {
   "cell_type": "code",
   "execution_count": 94,
   "metadata": {},
   "outputs": [
    {
     "name": "stdout",
     "output_type": "stream",
     "text": [
      "[0.73496506 0.91352026 0.34691687 0.19970042 0.0304056  0.48990271\n",
      " 0.97642958 0.81576716 0.79028296 0.74629474]\n",
      "enter value 0.7\n",
      "nearest value is : 0.7349650579780866\n"
     ]
    }
   ],
   "source": [
    "#question 7:\n",
    "import numpy as np\n",
    "arr=np.random.random((10))\n",
    "print(arr)\n",
    "value=float(input('enter value '))\n",
    "print('nearest value is :',arr[(np.abs(arr-value)).argmin()])\n"
   ]
  },
  {
   "cell_type": "code",
   "execution_count": 96,
   "metadata": {},
   "outputs": [
    {
     "name": "stdout",
     "output_type": "stream",
     "text": [
      "[0.34558132 0.53818409 0.37678619 0.16772011 0.93827128 0.85780433\n",
      " 0.52190143 0.76188945 0.24224462 0.17235382]\n",
      "largest value is : 0.9382712806125896\n"
     ]
    }
   ],
   "source": [
    "#question 8:\n",
    "import numpy as np\n",
    "arr=np.random.random((10))\n",
    "print(arr)\n",
    "print('largest value is :',arr[arr.argmax()])"
   ]
  },
  {
   "cell_type": "code",
   "execution_count": null,
   "metadata": {},
   "outputs": [],
   "source": [
    "#question 9:\n",
    "import numpy as np\n",
    "arr=np.random.random((10))\n",
    "print(arr)\n",
    "value=float(input('enter value '))\n",
    "print('nearest value is :',arr[(np.abs(arr-value)).argmin()])"
   ]
  },
  {
   "cell_type": "code",
   "execution_count": 3,
   "metadata": {},
   "outputs": [
    {
     "name": "stdout",
     "output_type": "stream",
     "text": [
      "[0.11457102 0.70875698 0.26263538 0.08096529 0.64488877 0.08456574\n",
      " 0.89275174 0.24215601 0.14856026 0.85524735 0.88767089 0.14361793\n",
      " 0.22829724 0.09641967 0.29506654]\n",
      "after replacing min value with -1 :\n",
      " [ 0.11457102  0.70875698  0.26263538 -1.          0.64488877  0.08456574\n",
      "  0.89275174  0.24215601  0.14856026  0.85524735  0.88767089  0.14361793\n",
      "  0.22829724  0.09641967  0.29506654]\n"
     ]
    }
   ],
   "source": [
    "#question 10:\n",
    "import numpy as np\n",
    "arr=np.random.random((15))\n",
    "print(arr)\n",
    "arr[arr.argmin()]=-1\n",
    "print('after replacing min value with -1 :\\n',arr)"
   ]
  },
  {
   "cell_type": "code",
   "execution_count": 11,
   "metadata": {},
   "outputs": [
    {
     "name": "stdout",
     "output_type": "stream",
     "text": [
      "[-0.6303703  -0.29382747]\n",
      "[-0.84111118 -0.04477595]\n",
      "[-0.50786901 -0.69500682]\n",
      "[-0.94560466 -0.87193736]\n",
      "[-0.06896737 -0.6975566 ]\n",
      "[-0.85049611 -0.10752524]\n",
      "[-0.80964534 -0.44611274]\n",
      "[-0.18424922 -0.24977688]\n",
      "[-0.94965056 -0.26889945]\n",
      "[-0.2135803  -0.47877333]\n",
      "[-0.17976604 -0.41672891]\n",
      "[-0.9669915 -0.5576709]\n",
      "[-0.28112421 -0.69821676]\n",
      "[-0.6901545  -0.11740332]\n",
      "[-0.50603407 -0.15907293]\n",
      "[-0.5571364 -0.7617407]\n",
      "[-0.04016442 -0.04445364]\n",
      "[-0.66234777 -0.9308627 ]\n",
      "[-0.7043242  -0.85590262]\n",
      "[-0.83877546 -0.23217118]\n",
      "[-0.03919045 -0.49011791]\n",
      "[-0.34765987 -0.68198065]\n",
      "[-0.30880146 -0.67470605]\n",
      "[-0.55266223 -0.0022652 ]\n",
      "[-0.13973789 -0.99022845]\n",
      "[-0.63788938 -0.63045921]\n",
      "[-0.7239245  -0.12702785]\n",
      "[-0.95073165 -0.44915236]\n",
      "[-0.79404272 -0.40427099]\n",
      "[-0.88572386 -0.75589713]\n",
      "[-0.12055265 -0.31298507]\n",
      "[-0.99966752 -0.42329662]\n",
      "[-0.97190419 -0.67238514]\n",
      "[-0.7064018 -0.2494991]\n",
      "[-0.61069821 -0.96097944]\n",
      "[-0.64651405 -0.22716104]\n",
      "[-0.8658398 -0.7590142]\n",
      "[-0.50374041 -0.31344794]\n",
      "[-0.33150337 -0.46978237]\n",
      "[-0.68476883 -0.81753423]\n",
      "[-0.04428447 -0.18305606]\n",
      "[-0.7582727 -0.2496131]\n",
      "[-0.44575106 -0.46274395]\n",
      "[-0.08329116 -0.38636622]\n",
      "[-0.58228077 -0.73150482]\n",
      "[-0.67531121 -0.90849772]\n",
      "[-0.66066039 -0.23881389]\n",
      "[-0.07622463 -0.93189845]\n",
      "[-0.58625847 -0.76631307]\n",
      "[-0.52963384 -0.71562673]\n",
      "[-0.6768071 -0.2027181]\n",
      "[-0.54420706 -0.17488111]\n",
      "[-0.36542956 -0.44454274]\n",
      "[-0.16779237 -0.82779748]\n",
      "[-0.00127599 -0.75855098]\n",
      "[-0.10931789 -0.0628289 ]\n",
      "[-0.10708679 -0.65084776]\n",
      "[-0.79267695 -0.00195029]\n",
      "[-0.67901127 -0.99319252]\n",
      "[-0.07666039 -0.72406377]\n",
      "[-0.73073471 -0.55645379]\n",
      "[-0.50581496 -0.11844526]\n",
      "[-0.21844365 -0.19009167]\n",
      "[-0.7666186  -0.70801946]\n",
      "[-0.77775182 -0.94494308]\n",
      "[-0.10265889 -0.01521135]\n",
      "[-0.32702483 -0.4992685 ]\n",
      "[-0.61023761 -0.22924963]\n",
      "[-0.92393324 -0.72143977]\n",
      "[-0.74675375 -0.5072773 ]\n",
      "[-0.38537396 -0.82749649]\n",
      "[-0.55556083 -0.49255911]\n",
      "[-0.0483773  -0.24030467]\n",
      "[-0.62158484 -0.25297646]\n",
      "[-0.01003364 -0.96570333]\n",
      "[-0.55578286 -0.9973921 ]\n",
      "[-0.19587448 -0.04798441]\n",
      "[-0.15280212 -0.62194656]\n",
      "[-0.84922122 -0.34813041]\n",
      "[-0.67387391 -0.382163  ]\n",
      "[-0.03735155 -0.74940078]\n",
      "[-0.71253165 -0.65222857]\n",
      "[-0.18504887 -0.95302647]\n",
      "[-0.81207598 -0.87819743]\n",
      "[-0.09441224 -0.40263106]\n",
      "[-0.0543626  -0.50403757]\n",
      "[-0.24173042 -0.17092885]\n",
      "[-0.41777478 -0.20680697]\n",
      "[-0.92315307 -0.81778031]\n",
      "[-0.16389966 -0.8920489 ]\n",
      "[-0.97175327 -0.79360452]\n",
      "[-0.80568204 -0.65556103]\n",
      "[-0.54656034 -0.02650452]\n",
      "[-0.49041253 -0.46053023]\n",
      "[-0.97517791 -0.72500888]\n",
      "[-0.87172815 -0.73140396]\n",
      "[-0.08110315 -0.13508694]\n",
      "[-0.81555698 -0.32509719]\n",
      "[-0.84214729 -0.34109795]\n",
      "[-0.62952283 -0.89570826]\n"
     ]
    }
   ],
   "source": [
    "#question 11:\n",
    "import math\n",
    "import numpy as np\n",
    "points=np.random.random((100,2))\n",
    "#print(points)\n",
    "for i in points-1:\n",
    "    print(math.sqrt(i[0]-(i+1)[0]))"
   ]
  },
  {
   "cell_type": "code",
   "execution_count": 10,
   "metadata": {},
   "outputs": [
    {
     "name": "stdout",
     "output_type": "stream",
     "text": [
      "enter order of matrix\n",
      "3\n",
      "4\n",
      "initial matrix :\n",
      " [[0.75702798 0.12983095 0.48709416 0.56173399]\n",
      " [0.14626823 0.2444499  0.49710947 0.61850307]\n",
      " [0.37611087 0.14252874 0.45646854 0.84794884]]\n",
      "enter column to be sorted 3\n",
      "matrix after sorting :\n",
      " [[0.75702798 0.12983095 0.48709416 0.56173399]\n",
      " [0.14626823 0.2444499  0.49710947 0.61850307]\n",
      " [0.37611087 0.14252874 0.45646854 0.84794884]]\n"
     ]
    }
   ],
   "source": [
    "#question 12\n",
    "import numpy as np\n",
    "print('enter order of matrix')\n",
    "n=int(input())\n",
    "m=int(input())\n",
    "arr=np.random.random((n,m))\n",
    "print('initial matrix :\\n',arr)\n",
    "#arr=[[3,4,5,3,8,3],[2,9,3,7,4,9],[4,7,1,9,3,7]]\n",
    "x=int(input('enter column index to be sorted '))\n",
    "arr = arr[arr[:,x].argsort()]\n",
    "print('matrix after sorting :\\n',arr)"
   ]
  },
  {
   "cell_type": "code",
   "execution_count": 15,
   "metadata": {},
   "outputs": [
    {
     "ename": "SyntaxError",
     "evalue": "invalid syntax (<ipython-input-15-ddbf209f61d9>, line 5)",
     "output_type": "error",
     "traceback": [
      "\u001b[1;36m  File \u001b[1;32m\"<ipython-input-15-ddbf209f61d9>\"\u001b[1;36m, line \u001b[1;32m5\u001b[0m\n\u001b[1;33m    print('sum of last 2 axis is: ',np.sum(arr[axis=(-1,-2)]))\u001b[0m\n\u001b[1;37m                                                   ^\u001b[0m\n\u001b[1;31mSyntaxError\u001b[0m\u001b[1;31m:\u001b[0m invalid syntax\n"
     ]
    }
   ],
   "source": [
    "#question 13\n",
    "import numpy as np\n",
    "arr=np.random.random((2,3,3,2))\n",
    "print(arr)\n",
    "print('sum of last 2 axis is: ',np.sum(arr[axis=(-1,-2)]))"
   ]
  },
  {
   "cell_type": "code",
   "execution_count": 17,
   "metadata": {},
   "outputs": [
    {
     "name": "stdout",
     "output_type": "stream",
     "text": [
      "1\n"
     ]
    }
   ],
   "source": [
    "#question 14:\n",
    "import numpy as np\n",
    "a = np.array([1,2,3,1,2,1,1,1,3,2,2,1])\n",
    "counts = np.bincount(a)\n",
    "print(np.argmax(counts))\n"
   ]
  }
 ],
 "metadata": {
  "kernelspec": {
   "display_name": "Python 3",
   "language": "python",
   "name": "python3"
  },
  "language_info": {
   "codemirror_mode": {
    "name": "ipython",
    "version": 3
   },
   "file_extension": ".py",
   "mimetype": "text/x-python",
   "name": "python",
   "nbconvert_exporter": "python",
   "pygments_lexer": "ipython3",
   "version": "3.6.4"
  }
 },
 "nbformat": 4,
 "nbformat_minor": 2
}
