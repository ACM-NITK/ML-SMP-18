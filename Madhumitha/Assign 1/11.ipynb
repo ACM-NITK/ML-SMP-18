{
 "cells": [
  {
   "cell_type": "code",
   "execution_count": 1,
   "metadata": {},
   "outputs": [],
   "source": [
    "import numpy as np"
   ]
  },
  {
   "cell_type": "code",
   "execution_count": 2,
   "metadata": {},
   "outputs": [],
   "source": [
    "import math"
   ]
  },
  {
   "cell_type": "code",
   "execution_count": 3,
   "metadata": {},
   "outputs": [
    {
     "name": "stdout",
     "output_type": "stream",
     "text": [
      "[[0.09461798 0.13723985]\n",
      " [0.79007417 0.22456846]\n",
      " [0.57930338 0.33295629]\n",
      " [0.04928543 0.85051978]\n",
      " [0.18768316 0.47621633]]\n"
     ]
    }
   ],
   "source": [
    "a = np.random.random((5,2))\n",
    "print(a)"
   ]
  },
  {
   "cell_type": "code",
   "execution_count": 4,
   "metadata": {},
   "outputs": [],
   "source": [
    "b = a**2"
   ]
  },
  {
   "cell_type": "code",
   "execution_count": 5,
   "metadata": {},
   "outputs": [
    {
     "name": "stdout",
     "output_type": "stream",
     "text": [
      "[[0.00895256 0.01883478]\n",
      " [0.6242172  0.050431  ]\n",
      " [0.33559241 0.11085989]\n",
      " [0.00242905 0.7233839 ]\n",
      " [0.03522497 0.22678199]]\n"
     ]
    }
   ],
   "source": [
    "print(b)"
   ]
  },
  {
   "cell_type": "code",
   "execution_count": 7,
   "metadata": {},
   "outputs": [
    {
     "name": "stdout",
     "output_type": "stream",
     "text": [
      "0.16669534957685475\n",
      "0.821369704484113\n",
      "0.6681708639130831\n",
      "0.8519465643278625\n",
      "0.5118661521002622\n"
     ]
    }
   ],
   "source": [
    "i = 0\n",
    "\n",
    "while (i<5):\n",
    "    print(math.sqrt(b[i][0] + b[i][1]))\n",
    "    i = i + 1\n"
   ]
  },
  {
   "cell_type": "code",
   "execution_count": null,
   "metadata": {},
   "outputs": [],
   "source": []
  }
 ],
 "metadata": {
  "kernelspec": {
   "display_name": "Python 3",
   "language": "python",
   "name": "python3"
  },
  "language_info": {
   "codemirror_mode": {
    "name": "ipython",
    "version": 3
   },
   "file_extension": ".py",
   "mimetype": "text/x-python",
   "name": "python",
   "nbconvert_exporter": "python",
   "pygments_lexer": "ipython3",
   "version": "3.6.4"
  }
 },
 "nbformat": 4,
 "nbformat_minor": 2
}
