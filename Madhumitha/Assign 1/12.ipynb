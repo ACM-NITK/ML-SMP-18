{
 "cells": [
  {
   "cell_type": "code",
   "execution_count": 1,
   "metadata": {},
   "outputs": [],
   "source": [
    "import numpy as np"
   ]
  },
  {
   "cell_type": "code",
   "execution_count": 2,
   "metadata": {},
   "outputs": [
    {
     "name": "stdout",
     "output_type": "stream",
     "text": [
      "[[0.92599973 0.25006254 0.2947978  0.18069982 0.87263072]\n",
      " [0.88267571 0.73237728 0.8032546  0.56871642 0.34713092]\n",
      " [0.13052877 0.74619817 0.22751923 0.48809188 0.14687185]\n",
      " [0.96245456 0.08373452 0.84644944 0.28612437 0.6546962 ]\n",
      " [0.29069959 0.68455553 0.49998185 0.96651456 0.0124093 ]]\n"
     ]
    }
   ],
   "source": [
    "a = np.random.random((5,5))\n",
    "print(a)"
   ]
  },
  {
   "cell_type": "code",
   "execution_count": 3,
   "metadata": {},
   "outputs": [],
   "source": [
    "b = np.sort(a, axis=0)"
   ]
  },
  {
   "cell_type": "code",
   "execution_count": 4,
   "metadata": {},
   "outputs": [
    {
     "name": "stdout",
     "output_type": "stream",
     "text": [
      "[[0.13052877 0.08373452 0.22751923 0.18069982 0.0124093 ]\n",
      " [0.29069959 0.25006254 0.2947978  0.28612437 0.14687185]\n",
      " [0.88267571 0.68455553 0.49998185 0.48809188 0.34713092]\n",
      " [0.92599973 0.73237728 0.8032546  0.56871642 0.6546962 ]\n",
      " [0.96245456 0.74619817 0.84644944 0.96651456 0.87263072]]\n"
     ]
    }
   ],
   "source": [
    "print(b)"
   ]
  },
  {
   "cell_type": "code",
   "execution_count": 5,
   "metadata": {},
   "outputs": [],
   "source": [
    "n = 2"
   ]
  },
  {
   "cell_type": "code",
   "execution_count": 6,
   "metadata": {},
   "outputs": [],
   "source": [
    "i = 0"
   ]
  },
  {
   "cell_type": "code",
   "execution_count": 7,
   "metadata": {},
   "outputs": [
    {
     "name": "stdout",
     "output_type": "stream",
     "text": [
      "0.22751922672066294\n",
      "0.29479779600091827\n",
      "0.49998185192161204\n",
      "0.8032546023809215\n",
      "0.8464494350344361\n"
     ]
    }
   ],
   "source": [
    "while (i<5):\n",
    "    print(b[i][n])\n",
    "    i = i + 1"
   ]
  },
  {
   "cell_type": "code",
   "execution_count": null,
   "metadata": {},
   "outputs": [],
   "source": []
  }
 ],
 "metadata": {
  "kernelspec": {
   "display_name": "Python 3",
   "language": "python",
   "name": "python3"
  },
  "language_info": {
   "codemirror_mode": {
    "name": "ipython",
    "version": 3
   },
   "file_extension": ".py",
   "mimetype": "text/x-python",
   "name": "python",
   "nbconvert_exporter": "python",
   "pygments_lexer": "ipython3",
   "version": "3.6.4"
  }
 },
 "nbformat": 4,
 "nbformat_minor": 2
}
