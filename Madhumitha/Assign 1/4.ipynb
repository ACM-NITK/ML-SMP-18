{
 "cells": [
  {
   "cell_type": "code",
   "execution_count": 1,
   "metadata": {},
   "outputs": [],
   "source": [
    "import numpy as np"
   ]
  },
  {
   "cell_type": "code",
   "execution_count": 2,
   "metadata": {},
   "outputs": [
    {
     "name": "stdout",
     "output_type": "stream",
     "text": [
      "[[0.77733147 0.1879185  0.16393933]\n",
      " [0.33163568 0.38992644 0.5305067 ]\n",
      " [0.71233989 0.96828031 0.51161643]\n",
      " [0.4076207  0.89119755 0.7817306 ]\n",
      " [0.47395589 0.62667244 0.20115892]]\n"
     ]
    }
   ],
   "source": [
    "a = np.random.random((5,3))\n",
    "print(a)"
   ]
  },
  {
   "cell_type": "code",
   "execution_count": 3,
   "metadata": {},
   "outputs": [
    {
     "name": "stdout",
     "output_type": "stream",
     "text": [
      "[[0.75122959 0.35046025]\n",
      " [0.34252476 0.87491531]\n",
      " [0.84833939 0.46792428]]\n"
     ]
    }
   ],
   "source": [
    "b = np.random.random((3,2))\n",
    "print(b)"
   ]
  },
  {
   "cell_type": "code",
   "execution_count": 8,
   "metadata": {},
   "outputs": [
    {
     "data": {
      "text/plain": [
       "array([[0.78739733, 0.51354774],\n",
       "       [0.83274373, 0.7056147 ],\n",
       "       [1.30081515, 1.33620782],\n",
       "       [1.27464682, 1.28836796],\n",
       "       [0.74135155, 0.80851515]])"
      ]
     },
     "execution_count": 8,
     "metadata": {},
     "output_type": "execute_result"
    }
   ],
   "source": [
    "np.matmul(a, b)"
   ]
  },
  {
   "cell_type": "code",
   "execution_count": null,
   "metadata": {},
   "outputs": [],
   "source": []
  }
 ],
 "metadata": {
  "kernelspec": {
   "display_name": "Python 3",
   "language": "python",
   "name": "python3"
  },
  "language_info": {
   "codemirror_mode": {
    "name": "ipython",
    "version": 3
   },
   "file_extension": ".py",
   "mimetype": "text/x-python",
   "name": "python",
   "nbconvert_exporter": "python",
   "pygments_lexer": "ipython3",
   "version": "3.6.4"
  }
 },
 "nbformat": 4,
 "nbformat_minor": 2
}
