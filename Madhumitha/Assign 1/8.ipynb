{
 "cells": [
  {
   "cell_type": "code",
   "execution_count": 6,
   "metadata": {},
   "outputs": [
    {
     "name": "stdout",
     "output_type": "stream",
     "text": [
      "[0.90445901 0.06375573 0.82778758 0.65441895 0.76007475]\n",
      "[0.90445901 0.82778758 0.76007475]\n"
     ]
    }
   ],
   "source": [
    "import numpy as np\n",
    "a = np.random.random(5)\n",
    "print(a)\n",
    "\n",
    "n = 3\n",
    "\n",
    "b = a[np.argsort(a)[-n:]]\n",
    "c = b[::-1]\n",
    "print(c)"
   ]
  },
  {
   "cell_type": "code",
   "execution_count": null,
   "metadata": {},
   "outputs": [],
   "source": []
  }
 ],
 "metadata": {
  "kernelspec": {
   "display_name": "Python 3",
   "language": "python",
   "name": "python3"
  },
  "language_info": {
   "codemirror_mode": {
    "name": "ipython",
    "version": 3
   },
   "file_extension": ".py",
   "mimetype": "text/x-python",
   "name": "python",
   "nbconvert_exporter": "python",
   "pygments_lexer": "ipython3",
   "version": "3.6.4"
  }
 },
 "nbformat": 4,
 "nbformat_minor": 2
}
