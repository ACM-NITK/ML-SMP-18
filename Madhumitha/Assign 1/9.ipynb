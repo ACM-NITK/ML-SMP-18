{
 "cells": [
  {
   "cell_type": "code",
   "execution_count": 2,
   "metadata": {},
   "outputs": [
    {
     "name": "stdout",
     "output_type": "stream",
     "text": [
      "[0.56388852 0.92231696 0.07283664 0.99312234 0.87108168]\n",
      "0.5638885151705422\n"
     ]
    }
   ],
   "source": [
    "#same as question 7\n",
    "\n",
    "import numpy as np\n",
    "\n",
    "a = np.random.random(5)\n",
    "print(a)\n",
    "\n",
    "value = 0.34\n",
    "\n",
    "index = (np.abs(a-value)).argmin()\n",
    "print(a[index])\n"
   ]
  },
  {
   "cell_type": "code",
   "execution_count": null,
   "metadata": {},
   "outputs": [],
   "source": []
  }
 ],
 "metadata": {
  "kernelspec": {
   "display_name": "Python 3",
   "language": "python",
   "name": "python3"
  },
  "language_info": {
   "codemirror_mode": {
    "name": "ipython",
    "version": 3
   },
   "file_extension": ".py",
   "mimetype": "text/x-python",
   "name": "python",
   "nbconvert_exporter": "python",
   "pygments_lexer": "ipython3",
   "version": "3.6.4"
  }
 },
 "nbformat": 4,
 "nbformat_minor": 2
}
