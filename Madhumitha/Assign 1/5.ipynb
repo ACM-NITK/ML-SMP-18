{
 "cells": [
  {
   "cell_type": "code",
   "execution_count": 1,
   "metadata": {},
   "outputs": [],
   "source": [
    "import numpy as np"
   ]
  },
  {
   "cell_type": "code",
   "execution_count": 5,
   "metadata": {},
   "outputs": [
    {
     "name": "stdout",
     "output_type": "stream",
     "text": [
      "[4.57496707 1.90052363 9.27726025 4.39302626 8.02327108 5.66708389\n",
      " 4.58847269 6.52977139 7.23135322 8.76969048]\n",
      "[4. 1. 9. 4. 8. 5. 4. 6. 7. 8.]\n",
      "[4. 1. 9. 4. 8. 5. 4. 6. 7. 8.]\n",
      "[4. 1. 9. 4. 8. 5. 4. 6. 7. 8.]\n",
      "[4. 1. 9. 4. 8. 5. 4. 6. 7. 8.]\n",
      "[4 1 9 4 8 5 4 6 7 8]\n"
     ]
    }
   ],
   "source": [
    "a = np.random.uniform(0,10,10)\n",
    "print(a)\n",
    "\n",
    "print (np.trunc(a))\n",
    "print (a - a%1)\n",
    "print (np.floor(a))\n",
    "print (np.ceil(a)-1)\n",
    "print (a.astype(int))\n",
    "\n"
   ]
  },
  {
   "cell_type": "code",
   "execution_count": null,
   "metadata": {},
   "outputs": [],
   "source": []
  }
 ],
 "metadata": {
  "kernelspec": {
   "display_name": "Python 3",
   "language": "python",
   "name": "python3"
  },
  "language_info": {
   "codemirror_mode": {
    "name": "ipython",
    "version": 3
   },
   "file_extension": ".py",
   "mimetype": "text/x-python",
   "name": "python",
   "nbconvert_exporter": "python",
   "pygments_lexer": "ipython3",
   "version": "3.6.4"
  }
 },
 "nbformat": 4,
 "nbformat_minor": 2
}
