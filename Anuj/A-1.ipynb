{
 "cells": [
  {
   "cell_type": "code",
   "execution_count": 1,
   "metadata": {},
   "outputs": [],
   "source": [
    "#importing numpy\n",
    "import numpy as np"
   ]
  },
  {
   "cell_type": "code",
   "execution_count": 10,
   "metadata": {},
   "outputs": [
    {
     "data": {
      "text/plain": [
       "array([[1., 1., 1., 1.],\n",
       "       [1., 0., 0., 1.],\n",
       "       [1., 0., 0., 1.],\n",
       "       [1., 1., 1., 1.]])"
      ]
     },
     "execution_count": 10,
     "metadata": {},
     "output_type": "execute_result"
    }
   ],
   "source": [
    "#reverse a vector\n",
    "a = np.array([1,2,3])\n",
    "a = a[::-1]\n",
    "c"
   ]
  },
  {
   "cell_type": "code",
   "execution_count": 11,
   "metadata": {},
   "outputs": [
    {
     "data": {
      "text/plain": [
       "array([[0, 1, 2],\n",
       "       [3, 4, 5],\n",
       "       [6, 7, 8]])"
      ]
     },
     "execution_count": 11,
     "metadata": {},
     "output_type": "execute_result"
    }
   ],
   "source": [
    "#3x3 matrix with values 0 to 8\n",
    "b = np.arange(0,9).reshape(3,3)\n",
    "b"
   ]
  },
  {
   "cell_type": "code",
   "execution_count": 12,
   "metadata": {},
   "outputs": [
    {
     "data": {
      "text/plain": [
       "array([[1., 1., 1., 1.],\n",
       "       [1., 0., 0., 1.],\n",
       "       [1., 0., 0., 1.],\n",
       "       [1., 1., 1., 1.]])"
      ]
     },
     "execution_count": 12,
     "metadata": {},
     "output_type": "execute_result"
    }
   ],
   "source": [
    "#2d array with 1 at boundary and 0 inside\n",
    "c = np.ones((4,4))\n",
    "c[1:-1, 1:-1]=0\n",
    "c"
   ]
  },
  {
   "cell_type": "code",
   "execution_count": 13,
   "metadata": {},
   "outputs": [
    {
     "data": {
      "text/plain": [
       "array([[ 13,  16],\n",
       "       [ 40,  52],\n",
       "       [ 67,  88],\n",
       "       [ 94, 124],\n",
       "       [121, 160]])"
      ]
     },
     "execution_count": 13,
     "metadata": {},
     "output_type": "execute_result"
    }
   ],
   "source": [
    "#multiply 5x3 matrix by 3x2 matrix\n",
    "d = np.arange(0,15).reshape(5,3)\n",
    "e = np.arange(1,7).reshape(3,2)\n",
    "f = d.dot(e)\n",
    "f"
   ]
  },
  {
   "cell_type": "code",
   "execution_count": 135,
   "metadata": {},
   "outputs": [
    {
     "name": "stdout",
     "output_type": "stream",
     "text": [
      "[ 6.  2. -5. -5.  2. -5. -3. -4.  5. -7.]\n",
      "[ 6.  2. -5. -5.  2. -5. -3. -4.  5. -7.]\n",
      "[ 6.  2. -5. -5.  2. -5. -3. -4.  5. -7.]\n",
      "[3 4 2 2 3 0 1 0 4 3]\n",
      "[3. 4. 2. 2. 3. 0. 1. 0. 4. 3.]\n"
     ]
    }
   ],
   "source": [
    "#extract integer part of random array\n",
    "m = np.random.normal(0,5,10)\n",
    "print (m - m%1)\n",
    "print (np.floor(m))\n",
    "print (np.ceil(m)-1)\n",
    "\n",
    "'''These two valid only for non-negative numbers'''\n",
    "n = np.random.uniform(0,5,10)\n",
    "print (n.astype(int))\n",
    "print (np.trunc(n))"
   ]
  },
  {
   "cell_type": "code",
   "execution_count": 16,
   "metadata": {},
   "outputs": [
    {
     "data": {
      "text/plain": [
       "False"
      ]
     },
     "execution_count": 16,
     "metadata": {},
     "output_type": "execute_result"
    }
   ],
   "source": [
    "#check whether two arrays are equal or not\n",
    "g = np.random.rand(3,3)\n",
    "h = np.random.rand(3,3)\n",
    "np.allclose(g,h)"
   ]
  },
  {
   "cell_type": "code",
   "execution_count": 45,
   "metadata": {},
   "outputs": [
    {
     "data": {
      "text/plain": [
       "0.9911035048204044"
      ]
     },
     "execution_count": 45,
     "metadata": {},
     "output_type": "execute_result"
    }
   ],
   "source": [
    "#finding nearest value in array from given value\n",
    "value = 1\n",
    "i = np.random.rand(3,3)\n",
    "x = (np.abs(i-value)).argmin()\n",
    "i.flat[x]\n"
   ]
  },
  {
   "cell_type": "code",
   "execution_count": 47,
   "metadata": {},
   "outputs": [
    {
     "data": {
      "text/plain": [
       "array([8, 7, 6])"
      ]
     },
     "execution_count": 47,
     "metadata": {},
     "output_type": "execute_result"
    }
   ],
   "source": [
    "#n greatest values of an array\n",
    "n=3\n",
    "arr = np.arange(9).reshape(3,3)\n",
    "np.random.shuffle(arr)\n",
    "arrf = arr.flat\n",
    "ind = np.argsort(arrf)\n",
    "arrf = arrf[ind]\n",
    "arrf = arrf[::-1]\n",
    "arrf[0:n]\n"
   ]
  },
  {
   "cell_type": "code",
   "execution_count": 147,
   "metadata": {},
   "outputs": [
    {
     "data": {
      "text/plain": [
       "'> find absolute difference between the given scalar and each element of the array in the form of an array. \\n> find the index of minimum difference. \\n> use it to obtain required closest value.'"
      ]
     },
     "execution_count": 147,
     "metadata": {},
     "output_type": "execute_result"
    }
   ],
   "source": [
    "#How to find the closest value (to a given scalar) in an array?\n",
    "\n",
    "'''> find absolute difference between the given scalar and each element of the array in the form of an array. \n",
    "> find the index of minimum difference. \n",
    "> use it to obtain required closest value.'''\n",
    "\n"
   ]
  },
  {
   "cell_type": "code",
   "execution_count": 77,
   "metadata": {},
   "outputs": [
    {
     "name": "stdout",
     "output_type": "stream",
     "text": [
      "[ 5  7  3 10 16 10 -1  0  5  7 -1  5  0  3 15]\n"
     ]
    }
   ],
   "source": [
    "#replace maximum value by -1\n",
    "\n",
    "j = np.random.randint(20, size=15)\n",
    "max = j.max()\n",
    "while (j.max() == max):\n",
    "    x = j.argmax()\n",
    "    j[x]=-1\n",
    "print(j)"
   ]
  },
  {
   "cell_type": "code",
   "execution_count": 150,
   "metadata": {},
   "outputs": [
    {
     "name": "stdout",
     "output_type": "stream",
     "text": [
      "[[ 0. 45. 49. ... 58. 70. 58.]\n",
      " [45.  0.  8. ... 34. 60. 84.]\n",
      " [49.  8.  0. ... 26. 53. 82.]\n",
      " ...\n",
      " [58. 34. 26. ...  0. 27. 70.]\n",
      " [70. 60. 53. ... 27.  0. 56.]\n",
      " [58. 84. 82. ... 70. 56.  0.]]\n"
     ]
    }
   ],
   "source": [
    "#point to point distances\n",
    "import math\n",
    "k = np.random.randint(5, 95, size=200).reshape(100,2)\n",
    "z = np.zeros((100,100))\n",
    "\n",
    "for x in range(0,100) :\n",
    "    for y in range(0,100) :\n",
    "        z[x,y] = np.trunc(math.sqrt(pow(k[x,0]-k[y,0],2)+pow(k[x,1]-k[y,1],2)))\n",
    "        \n",
    "print(z)"
   ]
  },
  {
   "cell_type": "code",
   "execution_count": 145,
   "metadata": {},
   "outputs": [
    {
     "name": "stdout",
     "output_type": "stream",
     "text": [
      "[[6 9 1]\n",
      " [2 6 5]\n",
      " [9 5 7]]\n"
     ]
    }
   ],
   "source": [
    "#sort an array by nth column\n",
    "p = np.random.randint(0,10,(3,3))\n",
    "x = p[:,2].argsort()\n",
    "print(p[x])"
   ]
  },
  {
   "cell_type": "code",
   "execution_count": 119,
   "metadata": {},
   "outputs": [
    {
     "name": "stdout",
     "output_type": "stream",
     "text": [
      "[[47 52 51]\n",
      " [57 52 45]\n",
      " [56 74 49]\n",
      " [42 69 39]]\n"
     ]
    }
   ],
   "source": [
    "#Sum over last two axes of a four dimensional array\n",
    "A = np.random.randint(0,10,(4,3,4,3))\n",
    "sum = A.sum(axis=(-1,-2))\n",
    "print(sum)\n"
   ]
  },
  {
   "cell_type": "code",
   "execution_count": 124,
   "metadata": {},
   "outputs": [
    {
     "name": "stdout",
     "output_type": "stream",
     "text": [
      "[10 14 14 10 13 14 11 12 11 14]\n",
      "14\n"
     ]
    }
   ],
   "source": [
    "#most frequent value in array\n",
    "l = np.random.randint(10,15,10)\n",
    "x = np.bincount(l)\n",
    "print(np.argmax(x))"
   ]
  },
  {
   "cell_type": "code",
   "execution_count": null,
   "metadata": {},
   "outputs": [],
   "source": []
  },
  {
   "cell_type": "code",
   "execution_count": null,
   "metadata": {},
   "outputs": [],
   "source": []
  }
 ],
 "metadata": {
  "kernelspec": {
   "display_name": "Python 3",
   "language": "python",
   "name": "python3"
  },
  "language_info": {
   "codemirror_mode": {
    "name": "ipython",
    "version": 3
   },
   "file_extension": ".py",
   "mimetype": "text/x-python",
   "name": "python",
   "nbconvert_exporter": "python",
   "pygments_lexer": "ipython3",
   "version": "3.6.4"
  }
 },
 "nbformat": 4,
 "nbformat_minor": 2
}
