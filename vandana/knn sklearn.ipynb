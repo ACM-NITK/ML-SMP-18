{
 "cells": [
  {
   "cell_type": "code",
   "execution_count": 67,
   "metadata": {},
   "outputs": [],
   "source": [
    "import numpy as np\n",
    "from sklearn import datasets\n",
    "iris = datasets.load_iris()"
   ]
  },
  {
   "cell_type": "code",
   "execution_count": 66,
   "metadata": {},
   "outputs": [],
   "source": [
    "iris_X = iris.data\n",
    "iris_Y = iris.target"
   ]
  },
  {
   "cell_type": "code",
   "execution_count": 94,
   "metadata": {},
   "outputs": [
    {
     "name": "stdout",
     "output_type": "stream",
     "text": [
      "[114  49 138  23   9 122 146  80  90 117 111  75 147 143  97  76 123 139\n",
      " 137  54  34 115  64  65  25 142 119  40  63  42  19 105  93  16 106  12\n",
      "  33  52  29  31  77  27  37  14  48   2  56   1 135  81  18 104 100  41\n",
      "  15 148  53  79   6  98 132  13  11  10 136  47  60  61 103 145  22 130\n",
      "  55  82 112 149  62 141 120  86  20  66  35  17  88   4  45  50  57  59\n",
      "  44  70  32  78 133 110  96  87  74  89  38  51 116  46  43   8  92 101\n",
      "  21 127 118  73  30 107 124   5   0  95  83  71 144 102 126 108  91  85\n",
      "  67   7  84  72  94 125 109  26  68  28 121   3 134  69  99  36  24  39\n",
      " 128 113 129  58 140 131]\n"
     ]
    }
   ],
   "source": [
    "# k is total number of entries selected from the end after randomly arranging them\n",
    "k = 50\n",
    "#randomly arrange the serial number total number of entries in iris\n",
    "indices = np.random.permutation(len(iris_X))\n",
    "print(indices)\n",
    "iris_X_train = iris_X[indices[:-k]]\n",
    "iris_Y_train = iris_Y[indices[:-k]]\n",
    "iris_X_test = iris_X[indices[-k:]]\n",
    "iris_Y_test = iris_Y[indices[-k:]]"
   ]
  },
  {
   "cell_type": "code",
   "execution_count": 95,
   "metadata": {},
   "outputs": [
    {
     "data": {
      "text/plain": [
       "KNeighborsClassifier(algorithm='auto', leaf_size=30, metric='minkowski',\n",
       "           metric_params=None, n_jobs=1, n_neighbors=5, p=2,\n",
       "           weights='uniform')"
      ]
     },
     "execution_count": 95,
     "metadata": {},
     "output_type": "execute_result"
    }
   ],
   "source": [
    "from sklearn.neighbors import KNeighborsClassifier\n",
    "knn =  KNeighborsClassifier()\n",
    "knn.fit(iris_X_train, iris_Y_train)"
   ]
  },
  {
   "cell_type": "code",
   "execution_count": 91,
   "metadata": {},
   "outputs": [],
   "source": [
    "def iris_actual(iris_Y_test, x):\n",
    "    if (iris_Y_test[x] == 0):\n",
    "        str = \"Iris-setosa\"\n",
    "    elif(iris_Y_test[x] == 1):\n",
    "        str = \"Iris-virginica\"\n",
    "    else:\n",
    "        str = \"Iris-virginica\"\n",
    "    return str    "
   ]
  },
  {
   "cell_type": "code",
   "execution_count": 96,
   "metadata": {},
   "outputs": [
    {
     "name": "stdout",
     "output_type": "stream",
     "text": [
      "[0 1 2 0 0 0 1 2 0 2 2 1 0 2 2 0 0 1 2 1 2 2 2 2 1 1 1 0 1 2 1 2 2 0 2 0 2\n",
      " 0 2 1 1 0 0 0 2 2 2 1 2 2]\n",
      "Predicted                  Actual\n",
      "=====================================\n",
      "Iris-setosa            Iris-setosa\n",
      "Iris-versicolor        Iris-virginica\n",
      "Iris-virginica         Iris-virginica\n",
      "Iris-setosa            Iris-setosa\n",
      "Iris-setosa            Iris-setosa\n",
      "Iris-setosa            Iris-setosa\n",
      "Iris-versicolor        Iris-virginica\n",
      "Iris-virginica         Iris-virginica\n",
      "Iris-setosa            Iris-setosa\n",
      "Iris-virginica         Iris-virginica\n",
      "Iris-virginica         Iris-virginica\n",
      "Iris-versicolor        Iris-virginica\n",
      "Iris-setosa            Iris-setosa\n",
      "Iris-virginica         Iris-virginica\n",
      "Iris-virginica         Iris-virginica\n",
      "Iris-setosa            Iris-setosa\n",
      "Iris-setosa            Iris-setosa\n",
      "Iris-versicolor        Iris-virginica\n",
      "Iris-virginica         Iris-virginica\n",
      "Iris-versicolor        Iris-virginica\n",
      "Iris-virginica         Iris-virginica\n",
      "Iris-virginica         Iris-virginica\n",
      "Iris-virginica         Iris-virginica\n",
      "Iris-virginica         Iris-virginica\n",
      "Iris-versicolor        Iris-virginica\n",
      "Iris-versicolor        Iris-virginica\n",
      "Iris-versicolor        Iris-virginica\n",
      "Iris-setosa            Iris-setosa\n",
      "Iris-versicolor        Iris-virginica\n",
      "Iris-virginica         Iris-virginica\n",
      "Iris-versicolor        Iris-virginica\n",
      "Iris-virginica         Iris-virginica\n",
      "Iris-virginica         Iris-virginica\n",
      "Iris-setosa            Iris-setosa\n",
      "Iris-virginica         Iris-virginica\n",
      "Iris-setosa            Iris-setosa\n",
      "Iris-virginica         Iris-virginica\n",
      "Iris-setosa            Iris-setosa\n",
      "Iris-virginica         Iris-virginica\n",
      "Iris-versicolor        Iris-virginica\n",
      "Iris-versicolor        Iris-virginica\n",
      "Iris-setosa            Iris-setosa\n",
      "Iris-setosa            Iris-setosa\n",
      "Iris-setosa            Iris-setosa\n",
      "Iris-virginica         Iris-virginica\n",
      "Iris-virginica         Iris-virginica\n",
      "Iris-virginica         Iris-virginica\n",
      "Iris-versicolor        Iris-virginica\n",
      "Iris-virginica         Iris-virginica\n",
      "Iris-virginica         Iris-virginica\n"
     ]
    }
   ],
   "source": [
    "targetvalue = np.array(knn.predict(iris_X_test))\n",
    "print(targetvalue)\n",
    "print(\"Predicted                  Actual\")\n",
    "print(\"=====================================\")\n",
    "for x in range(0,k):\n",
    "   if (targetvalue[x] == 0):\n",
    "    print('Iris-setosa           ',iris_actual(iris_Y_test,x))\n",
    "   elif (targetvalue[x] == 1):\n",
    "    print('Iris-versicolor       ',iris_actual(iris_Y_test,x))\n",
    "   else:\n",
    "    print('Iris-virginica        ',iris_actual(iris_Y_test,x))"
   ]
  },
  {
   "cell_type": "code",
   "execution_count": 97,
   "metadata": {},
   "outputs": [
    {
     "name": "stdout",
     "output_type": "stream",
     "text": [
      "Number of test values =  50\n",
      "Accuracy =  94.0 %\n"
     ]
    }
   ],
   "source": [
    "accuracy = 0\n",
    "\n",
    "print(\"Number of test values = \", targetvalue.shape[0])\n",
    "for x in range(0,k):\n",
    "    if(targetvalue[x] == iris_Y_test[x]):\n",
    "        accuracy += 1\n",
    "accuracypercent = accuracy/targetvalue.shape[0]\n",
    "print(\"Accuracy = \",accuracypercent*100,'%')\n",
    "    "
   ]
  }
 ],
 "metadata": {
  "kernelspec": {
   "display_name": "Python 3",
   "language": "python",
   "name": "python3"
  },
  "language_info": {
   "codemirror_mode": {
    "name": "ipython",
    "version": 3
   },
   "file_extension": ".py",
   "mimetype": "text/x-python",
   "name": "python",
   "nbconvert_exporter": "python",
   "pygments_lexer": "ipython3",
   "version": "3.6.4"
  }
 },
 "nbformat": 4,
 "nbformat_minor": 2
}
