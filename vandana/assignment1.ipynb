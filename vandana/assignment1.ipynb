{
 "cells": [
  {
   "cell_type": "code",
   "execution_count": 68,
   "metadata": {},
   "outputs": [],
   "source": [
    "import numpy as np\n"
   ]
  },
  {
   "cell_type": "code",
   "execution_count": 70,
   "metadata": {},
   "outputs": [
    {
     "data": {
      "text/plain": [
       "array([3, 2, 1])"
      ]
     },
     "execution_count": 70,
     "metadata": {},
     "output_type": "execute_result"
    }
   ],
   "source": [
    "#question 1\n",
    "p = np.array([1,2,3])\n",
    "p[: : -1]"
   ]
  },
  {
   "cell_type": "code",
   "execution_count": 82,
   "metadata": {},
   "outputs": [
    {
     "data": {
      "text/plain": [
       "array([[0, 1, 2],\n",
       "       [3, 4, 5],\n",
       "       [6, 7, 8]])"
      ]
     },
     "execution_count": 82,
     "metadata": {},
     "output_type": "execute_result"
    }
   ],
   "source": [
    "#question 2\n",
    "q = np.arange(0,9,1)\n",
    "q.resize(3,3)\n",
    "q"
   ]
  },
  {
   "cell_type": "code",
   "execution_count": 98,
   "metadata": {},
   "outputs": [
    {
     "name": "stdout",
     "output_type": "stream",
     "text": [
      "[[ 1.  2.  3.]\n",
      " [ 4.  5.  6.]\n",
      " [ 7.  8.  9.]\n",
      " [10. 11. 12.]\n",
      " [13. 14. 15.]]\n"
     ]
    }
   ],
   "source": [
    "#question5(i)\n",
    "m = np.array([[1.1,2.3,3.4], [4.5,5.6,6.7],[7.9,8.8,9.1],[10.2,11.3,12.4],[13.5,14.6,15.7]])\n",
    "print(np.trunc(m))"
   ]
  },
  {
   "cell_type": "code",
   "execution_count": 85,
   "metadata": {},
   "outputs": [
    {
     "data": {
      "text/plain": [
       "array([[ 1.,  2.,  3.],\n",
       "       [ 4.,  5.,  6.],\n",
       "       [ 7.,  8.,  9.],\n",
       "       [10., 11., 12.],\n",
       "       [13., 14., 15.]])"
      ]
     },
     "execution_count": 85,
     "metadata": {},
     "output_type": "execute_result"
    }
   ],
   "source": [
    "#question 5(ii)\n",
    "m = np.array([[1.1,2.3,3.4], [4.5,5.6,6.7],[7.9,8.8,9.1],[10.2,11.3,12.4],[13.5,14.6,15.7]]) \n",
    "m = m-m%1"
   ]
  },
  {
   "cell_type": "code",
   "execution_count": 96,
   "metadata": {},
   "outputs": [
    {
     "name": "stdout",
     "output_type": "stream",
     "text": [
      "[[ 1.  2.  3.]\n",
      " [ 4.  5.  6.]\n",
      " [ 7.  8.  9.]\n",
      " [10. 11. 12.]\n",
      " [13. 14. 15.]]\n"
     ]
    }
   ],
   "source": [
    "#question 5(iii)\n",
    "m = np.array([[1.1,2.3,3.4], [4.5,5.6,6.7],[7.9,8.8,9.1],[10.2,11.3,12.4],[13.5,14.6,15.7]])\n",
    "print(np.floor(m))\n",
    "\n"
   ]
  },
  {
   "cell_type": "code",
   "execution_count": 97,
   "metadata": {},
   "outputs": [
    {
     "name": "stdout",
     "output_type": "stream",
     "text": [
      "[[ 1.  2.  3.]\n",
      " [ 4.  5.  6.]\n",
      " [ 7.  8.  9.]\n",
      " [10. 11. 12.]\n",
      " [13. 14. 15.]]\n"
     ]
    }
   ],
   "source": [
    "#question 5(iv)\n",
    "m = np.array([[1.1,2.3,3.4], [4.5,5.6,6.7],[7.9,8.8,9.1],[10.2,11.3,12.4],[13.5,14.6,15.7]])\n",
    "print(np.ceil(m) - 1)\n"
   ]
  },
  {
   "cell_type": "code",
   "execution_count": 99,
   "metadata": {},
   "outputs": [
    {
     "data": {
      "text/plain": [
       "False"
      ]
     },
     "execution_count": 99,
     "metadata": {},
     "output_type": "execute_result"
    }
   ],
   "source": [
    "#question 6\n",
    "a = np.random.random((2,2))\n",
    "b = np.random.random((2,2))\n",
    "np.array_equal(a,b)"
   ]
  },
  {
   "cell_type": "code",
   "execution_count": 69,
   "metadata": {},
   "outputs": [
    {
     "name": "stdout",
     "output_type": "stream",
     "text": [
      "[[ 1  2  3]\n",
      " [ 4  5  6]\n",
      " [ 7  8  9]\n",
      " [10 11 12]\n",
      " [13 14 15]]\n",
      "[[1 2]\n",
      " [3 4]\n",
      " [5 6]]\n",
      "[[ 22  28]\n",
      " [ 49  64]\n",
      " [ 76 100]\n",
      " [103 136]\n",
      " [130 172]]\n"
     ]
    }
   ],
   "source": [
    "#question 4\n",
    "a = np.array([[1,2,3], [4,5,6],[7,8,9],[10,11,12],[13,14,15]])\n",
    "print(a)\n",
    "b = np.array([[1,2],[3,4],[5,6]])\n",
    "print(b)\n",
    "\n",
    "t = np.arange(0,3,1)\n",
    "\n",
    "m = np.array([[np.sum(a[0,t] * b[t,0]), np.sum(a[0,t] * b[t,1])],[np.sum(a[1,t] * b[t,0]), np.sum(a[1,t] * b[t,1])],[np.sum(a[2,t] * b[t,0]), np.sum(a[2,t] * b[t,1])],[np.sum(a[3,t] * b[t,0]), np.sum(a[3,t] * b[t,1])],[np.sum(a[4,t] * b[t,0]), np.sum(a[4,t] * b[t,1])]])\n",
    "print(m)"
   ]
  },
  {
   "cell_type": "code",
   "execution_count": 110,
   "metadata": {},
   "outputs": [
    {
     "name": "stdout",
     "output_type": "stream",
     "text": [
      "[[0.08940007 0.37637719]\n",
      " [0.6382021  0.52923088]]\n"
     ]
    },
    {
     "data": {
      "text/plain": [
       "0.6382021019798774"
      ]
     },
     "execution_count": 110,
     "metadata": {},
     "output_type": "execute_result"
    }
   ],
   "source": [
    "#question 9\n",
    "i = 1.0\n",
    "j = np.random.random((2,2))\n",
    "print(j)\n",
    "j = j - i\n",
    "j.max() + i"
   ]
  },
  {
   "cell_type": "code",
   "execution_count": 120,
   "metadata": {},
   "outputs": [
    {
     "name": "stdout",
     "output_type": "stream",
     "text": [
      "[[0.63300983 0.71100691 0.90901328 0.07224089 0.47385058 0.42157983]]\n",
      "[[0.07224089 0.42157983 0.47385058 0.63300983 0.71100691 0.90901328]]\n",
      "[[0.47385058 0.63300983 0.71100691 0.90901328]]\n"
     ]
    }
   ],
   "source": [
    "#question 8\n",
    "k = np.random.random((1,6))\n",
    "print(k)\n",
    "k.sort()\n",
    "print(k)\n",
    "n = 4\n",
    "print(k[:1, 2:])  #prints n = 4 greatest values"
   ]
  },
  {
   "cell_type": "code",
   "execution_count": 129,
   "metadata": {},
   "outputs": [
    {
     "name": "stdout",
     "output_type": "stream",
     "text": [
      "[0.244275   0.39647265 0.15648258 0.8287738  0.46800873 0.89393455\n",
      " 0.16401717 0.49686409 0.19427393 0.84822554 0.55143347 0.30261936\n",
      " 0.8950664  0.27650131 0.89370215]\n",
      "[ 0.244275    0.39647265  0.15648258  0.8287738   0.46800873  0.89393455\n",
      "  0.16401717  0.49686409  0.19427393  0.84822554  0.55143347  0.30261936\n",
      " -1.          0.27650131  0.89370215]\n"
     ]
    }
   ],
   "source": [
    "#question 10\n",
    "l = np.random.random(15)\n",
    "print(l)\n",
    "l[l.argmax()] = -1\n",
    "print(l)"
   ]
  },
  {
   "cell_type": "code",
   "execution_count": 134,
   "metadata": {},
   "outputs": [
    {
     "name": "stdout",
     "output_type": "stream",
     "text": [
      "[[0.1388756  0.34442969 0.15938605]\n",
      " [0.07620905 0.63740081 0.75099516]\n",
      " [0.37416328 0.48291328 0.0863458 ]]\n",
      "[[0.1388756  0.34442969 0.15938605]\n",
      " [0.07620905 0.63740081 0.75099516]\n",
      " [0.37416328 0.48291328 0.0863458 ]]\n"
     ]
    }
   ],
   "source": [
    "#question 11\n",
    "a = np.random.random((3,3))\n",
    "print(a)\n",
    "a[a[:,1].argsort()]\n",
    "print(a)"
   ]
  },
  {
   "cell_type": "code",
   "execution_count": 127,
   "metadata": {},
   "outputs": [
    {
     "name": "stdout",
     "output_type": "stream",
     "text": [
      "1\n"
     ]
    }
   ],
   "source": [
    "#question 14\n",
    "a = np.array([1,2,3,1,2,1,1,1,3,2,2,1])\n",
    "counts = np.bincount(a)\n",
    "print(np.argmax(counts))\n"
   ]
  }
 ],
 "metadata": {
  "kernelspec": {
   "display_name": "Python 3",
   "language": "python",
   "name": "python3"
  },
  "language_info": {
   "codemirror_mode": {
    "name": "ipython",
    "version": 3
   },
   "file_extension": ".py",
   "mimetype": "text/x-python",
   "name": "python",
   "nbconvert_exporter": "python",
   "pygments_lexer": "ipython3",
   "version": "3.6.4"
  }
 },
 "nbformat": 4,
 "nbformat_minor": 2
}
