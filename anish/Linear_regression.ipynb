{
 "cells": [
  {
   "cell_type": "code",
   "execution_count": 22,
   "metadata": {},
   "outputs": [],
   "source": [
    "#function to calculate H(x)= b + W*x\n",
    "\n",
    "def Hypothesis(theta,x):\n",
    "    return x@theta"
   ]
  },
  {
   "cell_type": "code",
   "execution_count": 23,
   "metadata": {},
   "outputs": [],
   "source": [
    "#function to calculate cost function j(b,w)=(1/2m)*summation(H(x)-Y)\n",
    "\n",
    "def Cost_Function(X,Y,theta,m):\n",
    "    term=(Hypothesis(theta,X) - Y )\n",
    "    return (1/(2*m)) * sum(term*term)"
   ]
  },
  {
   "cell_type": "code",
   "execution_count": 24,
   "metadata": {},
   "outputs": [],
   "source": [
    "#function to calculate derivate of cost function wrt theta(i.e. b,w1,w2...)\n",
    "\n",
    "def Cost_Function_Derivative(X,Y,theta,j,m):\n",
    "    term =(Hypothesis(theta,X) - Y )\n",
    "    return (1/m ) * ( X.T@term.T)"
   ]
  },
  {
   "cell_type": "code",
   "execution_count": 44,
   "metadata": {},
   "outputs": [],
   "source": [
    "#gradient descent function, W = W - dj/dW (to be done for all coefficients)\n",
    "\n",
    "def Gradient_Descent(X,Y,theta, m, alpha):\n",
    "    newtheta = theta - alpha*(Cost_Function_Derivative(X,Y,theta,Cost_Function(X,Y,theta,m),m))\n",
    "    return newtheta\n",
    "\n"
   ]
  },
  {
   "cell_type": "code",
   "execution_count": 38,
   "metadata": {},
   "outputs": [],
   "source": [
    "#function for linear regression, for x varies from 0 to num_iters-1, theta is upadted by gradient descent \n",
    "#  and print new_theta once in 100 iterations\n",
    "\n",
    "def Linear_Regression(X,Y,alpha,theta,num_iters):\n",
    "    m = len(X)\n",
    "    for x in range(num_iters):\n",
    "        new_theta = Gradient_Descent(X,Y,theta, m, alpha)\n",
    "        theta = new_theta\n",
    "        if x % 100 == 0:\n",
    "            print( 'theta ', theta)\n",
    "            print( 'cost is ', Cost_Function(X,Y,theta,m))\n",
    "    return new_theta"
   ]
  },
  {
   "cell_type": "code",
   "execution_count": 39,
   "metadata": {},
   "outputs": [],
   "source": [
    "import numpy as np\n",
    "\n",
    "Y= np.array([19, 20, 20.5, 21.5, 22, 23, 23, 25.5, 24])\n",
    "X = np.array([[1,1],[1,2],[1,3],[1,4],[1,5],[1,6],[1,7],[1,8],[1,9]])\n"
   ]
  },
  {
   "cell_type": "code",
   "execution_count": 48,
   "metadata": {},
   "outputs": [
    {
     "name": "stdout",
     "output_type": "stream",
     "text": [
      "theta  [ 2.20555556 11.50555556]\n",
      "cost is  1097.969300411522\n",
      "theta  [1.76948715e+35 1.11340710e+36]\n",
      "cost is  2.062892873903477e+73\n",
      "theta  [2.46220613e+70 1.54928381e+71]\n",
      "cost is  3.99420790256014e+143\n",
      "theta  [3.42611080e+105 2.15579758e+106]\n",
      "cost is  7.733652566594864e+213\n",
      "theta  [4.76736496e+140 2.99974940e+141]\n",
      "cost is  1.497402826289127e+284\n",
      "theta  [6.63369340e+175 4.17409155e+176]\n",
      "cost is  inf\n",
      "theta  [9.23065226e+210 5.80816527e+211]\n",
      "cost is  inf\n",
      "theta  [1.28442688e+246 8.08194631e+246]\n",
      "cost is  inf\n",
      "theta  [1.78725443e+281 1.12458674e+282]\n",
      "cost is  inf\n",
      "theta  [nan nan]\n",
      "cost is  nan\n",
      "theta  [nan nan]\n",
      "cost is  nan\n",
      "theta  [nan nan]\n",
      "cost is  nan\n",
      "theta  [nan nan]\n",
      "cost is  nan\n",
      "theta  [nan nan]\n",
      "cost is  nan\n",
      "theta  [nan nan]\n",
      "cost is  nan\n",
      "theta  [nan nan]\n",
      "cost is  nan\n",
      "theta  [nan nan]\n",
      "cost is  nan\n",
      "theta  [nan nan]\n",
      "cost is  nan\n",
      "theta  [nan nan]\n",
      "cost is  nan\n",
      "theta  [nan nan]\n",
      "cost is  nan\n",
      "new theta =   [nan nan]\n",
      "obtained values : [nan nan nan nan nan nan nan nan nan]\n"
     ]
    },
    {
     "name": "stderr",
     "output_type": "stream",
     "text": [
      "/home/anish/anaconda3/lib/python3.6/site-packages/ipykernel_launcher.py:4: RuntimeWarning: overflow encountered in double_scalars\n",
      "  after removing the cwd from sys.path.\n",
      "/home/anish/anaconda3/lib/python3.6/site-packages/ipykernel_launcher.py:4: RuntimeWarning: overflow encountered in multiply\n",
      "  after removing the cwd from sys.path.\n",
      "/home/anish/anaconda3/lib/python3.6/site-packages/ipykernel_launcher.py:4: RuntimeWarning: invalid value encountered in subtract\n",
      "  after removing the cwd from sys.path.\n"
     ]
    }
   ],
   "source": [
    "#for alpha =0.1 -> large alpha - overshoot condition \n",
    "alpha=0.1\n",
    "theta = np.array([0,0])\n",
    "num_iters =2000\n",
    "nt =Linear_Regression(X,Y,alpha,theta,num_iters)\n",
    "print( 'new theta =  ' ,nt)\n",
    "print( 'obtained values :' ,Hypothesis(nt,X))"
   ]
  },
  {
   "cell_type": "code",
   "execution_count": 49,
   "metadata": {},
   "outputs": [
    {
     "name": "stdout",
     "output_type": "stream",
     "text": [
      "theta  [1.10277778 5.75277778]\n",
      "cost is  115.20953189300405\n",
      "theta  [12.15900593  1.71999735]\n",
      "cost is  4.357532265502036\n",
      "theta  [16.22325148  1.07408533]\n",
      "cost is  0.6939121326648504\n",
      "theta  [17.6710665   0.84399069]\n",
      "cost is  0.22899375961511234\n",
      "theta  [18.18682478  0.76202358]\n",
      "cost is  0.16999498633568255\n",
      "theta  [18.37055447  0.73282426]\n",
      "cost is  0.16250796183793184\n",
      "theta  [18.4360049   0.72242252]\n",
      "cost is  0.16155784825566397\n",
      "theta  [18.45932045  0.71871709]\n",
      "cost is  0.16143727755104306\n",
      "theta  [18.46762619  0.71739709]\n",
      "cost is  0.16142197696479327\n",
      "theta  [18.47058497  0.71692687]\n",
      "cost is  0.16142003529960738\n",
      "theta  [18.47163898  0.71675936]\n",
      "cost is  0.16141978889965689\n",
      "theta  [18.47201445  0.71669969]\n",
      "cost is  0.1614197576311682\n",
      "theta  [18.47214821  0.71667843]\n",
      "cost is  0.16141975366315478\n",
      "theta  [18.47219586  0.71667086]\n",
      "cost is  0.16141975315960758\n",
      "theta  [18.47221283  0.71666816]\n",
      "cost is  0.16141975309570744\n",
      "theta  [18.47221888  0.7166672 ]\n",
      "cost is  0.16141975308759834\n",
      "theta  [18.47222103  0.71666686]\n",
      "cost is  0.16141975308656922\n",
      "theta  [18.4722218   0.71666673]\n",
      "cost is  0.16141975308643908\n",
      "theta  [18.47222207  0.71666669]\n",
      "cost is  0.1614197530864219\n",
      "theta  [18.47222217  0.71666668]\n",
      "cost is  0.16141975308642004\n",
      "new theta =  [18.4722222   0.71666667]\n",
      "obtained values :  [19.18888887 19.90555554 20.62222221 21.33888888 22.05555555 22.77222222\n",
      " 23.48888889 24.20555556 24.92222223]\n"
     ]
    }
   ],
   "source": [
    "#for alpha =0.05\n",
    "alpha=0.05\n",
    "theta = np.array([0,0])\n",
    "num_iters =2000\n",
    "nt =Linear_Regression(X,Y,alpha,theta,num_iters)\n",
    "print( 'new theta = ' ,nt)\n",
    "print( 'obtained values : ' ,Hypothesis(nt,X))"
   ]
  },
  {
   "cell_type": "code",
   "execution_count": 50,
   "metadata": {},
   "outputs": [
    {
     "name": "stdout",
     "output_type": "stream",
     "text": [
      "theta  [0.22055556 1.15055556]\n",
      "cost is  130.10788744855967\n",
      "theta  [3.92354946 3.0288209 ]\n",
      "cost is  22.44538837909337\n",
      "theta  [6.62710427 2.59915726]\n",
      "cost is  14.932918667326838\n",
      "theta  [8.82826214 2.24933727]\n",
      "cost is  9.95308585329598\n",
      "theta  [10.62038264  1.96452373]\n",
      "cost is  6.652076224351063\n",
      "theta  [12.07947647  1.7326366 ]\n",
      "cost is  4.463917509527264\n",
      "theta  [13.2674294   1.54384066]\n",
      "cost is  3.013440504166429\n",
      "theta  [14.23462709  1.39012834]\n",
      "cost is  2.051954699307909\n",
      "theta  [15.0220921   1.26498012]\n",
      "cost is  1.4146092263857408\n",
      "theta  [15.66322384  1.16308797]\n",
      "cost is  0.9921284681657546\n",
      "theta  [16.18521517  1.08013027]\n",
      "cost is  0.7120762850886927\n",
      "theta  [16.61020575  1.01258846]\n",
      "cost is  0.5264365281997294\n",
      "theta  [16.95622107  0.95759782]\n",
      "cost is  0.40338046429354074\n",
      "theta  [17.23793695  0.912826  ]\n",
      "cost is  0.3218096029766952\n",
      "theta  [17.46730206  0.87637405]\n",
      "cost is  0.2677382699211796\n",
      "theta  [17.65404464  0.8466959 ]\n",
      "cost is  0.23189570296526774\n",
      "theta  [17.80608517  0.82253279]\n",
      "cost is  0.20813654014474015\n",
      "theta  [17.92987227  0.80285987]\n",
      "cost is  0.19238717100422245\n",
      "theta  [18.03065623  0.78684274]\n",
      "cost is  0.18194729859803144\n",
      "theta  [18.11271168  0.77380204]\n",
      "cost is  0.17502696198739268\n",
      "new theta =  [18.17891653  0.7632804 ]\n",
      "obttained values :  [18.94219694 19.70547734 20.46875774 21.23203814 21.99531855 22.75859895\n",
      " 23.52187935 24.28515975 25.04844016]\n"
     ]
    }
   ],
   "source": [
    "#for alpha =0.01 -> gives more precise theta\n",
    "alpha=0.01\n",
    "theta = np.array([0,0])\n",
    "num_iters =2000\n",
    "nt =Linear_Regression(X,Y,alpha,theta,num_iters)\n",
    "print( 'new theta = ' ,nt)\n",
    "print( 'obttained values : ' ,Hypothesis(nt,X))"
   ]
  },
  {
   "cell_type": "code",
   "execution_count": null,
   "metadata": {},
   "outputs": [],
   "source": []
  },
  {
   "cell_type": "code",
   "execution_count": null,
   "metadata": {},
   "outputs": [],
   "source": []
  }
 ],
 "metadata": {
  "kernelspec": {
   "display_name": "Python 3",
   "language": "python",
   "name": "python3"
  },
  "language_info": {
   "codemirror_mode": {
    "name": "ipython",
    "version": 3
   },
   "file_extension": ".py",
   "mimetype": "text/x-python",
   "name": "python",
   "nbconvert_exporter": "python",
   "pygments_lexer": "ipython3",
   "version": "3.6.4"
  }
 },
 "nbformat": 4,
 "nbformat_minor": 2
}
