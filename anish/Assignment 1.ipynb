{
 "cells": [
  {
   "cell_type": "code",
   "execution_count": 1,
   "metadata": {},
   "outputs": [],
   "source": [
    "import numpy as np"
   ]
  },
  {
   "cell_type": "code",
   "execution_count": 5,
   "metadata": {},
   "outputs": [
    {
     "name": "stdout",
     "output_type": "stream",
     "text": [
      "[1 2 3]\n",
      "[3 2 1]\n"
     ]
    }
   ],
   "source": [
    "#1 reversing a vector\n",
    "a=np.array([1,2,3])\n",
    "print (a)\n",
    "b=a[::-1]\n",
    "print (b)"
   ]
  },
  {
   "cell_type": "code",
   "execution_count": 34,
   "metadata": {},
   "outputs": [
    {
     "name": "stdout",
     "output_type": "stream",
     "text": [
      "[[0 1 2]\n",
      " [3 4 5]\n",
      " [6 7 8]]\n"
     ]
    }
   ],
   "source": [
    "#2  3x3 matrix\n",
    "b=np.arange(9).reshape(3,3)\n",
    "print (b)"
   ]
  },
  {
   "cell_type": "code",
   "execution_count": 39,
   "metadata": {},
   "outputs": [
    {
     "name": "stdout",
     "output_type": "stream",
     "text": [
      "Enter array size8\n",
      "[[1 1 1 1 1 1 1 1]\n",
      " [1 0 0 0 0 0 0 1]\n",
      " [1 0 0 0 0 0 0 1]\n",
      " [1 0 0 0 0 0 0 1]\n",
      " [1 0 0 0 0 0 0 1]\n",
      " [1 0 0 0 0 0 0 1]\n",
      " [1 0 0 0 0 0 0 1]\n",
      " [1 1 1 1 1 1 1 1]]\n"
     ]
    }
   ],
   "source": [
    "#3 2D array with 1 on border , 0 inisde\n",
    "a=input(\"Enter array size\")\n",
    "c=np.ones((int(a),int(a)),dtype=np.int16)\n",
    "c[1:-1,1:-1]=0\n",
    "print (c)"
   ]
  },
  {
   "cell_type": "code",
   "execution_count": 12,
   "metadata": {},
   "outputs": [
    {
     "name": "stdout",
     "output_type": "stream",
     "text": [
      "[[ 22  28]\n",
      " [ 31  40]\n",
      " [ 49  64]\n",
      " [ 58  76]\n",
      " [ 76 100]]\n"
     ]
    }
   ],
   "source": [
    "#4 matrix multiplication\n",
    "d=np.array([[1,2,3],[2,3,4],[4,5,6],[5,6,7],[7,8,9]])\n",
    "e=np.array([[1,2],[3,4],[5,6]])\n",
    "print (np.dot(d,e))"
   ]
  },
  {
   "cell_type": "code",
   "execution_count": 42,
   "metadata": {},
   "outputs": [
    {
     "name": "stdout",
     "output_type": "stream",
     "text": [
      "[1.79150327 4.76961214 0.13186952 6.22461576 1.35134908 5.82826455\n",
      " 4.50473779 9.14945455 1.38013266 0.97395993]\n",
      "[1. 4. 0. 6. 1. 5. 4. 9. 1. 0.]\n",
      "[1. 4. 0. 6. 1. 5. 4. 9. 1. 0.]\n",
      "[1. 4. 0. 6. 1. 5. 4. 9. 1. 0.]\n",
      "[1 4 0 6 1 5 4 9 1 0]\n",
      "[1. 4. 0. 6. 1. 5. 4. 9. 1. 0.]\n"
     ]
    }
   ],
   "source": [
    "#5 extracting the integer part of a matrix\n",
    "Z = np.random.uniform(0,10,10)\n",
    "print (Z)\n",
    "print (Z - Z%1)\n",
    "print (np.floor(Z))\n",
    "print (np.ceil(Z)-1)\n",
    "print (Z.astype(int))\n",
    "print (np.trunc(Z))\n"
   ]
  },
  {
   "cell_type": "code",
   "execution_count": 15,
   "metadata": {},
   "outputs": [
    {
     "name": "stdout",
     "output_type": "stream",
     "text": [
      "arrays are not equal\n"
     ]
    }
   ],
   "source": [
    "#6 check equality of 2 random arrays\n",
    "a=np.random.random((2,2))\n",
    "b=np.random.random((2,2))\n",
    "if np.array_equal(a,b):\n",
    "    print (\"the arrays are equal\")\n",
    "else :\n",
    "    print (\"arrays are not equal\")\n",
    "  "
   ]
  },
  {
   "cell_type": "code",
   "execution_count": 52,
   "metadata": {},
   "outputs": [
    {
     "name": "stdout",
     "output_type": "stream",
     "text": [
      "[0.46330811 0.79094339 0.43741449 0.3933317  0.27044666 0.36286176\n",
      " 0.77413619 0.89895954 0.34750933 0.97976812]\n",
      "0.4633081060700275\n"
     ]
    }
   ],
   "source": [
    "#7 check nearest value\n",
    "Z = np.random.uniform(0,1,10)\n",
    "print (Z)\n",
    "z = 0.5\n",
    "m = Z.flat[np.abs(Z - z).argmin()]\n",
    "print(m)"
   ]
  },
  {
   "cell_type": "code",
   "execution_count": 57,
   "metadata": {},
   "outputs": [
    {
     "name": "stdout",
     "output_type": "stream",
     "text": [
      "[8985 8256 1958 ... 9536 4403 5483]\n",
      "[9995 9996 9997 9998 9999]\n",
      "[9996 9997 9998 9999 9995]\n"
     ]
    }
   ],
   "source": [
    "#8 n largest values of array\n",
    "Z = np.arange(10000)\n",
    "np.random.shuffle(Z)\n",
    "n = 5\n",
    "print(Z)\n",
    "\n",
    "# Slow\n",
    "print (Z[np.argsort(Z)[-n:]])\n",
    "\n",
    "# Fast\n",
    "print (Z[np.argpartition(-Z,n)[:n]])"
   ]
  },
  {
   "cell_type": "code",
   "execution_count": 59,
   "metadata": {},
   "outputs": [
    {
     "name": "stdout",
     "output_type": "stream",
     "text": [
      "[ 0  1  2  3  4  5  6  7  8  9 10 11 12 13 14 15 16 17 18 19 20 21 22 23\n",
      " 24 25 26 27 28 29 30 31 32 33 34 35 36 37 38 39 40 41 42 43 44 45 46 47\n",
      " 48 49 50 51 52 53 54 55 56 57 58 59 60 61 62 63 64 65 66 67 68 69 70 71\n",
      " 72 73 74 75 76 77 78 79 80 81 82 83 84 85 86 87 88 89 90 91 92 93 94 95\n",
      " 96 97 98 99]\n",
      "82.25300899092824\n",
      "82\n"
     ]
    }
   ],
   "source": [
    "#9 closest value to given scalar\n",
    "Z = np.arange(100)\n",
    "print (Z)\n",
    "v = np.random.uniform(0,100)\n",
    "print (v)\n",
    "index = (np.abs(Z-v)).argmin()\n",
    "print(Z[index])\n"
   ]
  },
  {
   "cell_type": "code",
   "execution_count": 58,
   "metadata": {},
   "outputs": [
    {
     "name": "stdout",
     "output_type": "stream",
     "text": [
      "[0.9820089  0.33225098 0.14088192 0.23972065 0.2097106  0.29493173\n",
      " 0.55707467 0.03868857 0.33203945 0.54955241 0.64825722 0.18583143\n",
      " 0.6216062  0.8791643  0.89081135]\n",
      "[-1.          0.33225098  0.14088192  0.23972065  0.2097106   0.29493173\n",
      "  0.55707467  0.03868857  0.33203945  0.54955241  0.64825722  0.18583143\n",
      "  0.6216062   0.8791643   0.89081135]\n"
     ]
    }
   ],
   "source": [
    "#10 replace maximum by -1\n",
    "a=np.random.random(15)\n",
    "print (a)\n",
    "a[a.argmax()]=-1\n",
    "print (a)"
   ]
  },
  {
   "cell_type": "code",
   "execution_count": 49,
   "metadata": {},
   "outputs": [
    {
     "name": "stdout",
     "output_type": "stream",
     "text": [
      "[[0.         0.167936   0.38003125 0.41591376 0.59780834 0.54202836\n",
      "  0.12450123 0.62291814 0.35963342 0.71227215]\n",
      " [0.167936   0.         0.2358878  0.33885103 0.46955645 0.40772637\n",
      "  0.14063486 0.50759261 0.52640069 0.56838764]\n",
      " [0.38003125 0.2358878  0.         0.1972011  0.23652083 0.17279927\n",
      "  0.37596808 0.57193508 0.71144002 0.33400832]\n",
      " [0.41591376 0.33885103 0.1972011  0.         0.23477631 0.21171758\n",
      "  0.46755818 0.76410561 0.67223085 0.37544949]\n",
      " [0.59780834 0.46955645 0.23652083 0.23477631 0.         0.06579374\n",
      "  0.61019106 0.74683003 0.89542851 0.14164005]\n",
      " [0.54202836 0.40772637 0.17279927 0.21171758 0.06579374 0.\n",
      "  0.54821139 0.686998   0.85119296 0.17520387]\n",
      " [0.12450123 0.14063486 0.37596808 0.46755818 0.61019106 0.54821139\n",
      "  0.         0.50327119 0.45388469 0.70679762]\n",
      " [0.62291814 0.50759261 0.57193508 0.76410561 0.74683003 0.686998\n",
      "  0.50327119 0.         0.94611245 0.75102873]\n",
      " [0.35963342 0.52640069 0.71144002 0.67223085 0.89542851 0.85119296\n",
      "  0.45388469 0.94611245 0.         1.02639627]\n",
      " [0.71227215 0.56838764 0.33400832 0.37544949 0.14164005 0.17520387\n",
      "  0.70679762 0.75102873 1.02639627 0.        ]]\n",
      "[[0.         0.3749425  0.70444387 0.09900243 0.24915042 0.89702612\n",
      "  0.33582965 0.71693007 0.54829922 0.82866886]\n",
      " [0.3749425  0.         0.36668663 0.31032535 0.18657387 0.67455372\n",
      "  0.12836541 0.34305119 0.35508024 0.48666312]\n",
      " [0.70444387 0.36668663 0.         0.66254137 0.45906918 0.83223216\n",
      "  0.48520712 0.18628759 0.62228784 0.12424207]\n",
      " [0.09900243 0.31032535 0.66254137 0.         0.23331619 0.7980237\n",
      "  0.24810703 0.6523666  0.44949439 0.78611111]\n",
      " [0.24915042 0.18657387 0.45906918 0.23331619 0.         0.84173789\n",
      "  0.24163658 0.49738306 0.50165822 0.58287951]\n",
      " [0.89702612 0.67455372 0.83223216 0.7980237  0.84173789 0.\n",
      "  0.60365421 0.6545308  0.3509917  0.88278509]\n",
      " [0.33582965 0.12836541 0.48520712 0.24810703 0.24163658 0.60365421\n",
      "  0.         0.42771379 0.26005192 0.60076412]\n",
      " [0.71693007 0.34305119 0.18628759 0.6523666  0.49738306 0.6545308\n",
      "  0.42771379 0.         0.48903288 0.2322926 ]\n",
      " [0.54829922 0.35508024 0.62228784 0.44949439 0.50165822 0.3509917\n",
      "  0.26005192 0.48903288 0.         0.71241556]\n",
      " [0.82866886 0.48666312 0.12424207 0.78611111 0.58287951 0.88278509\n",
      "  0.60076412 0.2322926  0.71241556 0.        ]]\n"
     ]
    }
   ],
   "source": [
    "#11 100 points and distances between them\n",
    "Z = np.random.random((10,2))\n",
    "X,Y = np.atleast_2d(Z[:,0], Z[:,1])\n",
    "D = np.sqrt( (X-X.T)**2 + (Y-Y.T)**2)\n",
    "print(D)\n",
    "\n",
    "# Much faster with scipy\n",
    "import scipy\n",
    "# Thanks Gavin Heverly-Coulson (#issue 1)\n",
    "import scipy.spatial\n",
    "\n",
    "Z = np.random.random((10,2))\n",
    "D = scipy.spatial.distance.cdist(Z,Z)\n",
    "print(D)"
   ]
  },
  {
   "cell_type": "code",
   "execution_count": 25,
   "metadata": {},
   "outputs": [
    {
     "name": "stdout",
     "output_type": "stream",
     "text": [
      "[[0.32173992 0.0751588  0.15005538 0.39260972]\n",
      " [0.47704628 0.65623072 0.87661249 0.89650923]\n",
      " [0.34209015 0.16853852 0.23601517 0.58107085]]\n",
      "[[0.32173992 0.0751588  0.15005538 0.39260972]\n",
      " [0.34209015 0.16853852 0.23601517 0.58107085]\n",
      " [0.47704628 0.65623072 0.87661249 0.89650923]]\n"
     ]
    }
   ],
   "source": [
    "# 12. sort nth column\n",
    "a=np.random.random((3,4))\n",
    "print (a)\n",
    "a.sort(axis=0)\n",
    "print (a)"
   ]
  },
  {
   "cell_type": "code",
   "execution_count": 50,
   "metadata": {},
   "outputs": [
    {
     "name": "stdout",
     "output_type": "stream",
     "text": [
      "[[1 4 2]\n",
      " [7 2 6]\n",
      " [7 1 9]]\n",
      "[[7 1 9]\n",
      " [7 2 6]\n",
      " [1 4 2]]\n"
     ]
    }
   ],
   "source": [
    "#12 Sort by nth column\n",
    "Z = np.random.randint(0,10,(3,3))\n",
    "print(Z)\n",
    "print(Z[Z[:,1].argsort()])"
   ]
  },
  {
   "cell_type": "code",
   "execution_count": 60,
   "metadata": {},
   "outputs": [
    {
     "name": "stdout",
     "output_type": "stream",
     "text": [
      "[[77 46 41 54]\n",
      " [45 58 54 59]\n",
      " [49 33 60 46]]\n",
      "[[77 46 41 54]\n",
      " [45 58 54 59]\n",
      " [49 33 60 46]]\n"
     ]
    }
   ],
   "source": [
    "#13 4D array- sum over last two axis\n",
    "A = np.random.randint(0,10,(3,4,3,4))\n",
    "# solution by passing a tuple of axes (introduced in numpy 1.7.0)\n",
    "sum = A.sum(axis=(-2,-1))\n",
    "print(sum)\n",
    "# solution by flattening the last two dimensions into one\n",
    "# (useful for functions that don't accept tuples for axis argument)\n",
    "sum = A.reshape(A.shape[:-2] + (-1,)).sum(axis=-1)\n",
    "print(sum)"
   ]
  },
  {
   "cell_type": "code",
   "execution_count": 55,
   "metadata": {},
   "outputs": [
    {
     "name": "stdout",
     "output_type": "stream",
     "text": [
      "[3 9 0 6 5 4 4 9 2 9 3 9 3 8 3 6 9 2 2 1 4 8 7 0 0 3 8 3 7 6 9 8 6 0 1 4 0\n",
      " 6 7 8 5 8 1 0 4 3 8 5 9 4]\n",
      "3\n"
     ]
    }
   ],
   "source": [
    "#14 most frequent value in array\n",
    "Z = np.random.randint(0,10,50)\n",
    "print(Z)\n",
    "print(np.bincount(Z).argmax())"
   ]
  },
  {
   "cell_type": "code",
   "execution_count": null,
   "metadata": {},
   "outputs": [],
   "source": []
  }
 ],
 "metadata": {
  "kernelspec": {
   "display_name": "Python 3",
   "language": "python",
   "name": "python3"
  },
  "language_info": {
   "codemirror_mode": {
    "name": "ipython",
    "version": 3
   },
   "file_extension": ".py",
   "mimetype": "text/x-python",
   "name": "python",
   "nbconvert_exporter": "python",
   "pygments_lexer": "ipython3",
   "version": "3.6.4"
  }
 },
 "nbformat": 4,
 "nbformat_minor": 2
}
