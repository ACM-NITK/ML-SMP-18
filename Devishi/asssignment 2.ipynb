{
 "cells": [
  {
   "cell_type": "code",
   "execution_count": 86,
   "metadata": {},
   "outputs": [],
   "source": [
    "import numpy as np"
   ]
  },
  {
   "cell_type": "code",
   "execution_count": 60,
   "metadata": {},
   "outputs": [],
   "source": [
    "def Hypothesis(theta,X):\n",
    "\n",
    " #Calculate the hypothesis function h(X1 , X2)\\n\n",
    " H = np.dot(theta,np.transpose(X))\n",
    " return H\n"
   ]
  },
  {
   "cell_type": "code",
   "execution_count": 66,
   "metadata": {},
   "outputs": [],
   "source": [
    "def Cost_Function(X,Y,theta,m):\n",
    "\t\n",
    " #Calculate the cost function J\n",
    " H=hypothesis(theta,X) \n",
    " CostF=(1/2*m)*sum((Y-H(X))^2)\n",
    " return CostF"
   ]
  },
  {
   "cell_type": "code",
   "execution_count": 67,
   "metadata": {},
   "outputs": [],
   "source": [
    "def Cost_Function_Derivative(X,Y,theta,j,m):\n",
    "\t\n",
    "#Calculate derivatives dJ/dW1 and dJ/dW2\n",
    " d=Hypothesis(theta,X)\n",
    " e=np.dot(np.transpose(d-Y),X)\n",
    " return e"
   ]
  },
  {
   "cell_type": "code",
   "execution_count": 68,
   "metadata": {},
   "outputs": [],
   "source": [
    "def Gradient_Descent(X,Y,theta, m, alpha):\n",
    "\t\n",
    "#Perform the gradient descent update W1 = W1 - alpha* dJ/dW1 , W2 = W2 - alpha*dJ/dW2\n",
    " v=Cost_Function(X,Y,theta,m)\n",
    " theta = theta - (alpha * Cost_Function_Derivative(X,Y,theta,j,m))\n",
    " return theta "
   ]
  },
  {
   "cell_type": "code",
   "execution_count": 75,
   "metadata": {},
   "outputs": [],
   "source": [
    "def Linear_Regression(X,Y,alpha,theta,num_iters):\n",
    " m = len(X)\n",
    " for x in xrange(num_iters):\n",
    "  new_theta = Gradient_Descent(X,Y,theta, m, alpha)\n",
    " theta = new_theta\n",
    " if x % 100 == 0:\n",
    "  print ('theta ', theta)\n",
    " print ('cost is ', Cost_Function(X,Y,theta,m))\n",
    " return new_theta\n"
   ]
  },
  {
   "cell_type": "code",
   "execution_count": 92,
   "metadata": {},
   "outputs": [
    {
     "ename": "SyntaxError",
     "evalue": "unexpected character after line continuation character (<ipython-input-92-46195d61365a>, line 9)",
     "output_type": "error",
     "traceback": [
      "\u001b[1;36m  File \u001b[1;32m\"<ipython-input-92-46195d61365a>\"\u001b[1;36m, line \u001b[1;32m9\u001b[0m\n\u001b[1;33m    print(\\\"Final theta:\\\", nt)\u001b[0m\n\u001b[1;37m                               ^\u001b[0m\n\u001b[1;31mSyntaxError\u001b[0m\u001b[1;31m:\u001b[0m unexpected character after line continuation character\n"
     ]
    }
   ],
   "source": [
    "    import numpy as np\n",
    "    Y = [19, 20, 20.5, 21.5, 22, 23, 23, 25.5, 24]\n",
    "    X = [[1,1],[1,2],[1,3],[1,4],[1,5],[1,6],[1,7],[1,8],[1,9]]\n",
    "    theta = ([0,0])\n",
    "    alpha = 0.003\n",
    "    iterations = 2000\n",
    "    nt=Linear_regression(X,Y,alpha,theta,iterations)\n",
    "    print()\n",
    "    print(\\\"Final theta:\\\", nt)\n",
    "    print(nt)\n",
    "\n"
   ]
  },
  {
   "cell_type": "code",
   "execution_count": null,
   "metadata": {},
   "outputs": [],
   "source": []
  },
  {
   "cell_type": "code",
   "execution_count": null,
   "metadata": {},
   "outputs": [],
   "source": []
  }
 ],
 "metadata": {
  "kernelspec": {
   "display_name": "Python 3",
   "language": "python",
   "name": "python3"
  },
  "language_info": {
   "codemirror_mode": {
    "name": "ipython",
    "version": 3
   },
   "file_extension": ".py",
   "mimetype": "text/x-python",
   "name": "python",
   "nbconvert_exporter": "python",
   "pygments_lexer": "ipython3",
   "version": "3.6.4"
  }
 },
 "nbformat": 4,
 "nbformat_minor": 2
}
