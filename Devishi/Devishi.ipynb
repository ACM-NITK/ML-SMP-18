{
 "cells": [
  {
   "cell_type": "code",
   "execution_count": 1,
   "metadata": {},
   "outputs": [],
   "source": [
    "import numpy as np"
   ]
  },
  {
   "cell_type": "code",
   "execution_count": 2,
   "metadata": {},
   "outputs": [],
   "source": [
    "a = np.array([18,9,3])"
   ]
  },
  {
   "cell_type": "code",
   "execution_count": 4,
   "metadata": {},
   "outputs": [
    {
     "name": "stdout",
     "output_type": "stream",
     "text": [
      "[18  9  3]\n"
     ]
    }
   ],
   "source": [
    "print (a)"
   ]
  },
  {
   "cell_type": "code",
   "execution_count": 5,
   "metadata": {},
   "outputs": [],
   "source": [
    "a = a[::-1]"
   ]
  },
  {
   "cell_type": "code",
   "execution_count": 6,
   "metadata": {},
   "outputs": [
    {
     "name": "stdout",
     "output_type": "stream",
     "text": [
      "[ 3  9 18]\n"
     ]
    }
   ],
   "source": [
    "print (a) #To print the reversed vector in terms of its coordinates"
   ]
  },
  {
   "cell_type": "code",
   "execution_count": 10,
   "metadata": {},
   "outputs": [],
   "source": [
    "b = np.array([[0,8,3],[4,5,2],[1,2,4]]) # A 3x3 matrix"
   ]
  },
  {
   "cell_type": "code",
   "execution_count": 9,
   "metadata": {},
   "outputs": [
    {
     "name": "stdout",
     "output_type": "stream",
     "text": [
      "[[0 8 3]\n",
      " [4 5 2]\n",
      " [1 2 4]]\n"
     ]
    }
   ],
   "source": [
    "print(b)"
   ]
  },
  {
   "cell_type": "code",
   "execution_count": 13,
   "metadata": {},
   "outputs": [],
   "source": [
    "x = np.ones((5,5)) #2D matrix with 1 on the border and 0 inside \n"
   ]
  },
  {
   "cell_type": "code",
   "execution_count": 14,
   "metadata": {},
   "outputs": [
    {
     "name": "stdout",
     "output_type": "stream",
     "text": [
      "[[1. 1. 1. 1. 1.]\n",
      " [1. 1. 1. 1. 1.]\n",
      " [1. 1. 1. 1. 1.]\n",
      " [1. 1. 1. 1. 1.]\n",
      " [1. 1. 1. 1. 1.]]\n",
      "[[1. 1. 1. 1. 1.]\n",
      " [1. 0. 0. 0. 1.]\n",
      " [1. 0. 0. 0. 1.]\n",
      " [1. 0. 0. 0. 1.]\n",
      " [1. 1. 1. 1. 1.]]\n"
     ]
    }
   ],
   "source": [
    "print(x)\n",
    "x[1:-1,1:-1] = 0 #Subtracting 1 from the inside elements to make it 0\n",
    "print(x)"
   ]
  },
  {
   "cell_type": "code",
   "execution_count": 26,
   "metadata": {},
   "outputs": [],
   "source": [
    "d = np.array([[1,1,1],[2,2,2],[3,3,3],[4,4,4],[5,5,5]]) #Multiply the matrices\n"
   ]
  },
  {
   "cell_type": "code",
   "execution_count": 18,
   "metadata": {},
   "outputs": [],
   "source": [
    "e = np.array([[1,2],[2,3],[1,9]])"
   ]
  },
  {
   "cell_type": "code",
   "execution_count": 24,
   "metadata": {},
   "outputs": [],
   "source": [
    "v=np.dot(d,e)"
   ]
  },
  {
   "cell_type": "code",
   "execution_count": 25,
   "metadata": {},
   "outputs": [
    {
     "name": "stdout",
     "output_type": "stream",
     "text": [
      "[[ 4 14]\n",
      " [ 8 28]\n",
      " [12 42]\n",
      " [16 56]\n",
      " [20 70]]\n"
     ]
    }
   ],
   "source": [
    "print (v)"
   ]
  },
  {
   "cell_type": "code",
   "execution_count": 27,
   "metadata": {},
   "outputs": [
    {
     "name": "stdout",
     "output_type": "stream",
     "text": [
      "First array:\n",
      "[ 3  6  9 12 18]\n",
      "Second array:\n",
      "[ 7  3  9 18 24]\n",
      "False\n"
     ]
    }
   ],
   "source": [
    "\n",
    "x = np.array([3,6,9,12,18])\n",
    "print(\"First array:\")\n",
    "print(x)\n",
    "y = np.array([7,3,9,18,24])\n",
    "print(\"Second array:\")\n",
    "print(y)\n",
    "#to test if the 2 arrays are equal or not\n",
    "equal = np.allclose(x, y)\n",
    "print(equal)"
   ]
  },
  {
   "cell_type": "code",
   "execution_count": 30,
   "metadata": {},
   "outputs": [
    {
     "name": "stdout",
     "output_type": "stream",
     "text": [
      "Original array:\n",
      "[ 1  2  3  4  5  6  7  8  9 10]\n",
      "Value to compare:\n",
      "5.6\n",
      "6\n"
     ]
    }
   ],
   "source": [
    "i = np.array([1,2,3,4,5,6,7,8,9,10]) #To find a nearest value to the given no \n",
    "print(\"Original array:\")\n",
    "print(i)\n",
    "s = 5.6\n",
    "print(\"Value to compare:\")\n",
    "print(s)\n",
    "index = (np.abs(i-s)).argmin()\n",
    "print(i[index])"
   ]
  },
  {
   "cell_type": "code",
   "execution_count": 35,
   "metadata": {},
   "outputs": [
    {
     "name": "stdout",
     "output_type": "stream",
     "text": [
      "after sorting\n",
      "[ 9 18 24 36 54]\n",
      "54\n",
      "36\n",
      "24\n"
     ]
    }
   ],
   "source": [
    "h=np.array([9,36,24,18,54]) #Print the largest n nos\n",
    "h=np.sort(h)\n",
    "u=3\n",
    "print(\"after sorting\")\n",
    "print(h)\n",
    "r=4\n",
    "while r>=2:\n",
    " print(h[r])\n",
    " r-=1"
   ]
  },
  {
   "cell_type": "code",
   "execution_count": 38,
   "metadata": {},
   "outputs": [
    {
     "name": "stdout",
     "output_type": "stream",
     "text": [
      "[ 1  4  5  8 54 99]\n",
      "value closest to:\n",
      "7\n",
      "is\n",
      "8\n"
     ]
    }
   ],
   "source": [
    "l=np.array([1,4,5,8,54,99]) #Closest value to a given scalar in the array\n",
    "print(l)\n",
    "k=7\n",
    "print(\"value closest to:\")\n",
    "print(k)\n",
    "print(\"is\")\n",
    "index=(np.abs(l-k)).argmin()\n",
    "print(l[index])"
   ]
  },
  {
   "cell_type": "code",
   "execution_count": 40,
   "metadata": {},
   "outputs": [
    {
     "name": "stdout",
     "output_type": "stream",
     "text": [
      "1\n"
     ]
    }
   ],
   "source": [
    "#The most frequent value can be found using the bincount function.\n",
    "q = np.array([1,2,3,1,2,1,1,1,3,2,2,1])\n",
    "counts = np.bincount(q)\n",
    "print (np.argmax(counts))"
   ]
  },
  {
   "cell_type": "code",
   "execution_count": 41,
   "metadata": {},
   "outputs": [],
   "source": [
    "#the sum of the last 2 axis in a 4D array can be obtained by using sum(axis=(-2,-1))"
   ]
  },
  {
   "cell_type": "code",
   "execution_count": 47,
   "metadata": {},
   "outputs": [
    {
     "name": "stdout",
     "output_type": "stream",
     "text": [
      "[[8 9 1]\n",
      " [0 2 2]\n",
      " [0 3 5]]\n",
      "[[0 2 2]\n",
      " [0 3 5]\n",
      " [8 9 1]]\n"
     ]
    }
   ],
   "source": [
    "#sorting the array by the n th column \n",
    "Z = np.random.randint(0,10,(3,3))\n",
    "print(Z)\n",
    "print(Z[Z[:,1].argsort()])"
   ]
  },
  {
   "cell_type": "code",
   "execution_count": 55,
   "metadata": {},
   "outputs": [
    {
     "name": "stdout",
     "output_type": "stream",
     "text": [
      "Original array:\n",
      "[0.72120821 0.478803   0.62580806 0.17417715 0.9632267  0.41945072\n",
      " 0.06943092 0.83201931 0.10087867 0.34016878 0.20253399 0.42701162\n",
      " 0.31949659 0.80897792 0.42134388]\n",
      "Maximum value replaced by -1:\n",
      "[ 0.72120821  0.478803    0.62580806  0.17417715 -1.          0.41945072\n",
      "  0.06943092  0.83201931  0.10087867  0.34016878  0.20253399  0.42701162\n",
      "  0.31949659  0.80897792  0.42134388]\n"
     ]
    }
   ],
   "source": [
    "#random vector of size 15 \n",
    "x = np.random.random(15)\n",
    "print(\"Original array:\")\n",
    "print(x)\n",
    "x[x.argmax()] = -1\n",
    "print(\"Maximum value replaced by -1:\")\n",
    "print(x)\n"
   ]
  },
  {
   "cell_type": "code",
   "execution_count": null,
   "metadata": {},
   "outputs": [],
   "source": []
  }
 ],
 "metadata": {
  "kernelspec": {
   "display_name": "Python 3",
   "language": "python",
   "name": "python3"
  },
  "language_info": {
   "codemirror_mode": {
    "name": "ipython",
    "version": 3
   },
   "file_extension": ".py",
   "mimetype": "text/x-python",
   "name": "python",
   "nbconvert_exporter": "python",
   "pygments_lexer": "ipython3",
   "version": "3.6.4"
  }
 },
 "nbformat": 4,
 "nbformat_minor": 2
}
