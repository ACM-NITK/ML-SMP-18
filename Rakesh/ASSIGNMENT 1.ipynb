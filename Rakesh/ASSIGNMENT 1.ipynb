{
 "cells": [
  {
   "cell_type": "code",
   "execution_count": 2,
   "metadata": {},
   "outputs": [
    {
     "name": "stdout",
     "output_type": "stream",
     "text": [
      "Original \n",
      "[1 2 3]\n",
      "Reverse \n",
      "[3 2 1]\n"
     ]
    }
   ],
   "source": [
    "# Q1:Reverse a vector (first element becomes last)\n",
    "import numpy as np\n",
    "a=np.array([1,2,3])\n",
    "print(\"Original: \")\n",
    "print (a)\n",
    "b=a[::-1]\n",
    "print(\"Reverse: \")\n",
    "print (b)"
   ]
  },
  {
   "cell_type": "code",
   "execution_count": 3,
   "metadata": {},
   "outputs": [
    {
     "name": "stdout",
     "output_type": "stream",
     "text": [
      "Required Matrix :\n",
      "[[0 1 2]\n",
      " [3 4 5]\n",
      " [6 7 8]]\n"
     ]
    }
   ],
   "source": [
    "#Q2: Create a 3x3 matrix with values ranging from 0 to 8\n",
    "req_matrix = np.arange(9).reshape(3,3)\n",
    "print(\"Required Matrix :\")\n",
    "print(req_matrix)"
   ]
  },
  {
   "cell_type": "code",
   "execution_count": 7,
   "metadata": {},
   "outputs": [
    {
     "name": "stdout",
     "output_type": "stream",
     "text": [
      "[[1 1 1 1 1 1 1 1 1 1]\n",
      " [1 0 0 0 0 0 0 0 0 1]\n",
      " [1 0 0 0 0 0 0 0 0 1]\n",
      " [1 0 0 0 0 0 0 0 0 1]\n",
      " [1 0 0 0 0 0 0 0 0 1]\n",
      " [1 0 0 0 0 0 0 0 0 1]\n",
      " [1 0 0 0 0 0 0 0 0 1]\n",
      " [1 0 0 0 0 0 0 0 0 1]\n",
      " [1 0 0 0 0 0 0 0 0 1]\n",
      " [1 1 1 1 1 1 1 1 1 1]]\n"
     ]
    }
   ],
   "source": [
    "#Q3: Create a 2d array with 1 on the border and 0 inside\n",
    "c=np.ones((int(10),int(10)),dtype=np.int8)\n",
    "c[1:-1,1:-1]=0\n",
    "print (c)"
   ]
  },
  {
   "cell_type": "code",
   "execution_count": 9,
   "metadata": {},
   "outputs": [
    {
     "name": "stdout",
     "output_type": "stream",
     "text": [
      "The Matrix Multiplication of M1 and M2 is : \n",
      "[[ 22  28]\n",
      " [ 49  64]\n",
      " [ 76 100]\n",
      " [103 136]\n",
      " [130 172]]\n"
     ]
    }
   ],
   "source": [
    "#Q4: Multiply a 5x3 matrix by a 3x2 matrix (real matrix product)\n",
    "M1=np.array([[1,2,3],[4,5,6],[7,8,9],[10,11,12],[13,14,15]])\n",
    "M2=np.array([[1,2],[3,4],[5,6]])\n",
    "print(\"The Matrix Multiplication of M1 and M2 is : \")\n",
    "print (np.dot(M1,M2))"
   ]
  },
  {
   "cell_type": "code",
   "execution_count": 10,
   "metadata": {},
   "outputs": [
    {
     "name": "stdout",
     "output_type": "stream",
     "text": [
      "Original Matrix :\n",
      "[3.27264348 4.20683664 4.76379708 2.9969407  1.06855974 1.46768404\n",
      " 1.26068867 3.78557113 1.76517669 3.54054036]\n",
      "Matrices with Interger Part only :\n",
      "[3. 4. 4. 2. 1. 1. 1. 3. 1. 3.]\n",
      "[3. 4. 4. 2. 1. 1. 1. 3. 1. 3.]\n",
      "[3. 4. 5. 3. 1. 1. 1. 4. 2. 4.]\n",
      "[3. 4. 4. 2. 1. 1. 1. 3. 1. 3.]\n",
      "[3 4 4 2 1 1 1 3 1 3]\n",
      "[3. 4. 4. 2. 1. 1. 1. 3. 1. 3.]\n"
     ]
    }
   ],
   "source": [
    "#Q5: Extract the integer part of a random array using 5 different methods\n",
    "M = np.random.uniform(0,5,10)\n",
    "print(\"Original Matrix :\")\n",
    "print (M)\n",
    "print(\"Matrices with Interger Part only :\")\n",
    "print(M - M%1) #Method 1\n",
    "print(np.floor(M)) #Method 2\n",
    "print(np.rint(M)) #Method 3\n",
    "print(np.ceil(M)-1) #Method 4\n",
    "print(M.astype(int)) #Method 5\n",
    "print(np.trunc(M)) #Method 6"
   ]
  },
  {
   "cell_type": "code",
   "execution_count": 13,
   "metadata": {},
   "outputs": [
    {
     "name": "stdout",
     "output_type": "stream",
     "text": [
      "Array 1 =  [ 1.56936812  0.19079374 -0.18807613 -1.48024369  0.85594986  0.17204808]\n",
      "Array 2 =  [-0.43686136  2.1760193  -0.46218273 -0.77866322  0.2248874   0.26794581]\n",
      "NOT EQUAL\n"
     ]
    }
   ],
   "source": [
    "#Q6: Write a Python program to check two random arrays are equal or not.\n",
    "A1=np.random.normal(size=6)\n",
    "A2=np.random.normal(size=6)\n",
    "print(\"Array 1 = \", A1)\n",
    "print(\"Array 2 = \", A2)\n",
    "if np.array_equal(A1,A2):\n",
    "  print(\"EQUAL\")\n",
    "else:\n",
    " print(\"NOT EQUAL\")"
   ]
  },
  {
   "cell_type": "code",
   "execution_count": null,
   "metadata": {},
   "outputs": [],
   "source": [
    "#Q7: Write a Python program to find the nearest value from a given value in an array.\n",
    "Ar = np.random.uniform(0,1,10)\n",
    "print (\"Array is :-  \", Ar)\n",
    "z = 0.5\n",
    "m = Ar[(np.abs(Ar - z)).argmin()]\n",
    "print(\"Nearest value : \", m)\n",
    "\n"
   ]
  },
  {
   "cell_type": "code",
   "execution_count": null,
   "metadata": {},
   "outputs": [],
   "source": [
    "#Q8: Write a Python program to get the n largest values of an array.\n",
    "a = np.random.uniform(0,1,10)\n",
    "b=-np.sort(-a)\n",
    "n=5    # n largest numbers\n",
    "print(\"The N largest numbers are :- \")\n",
    "print(b[:n])"
   ]
  },
  {
   "cell_type": "code",
   "execution_count": null,
   "metadata": {},
   "outputs": [],
   "source": [
    "#Q9: How to find the closest value (to a given scalar) in an array?\n",
    "def n_Val(array,value):\n",
    "    ind=(np.abs(array-value)).argmin()\n",
    "    return array[ind]\n",
    "q = np.random.normal(1,15,10)\n",
    "value= 5\n",
    "print(n_Val(q,value))"
   ]
  },
  {
   "cell_type": "code",
   "execution_count": null,
   "metadata": {},
   "outputs": [],
   "source": [
    "#Q10: Write a Python program to create random vector of size 15 and replace the maximum value by -1.\n",
    "a=np.random.random(size=15)\n",
    "print(\"Original array is : \", a)\n",
    "a[a.argmax()]=-1\n",
    "print (\"Modified array is : \", a)"
   ]
  },
  {
   "cell_type": "code",
   "execution_count": null,
   "metadata": {},
   "outputs": [],
   "source": [
    "#Q11: Consider a random vector with shape (100,2) representing coordinates, find point by point distances .\n",
    "import scipy\n",
    "import scipy.spatial\n",
    "Ar = np.random.random((100,2))\n",
    "D = scipy.spatial.distance.cdist(Ar,Ar)\n",
    "print(D)"
   ]
  },
  {
   "cell_type": "code",
   "execution_count": null,
   "metadata": {},
   "outputs": [],
   "source": [
    "#Q12: How to I sort an array by the nth column?\n",
    "S=np.random.normal(1,10,15).reshape(3,5)\n",
    "print(S)\n",
    "n = 1\n",
    "R=S[S[:n].argsort()]\n",
    "print(R)"
   ]
  },
  {
   "cell_type": "code",
   "execution_count": null,
   "metadata": {},
   "outputs": [],
   "source": [
    "#Q13: Considering a four dimensions array, how to get sum over the last two axis at once?\n",
    "A=np.random.uniform(1,20,81).reshape(3,3,3,3)\n",
    "print(\"The array is : - \", A)\n",
    "print(\"The sum is : - \" , np.sum(A,axis=(2,3)))"
   ]
  },
  {
   "cell_type": "code",
   "execution_count": null,
   "metadata": {},
   "outputs": [],
   "source": [
    "#Q14: How to find the most frequent value in an array?\n",
    "M = np.random.randint(0,10,50)\n",
    "print(\"The array is :- \" M)\n",
    "print(\"Most Frequent element :- \", np.bincount(M).argmax())"
   ]
  },
  {
   "cell_type": "code",
   "execution_count": null,
   "metadata": {},
   "outputs": [],
   "source": []
  },
  {
   "cell_type": "code",
   "execution_count": null,
   "metadata": {},
   "outputs": [],
   "source": []
  }
 ],
 "metadata": {
  "kernelspec": {
   "display_name": "Python 3",
   "language": "python",
   "name": "python3"
  },
  "language_info": {
   "codemirror_mode": {
    "name": "ipython",
    "version": 3
   },
   "file_extension": ".py",
   "mimetype": "text/x-python",
   "name": "python",
   "nbconvert_exporter": "python",
   "pygments_lexer": "ipython3",
   "version": "3.6.4"
  }
 },
 "nbformat": 4,
 "nbformat_minor": 2
}
