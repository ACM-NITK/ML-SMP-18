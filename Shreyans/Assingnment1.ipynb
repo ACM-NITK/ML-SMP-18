{
 "cells": [
  {
   "cell_type": "code",
   "execution_count": 1,
   "metadata": {},
   "outputs": [
    {
     "name": "stdout",
     "output_type": "stream",
     "text": [
      "[6 5 4]\n"
     ]
    }
   ],
   "source": [
    "import numpy as np         #1\n",
    "a=np.array([4,5,6])\n",
    "b=a[ : :-1]\n",
    "print(b)"
   ]
  },
  {
   "cell_type": "code",
   "execution_count": 2,
   "metadata": {},
   "outputs": [
    {
     "name": "stdout",
     "output_type": "stream",
     "text": [
      "[[0 1 2]\n",
      " [3 4 5]\n",
      " [6 7 8]]\n"
     ]
    }
   ],
   "source": [
    "a=np.array([[0,1,2],[3,4,5],[6,7,8]])                  #2\n",
    "print(a)"
   ]
  },
  {
   "cell_type": "code",
   "execution_count": 9,
   "metadata": {
    "scrolled": true
   },
   "outputs": [
    {
     "name": "stdout",
     "output_type": "stream",
     "text": [
      "[[1. 1. 1. 1.]\n",
      " [1. 0. 0. 1.]\n",
      " [1. 0. 0. 1.]\n",
      " [1. 1. 1. 1.]]\n"
     ]
    }
   ],
   "source": [
    "a=np.ones((4,4)) # m=4, n=4           #3\n",
    "i=1\n",
    "j=1\n",
    "while(i<3):      # from 1 to m-2 and from 1 to n-2\n",
    "    j=1\n",
    "    while(j<3):\n",
    "        a[i,j]=0\n",
    "        j=j+1\n",
    "    i=i+1\n",
    "print(a)"
   ]
  },
  {
   "cell_type": "code",
   "execution_count": 17,
   "metadata": {},
   "outputs": [
    {
     "name": "stdout",
     "output_type": "stream",
     "text": [
      "[[3. 3.]\n",
      " [3. 3.]\n",
      " [3. 3.]\n",
      " [3. 3.]\n",
      " [3. 3.]]\n"
     ]
    }
   ],
   "source": [
    "a=np.ones((5,3))                    #4\n",
    "b=np.ones((3,2))\n",
    "c=np.dot(a,b)\n",
    "print(c)"
   ]
  },
  {
   "cell_type": "code",
   "execution_count": 16,
   "metadata": {},
   "outputs": [
    {
     "name": "stdout",
     "output_type": "stream",
     "text": [
      "[1.30442746 4.3358725  4.6286059  1.75172038 4.01669012 4.46966032]\n",
      "[1. 4. 4. 1. 4. 4.]\n",
      "(array([0.30442746, 0.3358725 , 0.6286059 , 0.75172038, 0.01669012,\n",
      "       0.46966032]), array([1., 4., 4., 1., 4., 4.]))\n",
      "[1. 4. 4. 1. 4. 4.]\n",
      "[1. 4. 4. 1. 4. 4.]\n",
      "[1. 4. 4. 1. 4. 4.]\n"
     ]
    }
   ],
   "source": [
    "a=np.random.uniform(1,5,6)            #5\n",
    "print(a)\n",
    "print(a-a%1)\n",
    "print(np.modf(a))   # seperated integer and fractional parts\n",
    "print(np.trunc(a))  # { does not\n",
    "print(np.floor(a))   # {        work for\n",
    "print(np.ceil(a)-1) # {               negative numbers"
   ]
  },
  {
   "cell_type": "code",
   "execution_count": 17,
   "metadata": {},
   "outputs": [
    {
     "name": "stdout",
     "output_type": "stream",
     "text": [
      "[[0.4862495  0.10634716 0.27152434 0.77812133 0.1368067 ]]\n",
      "[[0.37387769 0.54492559 0.6860305  0.51011376 0.25874905]]\n",
      "[[False False False False False]]\n"
     ]
    }
   ],
   "source": [
    "import numpy as np                #6\n",
    "a=np.random.random((1,5))\n",
    "b=np.random.random((1,5))\n",
    "print(a)\n",
    "print(b)\n",
    "print(a==b)"
   ]
  },
  {
   "cell_type": "code",
   "execution_count": 20,
   "metadata": {},
   "outputs": [
    {
     "name": "stdout",
     "output_type": "stream",
     "text": [
      "[4.21354823 2.25720587 4.03616977 3.3125002  2.78309393]\n",
      "Closest value is\n",
      "4.036169774798857\n"
     ]
    }
   ],
   "source": [
    "a=np.random.uniform(1,5,5)                #7\n",
    "print(a)\n",
    "val=4\n",
    "index=np.absolute(a-val).argmin()\n",
    "print('Closest value is')\n",
    "print(a[index])"
   ]
  },
  {
   "cell_type": "code",
   "execution_count": 28,
   "metadata": {},
   "outputs": [
    {
     "name": "stdout",
     "output_type": "stream",
     "text": [
      "[1.18793807 5.61200249 6.61371436 7.21526568 7.98016259 9.38238911]\n",
      "Three largest values :\n",
      "6.613714361093087\n",
      "7.215265677836472\n",
      "7.980162589548683\n"
     ]
    }
   ],
   "source": [
    "a=np.random.uniform(1,10,6)    #8     n=6\n",
    "print(np.sort(a))\n",
    "print('Three largest values :')\n",
    "i=6-3           # for getting the 3 largest values i=n-3\n",
    "while(i<6):\n",
    "    print(a[i])\n",
    "    i+=1"
   ]
  },
  {
   "cell_type": "code",
   "execution_count": null,
   "metadata": {},
   "outputs": [],
   "source": [
    "#9 same as question 7 see above"
   ]
  },
  {
   "cell_type": "code",
   "execution_count": 45,
   "metadata": {
    "scrolled": true
   },
   "outputs": [
    {
     "name": "stdout",
     "output_type": "stream",
     "text": [
      "[2.90581225 3.16818599 2.08466231 1.07644788 4.10058442 4.14132719\n",
      " 4.91758614 3.2124594  3.43152004 1.19876438 4.69859695 4.43899148\n",
      " 2.1427681  4.46933371 3.26601691]\n",
      "[ 2.90581225  3.16818599  2.08466231  1.07644788  4.10058442  4.14132719\n",
      " -1.          3.2124594   3.43152004  1.19876438  4.69859695  4.43899148\n",
      "  2.1427681   4.46933371  3.26601691]\n"
     ]
    }
   ],
   "source": [
    "a=np.random.uniform(1,5,15)                       #10\n",
    "print(a)\n",
    "a[np.argmax(a)]=-1     \n",
    "print(a)"
   ]
  },
  {
   "cell_type": "code",
   "execution_count": 71,
   "metadata": {
    "scrolled": true
   },
   "outputs": [
    {
     "name": "stdout",
     "output_type": "stream",
     "text": [
      "[[17.92022919]\n",
      " [52.74872678]\n",
      " [89.7495172 ]\n",
      " [61.45639444]\n",
      " [20.64837416]\n",
      " [20.95039866]\n",
      " [92.97585522]\n",
      " [19.07712503]\n",
      " [48.90829042]\n",
      " [25.4765599 ]]\n",
      "[[93.8616928 ]\n",
      " [83.47598515]\n",
      " [79.95385476]\n",
      " [99.26547508]\n",
      " [ 2.36813394]\n",
      " [66.45520968]\n",
      " [67.7803312 ]\n",
      " [80.72461857]\n",
      " [15.89342509]\n",
      " [43.456098  ]]\n",
      "[[  0.          36.34401145  73.16334175  43.87024673  91.53422358\n",
      "   27.57348806  79.45806707  13.18791596  83.90060016  50.9688348 ]\n",
      " [ 36.34401145   0.          37.16804938  18.03140229  87.22910159\n",
      "   36.06716607  43.18072968  33.78382427  67.69159013  48.42894231]\n",
      " [ 73.16334175  37.16804938   0.          34.25550284 103.89664116\n",
      "   70.11085601  12.59380533  70.67659508  75.97199782  73.91278163]\n",
      " [ 43.87024673  18.03140229  34.25550284   0.         105.13985561\n",
      "   52.12724057  44.5509898   46.25760301  84.31105285  66.40207123]\n",
      " [ 91.53422358  87.22910159 103.89664116 105.13985561   0.\n",
      "   64.08778741  97.51933176  78.37223684  31.32979999  41.37066797]\n",
      " [ 27.57348806  36.06716607  70.11085601  52.12724057  64.08778741\n",
      "    0.          72.03764529  14.39184436  57.7766196   23.44024901]\n",
      " [ 79.45806707  43.18072968  12.59380533  44.5509898   97.51933176\n",
      "   72.03764529   0.          75.02384221  68.07496818  71.74833231]\n",
      " [ 13.18791596  33.78382427  70.67659508  46.25760301  78.37223684\n",
      "   14.39184436  75.02384221   0.          71.36513207  37.81395763]\n",
      " [ 83.90060016  67.69159013  75.97199782  84.31105285  31.32979999\n",
      "   57.7766196   68.07496818  71.36513207   0.          36.17660754]\n",
      " [ 50.9688348   48.42894231  73.91278163  66.40207123  41.37066797\n",
      "   23.44024901  71.74833231  37.81395763  36.17660754   0.        ]]\n"
     ]
    }
   ],
   "source": [
    "a=np.random.uniform(1,100,20).reshape(10,2)          #11\n",
    "b=a[:,:1]             # first column\n",
    "c=a[:,1:2]            # second column\n",
    "print(b)\n",
    "print(c)\n",
    "d=np.sqrt((b-b.T)**2 + (c-c.T)**2)   # distance matrix\n",
    "print(d)"
   ]
  },
  {
   "cell_type": "code",
   "execution_count": 67,
   "metadata": {
    "scrolled": false
   },
   "outputs": [
    {
     "name": "stdout",
     "output_type": "stream",
     "text": [
      "[[4.97561598 5.28530323 1.36147465]\n",
      " [9.74399387 7.3203344  2.01948697]\n",
      " [7.6519167  2.23689318 3.68613492]]\n"
     ]
    },
    {
     "data": {
      "text/plain": [
       "array([[7.6519167 , 2.23689318, 3.68613492],\n",
       "       [4.97561598, 5.28530323, 1.36147465],\n",
       "       [9.74399387, 7.3203344 , 2.01948697]])"
      ]
     },
     "execution_count": 67,
     "metadata": {},
     "output_type": "execute_result"
    }
   ],
   "source": [
    "a=np.random.uniform(1,10,9).reshape(3,3)             #12\n",
    "print(a)                                             # soting by the 2nd column\n",
    "a[a[:,1].argsort()]"
   ]
  },
  {
   "cell_type": "code",
   "execution_count": 55,
   "metadata": {},
   "outputs": [
    {
     "name": "stdout",
     "output_type": "stream",
     "text": [
      "[[[[2.71195799 3.50843019]\n",
      "   [1.90379887 3.43167563]]\n",
      "\n",
      "  [[3.7471582  3.10721827]\n",
      "   [3.4731591  1.81008628]]]\n",
      "\n",
      "\n",
      " [[[1.6258269  1.07057781]\n",
      "   [1.04600861 3.38486197]]\n",
      "\n",
      "  [[2.34636051 3.78389577]\n",
      "   [3.8757258  1.29486713]]]]\n",
      "[[11.55586269 12.13762185]\n",
      " [ 7.12727528 11.30084921]]\n"
     ]
    }
   ],
   "source": [
    "a=np.random.uniform(1,4,16).reshape(2,2,2,2)          #13\n",
    "print(a)\n",
    "print(np.sum(a,axis=(2,3)))"
   ]
  },
  {
   "cell_type": "code",
   "execution_count": 61,
   "metadata": {},
   "outputs": [
    {
     "name": "stdout",
     "output_type": "stream",
     "text": [
      "[0 5 4 3]\n",
      "1\n"
     ]
    }
   ],
   "source": [
    "a=np.array([3,2,3,1,2,1,1,1,3,2,2,1])                    #14\n",
    "co=np.bincount(a)\n",
    "print(co)\n",
    "print(np.argmax(co))"
   ]
  }
 ],
 "metadata": {
  "kernelspec": {
   "display_name": "Python 3",
   "language": "python",
   "name": "python3"
  },
  "language_info": {
   "codemirror_mode": {
    "name": "ipython",
    "version": 3
   },
   "file_extension": ".py",
   "mimetype": "text/x-python",
   "name": "python",
   "nbconvert_exporter": "python",
   "pygments_lexer": "ipython3",
   "version": "3.6.4"
  }
 },
 "nbformat": 4,
 "nbformat_minor": 2
}
