{
 "cells": [
  {
   "cell_type": "code",
   "execution_count": 14,
   "metadata": {},
   "outputs": [],
   "source": [
    "import csv\n",
    "import random\n",
    "from sklearn.neighbors import KNeighborsClassifier as knc"
   ]
  },
  {
   "cell_type": "code",
   "execution_count": 95,
   "metadata": {},
   "outputs": [],
   "source": [
    "def loadDataset(filename, split):\n",
    "    trainSet_X = []\n",
    "    trainSet_Y = []\n",
    "    testSet_X = []\n",
    "    testSet_Y = []\n",
    "    \n",
    "    with open(filename, 'rt') as csvfile:\n",
    "        lines = csv.reader(csvfile)\n",
    "        dataset = list(lines)\n",
    "    \n",
    "    for i in range(len(dataset)):\n",
    "        for j in range(4):\n",
    "            dataset[i][j] = float(dataset[i][j])\n",
    "        if random.random() < split:\n",
    "            trainSet_X.append(dataset[i][0:3])\n",
    "            trainSet_Y.append(dataset[i][4])\n",
    "        else:\n",
    "            testSet_X.append(dataset[i][0:3])\n",
    "            testSet_Y.append(dataset[i][4])\n",
    "        \n",
    "    return trainSet_X, trainSet_Y, testSet_X, testSet_Y"
   ]
  },
  {
   "cell_type": "code",
   "execution_count": 106,
   "metadata": {},
   "outputs": [
    {
     "name": "stdout",
     "output_type": "stream",
     "text": [
      "Items in training set : 109\n",
      "Items in test set     : 41\n",
      "\n",
      "> Test Set\n",
      "Predicted: Iris-setosa               Actual: Iris-setosa\n",
      "Predicted: Iris-setosa               Actual: Iris-setosa\n",
      "Predicted: Iris-setosa               Actual: Iris-setosa\n",
      "Predicted: Iris-setosa               Actual: Iris-setosa\n",
      "Predicted: Iris-setosa               Actual: Iris-setosa\n",
      "Predicted: Iris-setosa               Actual: Iris-setosa\n",
      "Predicted: Iris-setosa               Actual: Iris-setosa\n",
      "Predicted: Iris-setosa               Actual: Iris-setosa\n",
      "Predicted: Iris-setosa               Actual: Iris-setosa\n",
      "Predicted: Iris-setosa               Actual: Iris-setosa\n",
      "Predicted: Iris-setosa               Actual: Iris-setosa\n",
      "Predicted: Iris-setosa               Actual: Iris-setosa\n",
      "Predicted: Iris-setosa               Actual: Iris-setosa\n",
      "Predicted: Iris-setosa               Actual: Iris-setosa\n",
      "Predicted: Iris-setosa               Actual: Iris-setosa\n",
      "Predicted: Iris-versicolor           Actual: Iris-versicolor\n",
      "Predicted: Iris-versicolor           Actual: Iris-versicolor\n",
      "Predicted: Iris-versicolor           Actual: Iris-versicolor\n",
      "Predicted: Iris-versicolor           Actual: Iris-versicolor\n",
      "Predicted: Iris-virginica            Actual: Iris-versicolor\n",
      "Predicted: Iris-versicolor           Actual: Iris-versicolor\n",
      "Predicted: Iris-versicolor           Actual: Iris-versicolor\n",
      "Predicted: Iris-versicolor           Actual: Iris-versicolor\n",
      "Predicted: Iris-versicolor           Actual: Iris-versicolor\n",
      "Predicted: Iris-versicolor           Actual: Iris-versicolor\n",
      "Predicted: Iris-virginica            Actual: Iris-virginica\n",
      "Predicted: Iris-virginica            Actual: Iris-virginica\n",
      "Predicted: Iris-virginica            Actual: Iris-virginica\n",
      "Predicted: Iris-virginica            Actual: Iris-virginica\n",
      "Predicted: Iris-virginica            Actual: Iris-virginica\n",
      "Predicted: Iris-virginica            Actual: Iris-virginica\n",
      "Predicted: Iris-virginica            Actual: Iris-virginica\n",
      "Predicted: Iris-virginica            Actual: Iris-virginica\n",
      "Predicted: Iris-virginica            Actual: Iris-virginica\n",
      "Predicted: Iris-virginica            Actual: Iris-virginica\n",
      "Predicted: Iris-virginica            Actual: Iris-virginica\n",
      "Predicted: Iris-virginica            Actual: Iris-virginica\n",
      "Predicted: Iris-virginica            Actual: Iris-virginica\n",
      "Predicted: Iris-virginica            Actual: Iris-virginica\n",
      "Predicted: Iris-virginica            Actual: Iris-virginica\n",
      "Predicted: Iris-virginica            Actual: Iris-virginica\n",
      "\n",
      "Accuracy: 97.5609756097561\n"
     ]
    }
   ],
   "source": [
    "# Main\n",
    "\n",
    "# Loading Dataset\n",
    "trainSet_X, trainSet_Y, testSet_X, testSet_Y = loadDataset('iris.data', split=0.66)\n",
    "print('Items in training set :', len(trainSet_X))\n",
    "print('Items in test set     :', len(testSet_X), end='\\n\\n')\n",
    "\n",
    "# Fitting the model\n",
    "neigh = knc(n_neighbors=3)\n",
    "neigh.fit(trainSet_X, trainSet_Y)\n",
    "\n",
    "# Getting the predictions\n",
    "predictions = neigh.predict(testSet_X)\n",
    "print('> Test Set')\n",
    "for i in range(len(predictions)):\n",
    "    print('Predicted: %-25s' % predictions[i], 'Actual:', testSet_Y[i])\n",
    "\n",
    "# Calculating the accuracy\n",
    "accuracy = 0\n",
    "for i in range(len(predictions)):\n",
    "    accuracy += (predictions[i] == testSet_Y[i])\n",
    "accuracy /= (len(predictions)/100)\n",
    "print('\\nAccuracy:', accuracy)"
   ]
  },
  {
   "cell_type": "code",
   "execution_count": null,
   "metadata": {},
   "outputs": [],
   "source": []
  }
 ],
 "metadata": {
  "kernelspec": {
   "display_name": "Python 3",
   "language": "python",
   "name": "python3"
  },
  "language_info": {
   "codemirror_mode": {
    "name": "ipython",
    "version": 3
   },
   "file_extension": ".py",
   "mimetype": "text/x-python",
   "name": "python",
   "nbconvert_exporter": "python",
   "pygments_lexer": "ipython3",
   "version": "3.6.5"
  }
 },
 "nbformat": 4,
 "nbformat_minor": 2
}
