{
 "cells": [
  {
   "cell_type": "code",
   "execution_count": 34,
   "metadata": {},
   "outputs": [
    {
     "name": "stdout",
     "output_type": "stream",
     "text": [
      "Original array:\n",
      "[1 2 3 4 5]\n",
      "reversed array:\n",
      "[5 4 3 2 1]\n"
     ]
    }
   ],
   "source": [
    "#Q1\n",
    "import numpy as np\n",
    "a = np.array([1,2,3,4,5])\n",
    "print(\"Original array:\")\n",
    "print(a)\n",
    "a=a[::-1]\n",
    "print(\"reversed array:\")\n",
    "print(a)"
   ]
  },
  {
   "cell_type": "code",
   "execution_count": 35,
   "metadata": {},
   "outputs": [
    {
     "name": "stdout",
     "output_type": "stream",
     "text": [
      "[[0 1 2]\n",
      " [3 4 5]\n",
      " [6 7 8]]\n"
     ]
    }
   ],
   "source": [
    "#Q2\n",
    "b=np.arange(9).reshape(3,3)\n",
    "print(b)"
   ]
  },
  {
   "cell_type": "code",
   "execution_count": 11,
   "metadata": {},
   "outputs": [
    {
     "name": "stdout",
     "output_type": "stream",
     "text": [
      "[[1. 1. 1. 1. 1. 1. 1. 1. 1. 1.]\n",
      " [1. 0. 0. 0. 0. 0. 0. 0. 0. 1.]\n",
      " [1. 0. 0. 0. 0. 0. 0. 0. 0. 1.]\n",
      " [1. 0. 0. 0. 0. 0. 0. 0. 0. 1.]\n",
      " [1. 0. 0. 0. 0. 0. 0. 0. 0. 1.]\n",
      " [1. 0. 0. 0. 0. 0. 0. 0. 0. 1.]\n",
      " [1. 0. 0. 0. 0. 0. 0. 0. 0. 1.]\n",
      " [1. 0. 0. 0. 0. 0. 0. 0. 0. 1.]\n",
      " [1. 0. 0. 0. 0. 0. 0. 0. 0. 1.]\n",
      " [1. 1. 1. 1. 1. 1. 1. 1. 1. 1.]]\n"
     ]
    }
   ],
   "source": [
    "#Q3\n",
    "c=np.ones((10,10))\n",
    "c[1:-1,1:-1]=np.zeros((8,8))\n",
    "print(c)"
   ]
  },
  {
   "cell_type": "code",
   "execution_count": 36,
   "metadata": {},
   "outputs": [
    {
     "name": "stdout",
     "output_type": "stream",
     "text": [
      "[[0.75423973 0.98388676]\n",
      " [0.86314993 0.78014333]\n",
      " [1.01317272 0.85658503]\n",
      " [0.58603968 0.76697628]\n",
      " [0.31739327 0.27932829]]\n"
     ]
    }
   ],
   "source": [
    "#Q4\n",
    "d=np.random.random((5,3))\n",
    "\n",
    "e=np.random.random((3,2))\n",
    "\n",
    "print(np.dot(d,e))"
   ]
  },
  {
   "cell_type": "code",
   "execution_count": 37,
   "metadata": {},
   "outputs": [
    {
     "name": "stdout",
     "output_type": "stream",
     "text": [
      "False\n"
     ]
    }
   ],
   "source": [
    "#Q6\n",
    "f=np.random.random((3,3))\n",
    "g=np.random.random((3,3))\n",
    "print(np.array_equal(f,g))"
   ]
  },
  {
   "cell_type": "code",
   "execution_count": 38,
   "metadata": {},
   "outputs": [
    {
     "name": "stdout",
     "output_type": "stream",
     "text": [
      "[8.35827401 2.72649583 7.11661475 8.23330924 2.15867312 8.97648606\n",
      " 3.88377318 3.54621294 9.41171916 1.17990111]\n",
      "[8. 2. 7. 8. 2. 8. 3. 3. 9. 1.]\n",
      "[8. 2. 7. 8. 2. 8. 3. 3. 9. 1.]\n",
      "[8. 2. 7. 8. 2. 8. 3. 3. 9. 1.]\n",
      "[8 2 7 8 2 8 3 3 9 1]\n",
      "[8. 2. 7. 8. 2. 8. 3. 3. 9. 1.]\n"
     ]
    }
   ],
   "source": [
    "#Q5\n",
    "k=np.random.uniform(0,10,10)\n",
    "print(k)\n",
    "print(k-k%1)\n",
    "print(np.ceil(k)-1)\n",
    "print(np.floor(k))\n",
    "print(k.astype(int))\n",
    "print(np.trunc(k))\n",
    "\n",
    "\n"
   ]
  },
  {
   "cell_type": "code",
   "execution_count": 27,
   "metadata": {},
   "outputs": [
    {
     "name": "stdout",
     "output_type": "stream",
     "text": [
      "[1.56204438 3.56336734 3.66835618 2.96101569 3.96201493] 3.963671463288997\n",
      "3.962014925798912\n"
     ]
    }
   ],
   "source": [
    "#Q7&9\n",
    "w=np.random.uniform(0,5,5)\n",
    "t=np.random.uniform(0,5)\n",
    "print(w,t)\n",
    "min=0\n",
    "for i in range(0,5,1):\n",
    "    if(abs(w[i]-t)<abs(w[min]-t)):min=i\n",
    "print(w[min])"
   ]
  },
  {
   "cell_type": "code",
   "execution_count": 33,
   "metadata": {},
   "outputs": [
    {
     "name": "stdout",
     "output_type": "stream",
     "text": [
      "[70 55 29 63 26  6 16 45 47 39]\n",
      "[47 55 63 70]\n"
     ]
    }
   ],
   "source": [
    "#Q8\n",
    "#assuming n=4\n",
    "h=np.random.uniform(0,100,10).astype(int)\n",
    "print(h)\n",
    "print(np.sort(h)[-4:])\n"
   ]
  },
  {
   "cell_type": "code",
   "execution_count": 32,
   "metadata": {},
   "outputs": [
    {
     "name": "stdout",
     "output_type": "stream",
     "text": [
      "INITIAL ARRAY:\n",
      " [0.40923285 0.88471774 0.05588803 0.28562566 0.53224849 0.75152313\n",
      " 0.23335247 0.5821984  0.81043541 0.84755293]\n",
      "[ 0.40923285 -1.          0.05588803  0.28562566  0.53224849  0.75152313\n",
      "  0.23335247  0.5821984   0.81043541  0.84755293]\n"
     ]
    }
   ],
   "source": [
    "#Q10\n",
    "i=np.random.random(10)\n",
    "j=np.argmax(i)\n",
    "print(\"INITIAL ARRAY:\\n\",i)\n",
    "i[j]=-1\n",
    "print(i)"
   ]
  },
  {
   "cell_type": "code",
   "execution_count": 31,
   "metadata": {},
   "outputs": [
    {
     "name": "stdout",
     "output_type": "stream",
     "text": [
      "[[0.81292104 0.74332211 0.84890699 0.78968695 0.61149828 0.30024062]\n",
      " [0.23573335 0.25640359 0.35591005 0.70803634 0.02195072 0.54339982]\n",
      " [0.74993175 0.96181062 0.11091506 0.36301923 0.29484346 0.91077418]\n",
      " [0.94574943 0.91364764 0.89874266 0.62641341 0.29044017 0.58301515]\n",
      " [0.03230669 0.43152263 0.42727398 0.94440154 0.80509796 0.32027155]\n",
      " [0.9922793  0.56066467 0.61534208 0.18402227 0.37882531 0.35941571]]\n",
      "4\n",
      "[0.02195072 0.29044017 0.29484346 0.37882531 0.61149828 0.80509796]\n",
      "[[0.81292104 0.74332211 0.84890699 0.78968695 0.02195072 0.30024062]\n",
      " [0.23573335 0.25640359 0.35591005 0.70803634 0.29044017 0.54339982]\n",
      " [0.74993175 0.96181062 0.11091506 0.36301923 0.29484346 0.91077418]\n",
      " [0.94574943 0.91364764 0.89874266 0.62641341 0.37882531 0.58301515]\n",
      " [0.03230669 0.43152263 0.42727398 0.94440154 0.61149828 0.32027155]\n",
      " [0.9922793  0.56066467 0.61534208 0.18402227 0.80509796 0.35941571]]\n"
     ]
    }
   ],
   "source": [
    "#Q12\n",
    "k=np.random.random((6,6))\n",
    "print(k)\n",
    "n=int(np.random.uniform(0,6))\n",
    "print(n)\n",
    "print(np.sort(k[:,n]))\n",
    "k[:,n]=np.sort(k[:,n])\n",
    "print(k)"
   ]
  },
  {
   "cell_type": "code",
   "execution_count": 30,
   "metadata": {},
   "outputs": [
    {
     "name": "stdout",
     "output_type": "stream",
     "text": [
      "[[ 9.07024756  7.26351925  7.32951086  8.24246675]\n",
      " [10.37028414  6.15006644  9.02934571  7.13126378]\n",
      " [ 9.43606175  8.26129711  6.54823342  7.07356803]\n",
      " [ 8.47315347 10.11133724  8.17603859  7.67068009]]\n"
     ]
    }
   ],
   "source": [
    "#Q13\n",
    "o=np.random.random((4,4,4,4))\n",
    "\n",
    "print(o.sum(axis=(-1,-2)))"
   ]
  },
  {
   "cell_type": "code",
   "execution_count": 29,
   "metadata": {},
   "outputs": [
    {
     "name": "stdout",
     "output_type": "stream",
     "text": [
      "[(95, 1)]\n"
     ]
    }
   ],
   "source": [
    "\n",
    "from collections import Counter\n",
    "#Q14\n",
    "x=np.random.uniform(0,100,5).astype(int)\n",
    "print(Counter(x).most_common(1))"
   ]
  },
  {
   "cell_type": "code",
   "execution_count": 28,
   "metadata": {},
   "outputs": [
    {
     "name": "stdout",
     "output_type": "stream",
     "text": [
      "[[ 0.         56.54636447 48.83444329 30.74708637 41.82812041 15.54517545\n",
      "  15.41461689 10.92033944 31.75141464 10.36268264]\n",
      " [56.54636447  0.         99.82376934 33.16047705 68.69617937 55.37692324\n",
      "  48.69575286 51.77820619 48.76019874 46.5452317 ]\n",
      " [48.83444329 99.82376934  0.         67.31738722 82.30290028 44.48379042\n",
      "  51.24109075 48.81903716 54.96773277 58.46890524]\n",
      " [30.74708637 33.16047705 67.31738722  0.         61.88262834 23.61741543\n",
      "  17.70421832 21.99003337 16.44833423 24.17081851]\n",
      " [41.82812041 68.69617937 82.30290028 61.88262834  0.         56.98603842\n",
      "  54.49480532 51.26876571 70.54188454 40.13441793]\n",
      " [15.54517545 55.37692324 44.48379042 23.61741543 56.98603842  0.\n",
      "   6.800477    6.27734937 17.69023067 18.90746628]\n",
      " [15.41461689 48.69575286 51.24109075 17.70421832 54.49480532  6.800477\n",
      "   0.          4.73772401 16.55882321 14.68741207]\n",
      " [10.92033944 51.77820619 48.81903716 21.99003337 51.26876571  6.27734937\n",
      "   4.73772401  0.         20.83144004 12.6309777 ]\n",
      " [31.75141464 48.76019874 54.96773277 16.44833423 70.54188454 17.69023067\n",
      "  16.55882321 20.83144004  0.         30.40746663]\n",
      " [10.36268264 46.5452317  58.46890524 24.17081851 40.13441793 18.90746628\n",
      "  14.68741207 12.6309777  30.40746663  0.        ]]\n"
     ]
    }
   ],
   "source": [
    "#Q11\n",
    "q=np.random.uniform(0,100,(10,2))\n",
    "\n",
    "x,y=np.atleast_2d(q[:,0],q[:,1])\n",
    "print(np.sqrt((x-x.T)**2+(y-y.T)**2))"
   ]
  },
  {
   "cell_type": "code",
   "execution_count": null,
   "metadata": {},
   "outputs": [],
   "source": []
  }
 ],
 "metadata": {
  "kernelspec": {
   "display_name": "Python 3",
   "language": "python",
   "name": "python3"
  },
  "language_info": {
   "codemirror_mode": {
    "name": "ipython",
    "version": 3
   },
   "file_extension": ".py",
   "mimetype": "text/x-python",
   "name": "python",
   "nbconvert_exporter": "python",
   "pygments_lexer": "ipython3",
   "version": "3.6.4"
  }
 },
 "nbformat": 4,
 "nbformat_minor": 2
}
