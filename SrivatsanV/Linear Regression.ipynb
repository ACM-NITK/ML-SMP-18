{
 "cells": [
  {
   "cell_type": "code",
   "execution_count": 214,
   "metadata": {},
   "outputs": [],
   "source": [
    "import numpy as np\n",
    "\n",
    "def hypothesis(theta,x):\n",
    "    \n",
    "    return np.dot(x[:,1],theta[1]),np.dot(x[:,0],theta[0])\n",
    "\n"
   ]
  },
  {
   "cell_type": "code",
   "execution_count": 215,
   "metadata": {},
   "outputs": [],
   "source": [
    "def Cost_Function(X,Y,theta,m):\n",
    "    h,k=hypothesis(theta,X)\n",
    "    return (1/(2*m)) * np.sum((Y-h-k)**2)\n"
   ]
  },
  {
   "cell_type": "code",
   "execution_count": 216,
   "metadata": {},
   "outputs": [],
   "source": [
    "def Cost_Function_Derivative(X,Y,theta,m):\n",
    "    h,k=hypothesis(theta,X)\n",
    "    a=h+k-Y\n",
    "    c=(1/m)*np.dot(a,X[:,1])\n",
    "    d=(1/m)*np.sum(a)\n",
    "    \n",
    "    return c,d\n"
   ]
  },
  {
   "cell_type": "code",
   "execution_count": 217,
   "metadata": {},
   "outputs": [],
   "source": [
    "def Gradient_Descent(X,Y,theta, m, alpha):\n",
    "    a,b=Cost_Function_Derivative(X,Y,theta,m)\n",
    "    temp1=theta[0]-alpha*b\n",
    "    temp2=theta[1]-alpha*a\n",
    "    theta[0]=temp1\n",
    "    theta[1]=temp2\n",
    "    \n",
    "    return theta\n"
   ]
  },
  {
   "cell_type": "code",
   "execution_count": 218,
   "metadata": {},
   "outputs": [],
   "source": [
    "def Linear_Regression(X,Y,alpha,theta,num_iters):\n",
    "\tm = len(X)\n",
    "\tfor x in range(num_iters):\n",
    "\t\tnew_theta = Gradient_Descent(X,Y,theta, m, alpha)\n",
    "\t\ttheta = new_theta\n",
    "\t\tif x % 100 == 0:\n",
    "\t\t\tprint ('theta ', theta)\n",
    "\t\t\tprint ('cost is ', Cost_Function(X,Y,theta,m))\n",
    "\treturn new_theta"
   ]
  },
  {
   "cell_type": "code",
   "execution_count": 219,
   "metadata": {},
   "outputs": [
    {
     "name": "stdout",
     "output_type": "stream",
     "text": [
      "theta  [0.22055556 1.15055556]\n",
      "cost is  130.10788744855964\n",
      "theta  [3.92354946 3.0288209 ]\n",
      "cost is  22.44538837909337\n",
      "theta  [6.62710427 2.59915726]\n",
      "cost is  14.932918667326838\n",
      "theta  [8.82826214 2.24933727]\n",
      "cost is  9.953085853295986\n",
      "theta  [10.62038264  1.96452373]\n",
      "cost is  6.652076224351063\n",
      "theta  [12.07947647  1.7326366 ]\n",
      "cost is  4.463917509527264\n",
      "theta  [13.2674294   1.54384066]\n",
      "cost is  3.013440504166429\n",
      "theta  [14.23462709  1.39012834]\n",
      "cost is  2.0519546993079083\n",
      "theta  [15.0220921   1.26498012]\n",
      "cost is  1.4146092263857422\n",
      "theta  [15.66322384  1.16308797]\n",
      "cost is  0.9921284681657556\n",
      "theta  [16.18521517  1.08013027]\n",
      "cost is  0.7120762850886929\n",
      "theta  [16.61020575  1.01258846]\n",
      "cost is  0.5264365281997291\n",
      "theta  [16.95622107  0.95759782]\n",
      "cost is  0.403380464293541\n",
      "theta  [17.23793695  0.912826  ]\n",
      "cost is  0.3218096029766949\n",
      "theta  [17.46730206  0.87637405]\n",
      "cost is  0.2677382699211795\n",
      "theta  [17.65404464  0.8466959 ]\n",
      "cost is  0.23189570296526774\n",
      "theta  [17.80608517  0.82253279]\n",
      "cost is  0.20813654014474\n",
      "theta  [17.92987227  0.80285987]\n",
      "cost is  0.19238717100422262\n",
      "theta  [18.03065623  0.78684274]\n",
      "cost is  0.18194729859803102\n",
      "theta  [18.11271168  0.77380204]\n",
      "cost is  0.1750269619873922\n",
      "New theta value  [18.17891653  0.7632804 ]\n"
     ]
    }
   ],
   "source": [
    "Y= np.array([19, 20, 20.5, 21.5, 22, 23, 23, 25.5, 24])\n",
    "X = np.array([[1,1],[1,2],[1,3],[1,4],[1,5],[1,6],[1,7],[1,8],[1,9]])\n",
    "alpha=0.01\n",
    "theta = np.array([0.0,0.0])\n",
    "num_iters =2000\n",
    "nt =Linear_Regression(X,Y,alpha,theta,num_iters)\n",
    "print( 'New theta value ' ,nt)"
   ]
  },
  {
   "cell_type": "code",
   "execution_count": null,
   "metadata": {},
   "outputs": [],
   "source": []
  },
  {
   "cell_type": "code",
   "execution_count": null,
   "metadata": {},
   "outputs": [],
   "source": []
  },
  {
   "cell_type": "code",
   "execution_count": null,
   "metadata": {},
   "outputs": [],
   "source": []
  },
  {
   "cell_type": "code",
   "execution_count": null,
   "metadata": {},
   "outputs": [],
   "source": []
  }
 ],
 "metadata": {
  "kernelspec": {
   "display_name": "Python 3",
   "language": "python",
   "name": "python3"
  },
  "language_info": {
   "codemirror_mode": {
    "name": "ipython",
    "version": 3
   },
   "file_extension": ".py",
   "mimetype": "text/x-python",
   "name": "python",
   "nbconvert_exporter": "python",
   "pygments_lexer": "ipython3",
   "version": "3.6.4"
  }
 },
 "nbformat": 4,
 "nbformat_minor": 2
}
