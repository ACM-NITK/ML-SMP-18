{
 "cells": [
  {
   "cell_type": "code",
   "execution_count": 1,
   "metadata": {},
   "outputs": [
    {
     "name": "stdout",
     "output_type": "stream",
     "text": [
      "[[8 7 6 5 4 3 2 1]]\n"
     ]
    }
   ],
   "source": [
    "import numpy as np\n",
    "#Question 1\n",
    "a=np.array([1,2,3,4,5,6,7,8])\n",
    "reverse_a = np.fliplr([a])\n",
    "print(reverse_a)\n"
   ]
  },
  {
   "cell_type": "code",
   "execution_count": 2,
   "metadata": {},
   "outputs": [
    {
     "name": "stdout",
     "output_type": "stream",
     "text": [
      "[[0 1 2]\n",
      " [3 4 5]\n",
      " [6 7 8]]\n"
     ]
    }
   ],
   "source": [
    "#Question 2\n",
    "matrix = np.arange(9).reshape(3,3)\n",
    "print(matrix)"
   ]
  },
  {
   "cell_type": "code",
   "execution_count": 3,
   "metadata": {},
   "outputs": [
    {
     "name": "stdout",
     "output_type": "stream",
     "text": [
      "[[1. 1. 1. 1. 1.]\n",
      " [1. 0. 0. 0. 1.]\n",
      " [1. 0. 0. 0. 1.]\n",
      " [1. 0. 0. 0. 1.]\n",
      " [1. 1. 1. 1. 1.]]\n"
     ]
    }
   ],
   "source": [
    "#Question 3\n",
    "b=np.zeros((5,5))\n",
    "c=np.ones((5))\n",
    "b[:1]=c\n",
    "b[4:]=c\n",
    "b[:,0]=c\n",
    "b[:,4]=c\n",
    "print(b)"
   ]
  },
  {
   "cell_type": "code",
   "execution_count": 4,
   "metadata": {},
   "outputs": [
    {
     "name": "stdout",
     "output_type": "stream",
     "text": [
      "[[ 20  29]\n",
      " [ 26  38]\n",
      " [ 38  56]\n",
      " [ 50  74]\n",
      " [ 68 101]]\n"
     ]
    }
   ],
   "source": [
    "#Question 4\n",
    "c=np.array([[2,3,4],[3,4,5],[5,6,7],[7 ,8 ,9],[10,11,12]])\n",
    "d=np.array([[1,2],[2,3],[3,4]])\n",
    "e=c@d   #Matrix multiplication\n",
    "print(e)"
   ]
  },
  {
   "cell_type": "code",
   "execution_count": 5,
   "metadata": {},
   "outputs": [
    {
     "name": "stdout",
     "output_type": "stream",
     "text": [
      "[3.47007173 4.45936796 3.14620281 3.607395   1.05986905]\n",
      "[3. 4. 3. 4. 1.]\n",
      "[3. 4. 3. 3. 1.]\n",
      "[3. 4. 3. 3. 1.]\n",
      "[3. 4. 3. 3. 1.]\n",
      "[3. 4. 3. 3. 1.]\n"
     ]
    }
   ],
   "source": [
    "#Question 5\n",
    "Z = np.random.uniform(1,10,5)\n",
    "print(Z)\n",
    "\n",
    "print (np.rint(Z))  #1\n",
    "print (Z - Z%1)     #2\n",
    "print (np.floor(Z))  #3\n",
    "print (np.ceil(Z)-1)  #4\n",
    "print (np.trunc(Z))   #5"
   ]
  },
  {
   "cell_type": "code",
   "execution_count": 6,
   "metadata": {},
   "outputs": [
    {
     "name": "stdout",
     "output_type": "stream",
     "text": [
      "NOT EQUAL\n"
     ]
    }
   ],
   "source": [
    "#Question 6\n",
    "\n",
    "A=np.random.normal(size=5)\n",
    "B=np.random.normal(size=5)\n",
    "if np.array_equal(A,B):\n",
    "  print('EQUAL')\n",
    "else:\n",
    " print('NOT EQUAL')"
   ]
  },
  {
   "cell_type": "code",
   "execution_count": 7,
   "metadata": {},
   "outputs": [
    {
     "name": "stdout",
     "output_type": "stream",
     "text": [
      "8.638328281639776\n"
     ]
    }
   ],
   "source": [
    "#Question 7\n",
    "def nearestValue(array,value):\n",
    "    ind=(np.abs(array-value)).argmin()\n",
    "    return array[ind]\n",
    "q = np.random.normal(1,15,10)\n",
    "value= 5\n",
    "print(nearestValue(q,value))"
   ]
  },
  {
   "cell_type": "code",
   "execution_count": 8,
   "metadata": {},
   "outputs": [
    {
     "name": "stdout",
     "output_type": "stream",
     "text": [
      "[13  9  6  5]\n"
     ]
    }
   ],
   "source": [
    "#Question 8\n",
    "a=np.array([2,13,4,1,6,0,9,5])\n",
    "\n",
    "\n",
    "b=-np.sort(-a)\n",
    "n=4    # n largest numbers\n",
    "\n",
    "print(b[:n])"
   ]
  },
  {
   "cell_type": "code",
   "execution_count": 9,
   "metadata": {},
   "outputs": [
    {
     "name": "stdout",
     "output_type": "stream",
     "text": [
      "8.793327845137693\n"
     ]
    }
   ],
   "source": [
    "#Question 9\n",
    "def nearestValue(array,value):\n",
    "    ind=(np.abs(array-value)).argmin()\n",
    "    return array[ind]\n",
    "q = np.random.normal(1,15,10)\n",
    "value= 8\n",
    "print(nearestValue(q,value))"
   ]
  },
  {
   "cell_type": "code",
   "execution_count": 10,
   "metadata": {},
   "outputs": [
    {
     "name": "stdout",
     "output_type": "stream",
     "text": [
      "[-1.          1.73669513  1.42459271  1.15696612  0.6260949   0.54070942\n",
      "  0.50452188  0.3385939   0.05646326 -0.64475989 -0.83142749 -1.16057233\n",
      " -1.22671335 -1.31703436 -1.40777198]\n"
     ]
    }
   ],
   "source": [
    "#Question 10\n",
    "A=np.random.normal(size=15)\n",
    "A=-np.sort(-A)  #Sorted in Descending order\n",
    "A[0]=-1\n",
    "print(A)\n"
   ]
  },
  {
   "cell_type": "code",
   "execution_count": 11,
   "metadata": {},
   "outputs": [
    {
     "name": "stdout",
     "output_type": "stream",
     "text": [
      "[[  0.          50.58525355  39.96354349  75.44653909 258.5066335\n",
      "  298.37257964 267.37659407  45.33349837 113.15853537 315.4894385 ]\n",
      " [ 50.58525355   0.          68.0016789   60.94029576 207.96865435\n",
      "  254.05486775 256.68303107  34.63767058  64.47269343 313.49643373]\n",
      " [ 39.96354349  68.0016789    0.         111.89704385 267.5997428\n",
      "  287.34933356 231.5101998   39.51624979 116.58735733 355.4527458 ]\n",
      " [ 75.44653909  60.94029576 111.89704385   0.         219.39023092\n",
      "  294.67770761 317.61001098  91.61433099 106.60827264 252.66278716]\n",
      " [258.5066335  207.96865435 267.5997428  219.39023092   0.\n",
      "  142.91517573 318.96937101 228.15095874 151.21354517 374.98384486]\n",
      " [298.37257964 254.05486775 287.34933356 294.67770761 142.91517573\n",
      "    0.         223.10623779 254.976411   191.01236236 501.48938378]\n",
      " [267.37659407 256.68303107 231.5101998  317.61001098 318.96937101\n",
      "  223.10623779   0.         229.49378887 233.74562628 569.7679806 ]\n",
      " [ 45.33349837  34.63767058  39.51624979  91.61433099 228.15095874\n",
      "  254.976411   229.49378887   0.          77.35801083 343.52299769]\n",
      " [113.15853537  64.47269343 116.58735733 106.60827264 151.21354517\n",
      "  191.01236236 233.74562628  77.35801083   0.         344.19189217]\n",
      " [315.4894385  313.49643373 355.4527458  252.66278716 374.98384486\n",
      "  501.48938378 569.7679806  343.52299769 344.19189217   0.        ]]\n"
     ]
    }
   ],
   "source": [
    "#Question 11\n",
    "A=np.random.normal(1,100,20).reshape(10,2)\n",
    "B=A[:,:1]\n",
    "C=A[:,1:2]\n",
    "D=np.sqrt((B-B.T)**2 + (C-C.T)**2)\n",
    "print(D)"
   ]
  },
  {
   "cell_type": "code",
   "execution_count": 12,
   "metadata": {},
   "outputs": [
    {
     "name": "stdout",
     "output_type": "stream",
     "text": [
      "[[ -4.86221084   5.48616844  -8.87011275   3.47898136  10.7956396 ]\n",
      " [ -4.18483904  -5.19571808   6.12694195  -5.60638799   0.58859241]\n",
      " [  1.23047359  -9.29385247   7.46177847  14.72603519 -10.0411641 ]\n",
      " [ -1.24549999  -7.88843864  -2.99997992   3.25925071   2.67205928]\n",
      " [ 22.35395018   7.77767087  21.92078046   5.17350076   2.20362176]]\n",
      "[[[  1.23047359  -9.29385247   7.46177847  14.72603519 -10.0411641 ]\n",
      "  [ -4.86221084   5.48616844  -8.87011275   3.47898136  10.7956396 ]\n",
      "  [ -1.24549999  -7.88843864  -2.99997992   3.25925071   2.67205928]\n",
      "  [ -4.18483904  -5.19571808   6.12694195  -5.60638799   0.58859241]\n",
      "  [ 22.35395018   7.77767087  21.92078046   5.17350076   2.20362176]]]\n"
     ]
    }
   ],
   "source": [
    "#Question 12    \n",
    "S=np.random.normal(1,10,25).reshape(5,5)\n",
    "print(S)\n",
    "R=S[S[:1].argsort()]\n",
    "print(R)\n"
   ]
  },
  {
   "cell_type": "code",
   "execution_count": 13,
   "metadata": {},
   "outputs": [
    {
     "name": "stdout",
     "output_type": "stream",
     "text": [
      "[[[[5.58213366 6.05056069]\n",
      "   [8.92817552 3.51663382]]\n",
      "\n",
      "  [[2.79074757 7.7009718 ]\n",
      "   [8.92166503 1.87809036]]]\n",
      "\n",
      "\n",
      " [[[9.15245916 2.22424336]\n",
      "   [8.3232333  2.24291664]]\n",
      "\n",
      "  [[4.37841194 7.4211781 ]\n",
      "   [8.90881605 4.04699449]]]]\n",
      "[[24.07750369 21.29147476]\n",
      " [21.94285246 24.75540059]]\n"
     ]
    }
   ],
   "source": [
    "#Question 13\n",
    "A=np.random.uniform(1,10,16).reshape(2,2,2,2)\n",
    "print(A)\n",
    "print(np.sum(A,axis=(2,3)))"
   ]
  },
  {
   "cell_type": "code",
   "execution_count": 14,
   "metadata": {},
   "outputs": [
    {
     "name": "stdout",
     "output_type": "stream",
     "text": [
      "[5 3 5 8 3 2 0 7 7 3 6 7 0 9 5 5 6 2 9 1 3 6 8 4 6 2 9 6 8 5 5 5 6 2 5 9 1\n",
      " 7 8 1 5 7 0 4 3 1 2 6 8 1]\n",
      "5\n"
     ]
    }
   ],
   "source": [
    "#Question 14\n",
    "E = np.random.randint(0,10,50)\n",
    "print(E)\n",
    "print(np.bincount(E).argmax())"
   ]
  },
  {
   "cell_type": "code",
   "execution_count": null,
   "metadata": {},
   "outputs": [],
   "source": []
  }
 ],
 "metadata": {
  "kernelspec": {
   "display_name": "Python 3",
   "language": "python",
   "name": "python3"
  },
  "language_info": {
   "codemirror_mode": {
    "name": "ipython",
    "version": 3
   },
   "file_extension": ".py",
   "mimetype": "text/x-python",
   "name": "python",
   "nbconvert_exporter": "python",
   "pygments_lexer": "ipython3",
   "version": "3.6.4"
  }
 },
 "nbformat": 4,
 "nbformat_minor": 2
}
