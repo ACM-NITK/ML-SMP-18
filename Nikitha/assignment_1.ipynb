{
 "cells": [
  {
   "cell_type": "code",
   "execution_count": null,
   "metadata": {},
   "outputs": [],
   "source": [
    "import numpy as np\n"
   ]
  },
  {
   "cell_type": "code",
   "execution_count": null,
   "metadata": {},
   "outputs": [],
   "source": [
    "#question 1: reversing vector\n",
    "import numpy as np\n",
    "x=int(input('enter magnitude of vector in x direction'))\n",
    "y=int(input('enter magnitude of vector in y direction'))\n",
    "z=int(input('enter magnitude of vector in z direction'))\n",
    "a=np.array([x,y,z])\n",
    "b=a[::-1]      #using slicing method\n",
    "print('given vector:',a[0],'i +',a[1],'j +',a[2],'k')\n",
    "print('reversed vector:',b[0],'i +',b[1],'j +',b[2],'k')\n"
   ]
  },
  {
   "cell_type": "code",
   "execution_count": null,
   "metadata": {},
   "outputs": [],
   "source": [
    "#question 2:\n",
    "#c=np.array([[0,1,2],[3,4,5],[6,7,8]])\n",
    "import numpy as np\n",
    "c=np.arange(0,9,1).reshape(3,3)\n",
    "print(c)"
   ]
  },
  {
   "cell_type": "code",
   "execution_count": null,
   "metadata": {},
   "outputs": [],
   "source": [
    "#question 3:\n",
    "import numpy as np\n",
    "print('enter order of matrix')\n",
    "n=int(input())\n",
    "m=int(input())\n",
    "d=np.ones((n,m))\n",
    "d[1:-1,1:-1]=0\n",
    "print(d)"
   ]
  },
  {
   "cell_type": "code",
   "execution_count": null,
   "metadata": {},
   "outputs": [],
   "source": [
    "#question 4:\n",
    "import numpy as np\n",
    "p=np.random.random((5,3))\n",
    "print('matrix 1:\\n',p)\n",
    "q=np.random.random((3,2))\n",
    "print('matrix 2:\\n',q)\n",
    "print('multiplied matrix:\\n',np.dot(p,q))"
   ]
  },
  {
   "cell_type": "code",
   "execution_count": null,
   "metadata": {},
   "outputs": [],
   "source": [
    "#question 5:\n",
    "import numpy as np"
   ]
  },
  {
   "cell_type": "code",
   "execution_count": null,
   "metadata": {},
   "outputs": [],
   "source": [
    "#question 6:\n",
    "import numpy as np\n",
    "w=np.random.random((2,2))\n",
    "z=np.random.random((2,2))\n",
    "print('matrix 1:\\n',w)\n",
    "print('matrix 2:\\n',z)\n",
    "print('matrix 1 and 2 are')\n",
    "x=w==z\n",
    "if np.all(x):\n",
    "    print('equal')\n",
    "else:\n",
    "    print('not equal')"
   ]
  },
  {
   "cell_type": "code",
   "execution_count": null,
   "metadata": {},
   "outputs": [],
   "source": [
    "#question 7:\n",
    "import numpy as np\n",
    "arr=np.random.random((10))\n",
    "print(arr)\n",
    "value=float(input('enter value '))\n",
    "print('nearest value is :',arr[(np.abs(arr-value)).argmin()])\n"
   ]
  },
  {
   "cell_type": "code",
   "execution_count": null,
   "metadata": {},
   "outputs": [],
   "source": [
    "#question 8:\n",
    "import numpy as np\n",
    "arr=np.random.random((10))\n",
    "print(arr)\n",
    "print('largest value is :',arr[arr.argmax()])"
   ]
  },
  {
   "cell_type": "code",
   "execution_count": null,
   "metadata": {},
   "outputs": [],
   "source": [
    "#question 9:\n",
    "import numpy as np\n",
    "arr=np.random.random((10))\n",
    "print(arr)\n",
    "value=float(input('enter value '))\n",
    "print('nearest value is :',arr[(np.abs(arr-value)).argmin()])"
   ]
  },
  {
   "cell_type": "code",
   "execution_count": null,
   "metadata": {},
   "outputs": [],
   "source": [
    "#question 10:\n",
    "import numpy as np\n",
    "arr=np.random.random((15))\n",
    "print(arr)\n",
    "arr[arr.argmin()]=-1\n",
    "print('after replacing min value with -1 :\\n',arr)"
   ]
  },
  {
   "cell_type": "code",
   "execution_count": null,
   "metadata": {},
   "outputs": [],
   "source": [
    "#question 11:\n",
    "import math\n",
    "import numpy as np\n",
    "points=np.random.random((100,2))\n",
    "#print(points)\n",
    "for i in points-1:\n",
    "    print(math.sqrt(i[0]-(i+1)[0]))"
   ]
  },
  {
   "cell_type": "code",
   "execution_count": null,
   "metadata": {},
   "outputs": [],
   "source": [
    "#question 12\n",
    "import numpy as np\n",
    "print('enter order of matrix')\n",
    "n=int(input())\n",
    "m=int(input())\n",
    "arr=np.random.random((n,m))\n",
    "print('initial matrix :\\n',arr)\n",
    "#arr=[[3,4,5,3,8,3],[2,9,3,7,4,9],[4,7,1,9,3,7]]\n",
    "x=int(input('enter column index to be sorted '))\n",
    "arr = arr[arr[:,x].argsort()]\n",
    "print('matrix after sorting :\\n',arr)"
   ]
  },
  {
   "cell_type": "code",
   "execution_count": null,
   "metadata": {},
   "outputs": [],
   "source": [
    "#question 13\n",
    "import numpy as np\n",
    "arr=np.random.random((2,3,3,2))\n",
    "print(arr)\n",
    "print('sum of last 2 axis is: ',np.sum(arr[axis=(-1,-2)]))"
   ]
  },
  {
   "cell_type": "code",
   "execution_count": null,
   "metadata": {},
   "outputs": [],
   "source": [
    "#question 14:\n",
    "import numpy as np\n",
    "a = np.array([1,2,3,1,2,1,1,1,3,2,2,1])\n",
    "counts = np.bincount(a)\n",
    "print(np.argmax(counts))\n"
   ]
  }
 ],
 "metadata": {
  "kernelspec": {
   "display_name": "Python 3",
   "language": "python",
   "name": "python3"
  },
  "language_info": {
   "codemirror_mode": {
    "name": "ipython",
    "version": 3
   },
   "file_extension": ".py",
   "mimetype": "text/x-python",
   "name": "python",
   "nbconvert_exporter": "python",
   "pygments_lexer": "ipython3",
   "version": "3.6.4"
  }
 },
 "nbformat": 4,
 "nbformat_minor": 2
}
