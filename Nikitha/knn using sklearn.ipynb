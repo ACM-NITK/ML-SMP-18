{
 "cells": [
  {
   "cell_type": "code",
   "execution_count": 52,
   "metadata": {},
   "outputs": [
    {
     "name": "stdout",
     "output_type": "stream",
     "text": [
      "size of training data= 102\n",
      "size of test data= 48\n",
      "value of k= 4\n",
      "[6.  2.7 5.1 1.6] : predicted value= 2    actual value= 1\n",
      "[5.1 3.5 1.4 0.2] : predicted value= 0    actual value= 0\n",
      "[7.7 3.  6.1 2.3] : predicted value= 2    actual value= 2\n",
      "[5.8 2.7 4.1 1. ] : predicted value= 1    actual value= 1\n",
      "[5.1 3.8 1.6 0.2] : predicted value= 0    actual value= 0\n",
      "[4.8 3.4 1.6 0.2] : predicted value= 0    actual value= 0\n",
      "[7.9 3.8 6.4 2. ] : predicted value= 2    actual value= 2\n",
      "[5.2 4.1 1.5 0.1] : predicted value= 0    actual value= 0\n",
      "[6.1 3.  4.9 1.8] : predicted value= 2    actual value= 2\n",
      "[6.4 2.8 5.6 2.1] : predicted value= 2    actual value= 2\n",
      "[6.3 2.7 4.9 1.8] : predicted value= 2    actual value= 2\n",
      "[4.4 3.2 1.3 0.2] : predicted value= 0    actual value= 0\n",
      "[4.8 3.  1.4 0.1] : predicted value= 0    actual value= 0\n",
      "[6.9 3.1 5.4 2.1] : predicted value= 2    actual value= 2\n",
      "[4.9 2.5 4.5 1.7] : predicted value= 1    actual value= 2\n",
      "[5.4 3.4 1.7 0.2] : predicted value= 0    actual value= 0\n",
      "[4.3 3.  1.1 0.1] : predicted value= 0    actual value= 0\n",
      "[7.7 2.6 6.9 2.3] : predicted value= 2    actual value= 2\n",
      "[6.9 3.1 5.1 2.3] : predicted value= 2    actual value= 2\n",
      "[4.9 3.  1.4 0.2] : predicted value= 0    actual value= 0\n",
      "[5.4 3.7 1.5 0.2] : predicted value= 0    actual value= 0\n",
      "[6.3 2.5 5.  1.9] : predicted value= 2    actual value= 2\n",
      "[6.4 2.7 5.3 1.9] : predicted value= 2    actual value= 2\n",
      "[7.7 3.8 6.7 2.2] : predicted value= 2    actual value= 2\n",
      "[6.8 3.2 5.9 2.3] : predicted value= 2    actual value= 2\n",
      "[5.7 3.  4.2 1.2] : predicted value= 1    actual value= 1\n",
      "[4.4 2.9 1.4 0.2] : predicted value= 0    actual value= 0\n",
      "[6.5 3.2 5.1 2. ] : predicted value= 2    actual value= 2\n",
      "[6.8 3.  5.5 2.1] : predicted value= 2    actual value= 2\n",
      "[7.4 2.8 6.1 1.9] : predicted value= 2    actual value= 2\n",
      "[4.9 3.1 1.5 0.1] : predicted value= 0    actual value= 0\n",
      "[5.1 2.5 3.  1.1] : predicted value= 1    actual value= 1\n",
      "[6.1 2.6 5.6 1.4] : predicted value= 2    actual value= 2\n",
      "[5.1 3.5 1.4 0.3] : predicted value= 0    actual value= 0\n",
      "[4.6 3.2 1.4 0.2] : predicted value= 0    actual value= 0\n",
      "[7.  3.2 4.7 1.4] : predicted value= 1    actual value= 1\n",
      "[5.6 3.  4.5 1.5] : predicted value= 1    actual value= 1\n",
      "[5.1 3.4 1.5 0.2] : predicted value= 0    actual value= 0\n",
      "[5.  3.3 1.4 0.2] : predicted value= 0    actual value= 0\n",
      "[6.7 3.3 5.7 2.1] : predicted value= 2    actual value= 2\n",
      "[5.7 4.4 1.5 0.4] : predicted value= 0    actual value= 0\n",
      "[5.2 2.7 3.9 1.4] : predicted value= 1    actual value= 1\n",
      "[4.9 2.4 3.3 1. ] : predicted value= 1    actual value= 1\n",
      "[5.7 3.8 1.7 0.3] : predicted value= 0    actual value= 0\n",
      "[5.1 3.8 1.5 0.3] : predicted value= 0    actual value= 0\n",
      "[7.1 3.  5.9 2.1] : predicted value= 2    actual value= 2\n",
      "[6.3 2.5 4.9 1.5] : predicted value= 2    actual value= 1\n",
      "[5.6 3.  4.1 1.3] : predicted value= 1    actual value= 1\n",
      "\n",
      "Accuracy: 93.75\n"
     ]
    }
   ],
   "source": [
    "from sklearn import datasets\n",
    "import pandas as pd\n",
    "def loaddata():\n",
    "    iris=datasets.load_iris()\n",
    "    data_x=iris.data\n",
    "    data_y=iris.target\n",
    "    \n",
    "    \"\"\" df=pd.DataFrame(data_x)\n",
    "    df.columns=iris.feature_names\n",
    "    df['CLASS']=iris.target\n",
    "    df.head()\"\"\"\n",
    "    splitdata(data_x,data_y)\n",
    "    \n",
    "   \n",
    "    \n",
    "loaddata()\n"
   ]
  },
  {
   "cell_type": "code",
   "execution_count": 31,
   "metadata": {},
   "outputs": [],
   "source": [
    "from sklearn.cross_validation import train_test_split\n",
    "import random\n",
    "import numpy as np\n",
    "def splitdata(data_x,data_y):\n",
    "    while 1:\n",
    "        split=random.random()\n",
    "        if split<0.33:\n",
    "            break\n",
    "    train_x,test_x,train_y,test_y=train_test_split(data_x,data_y,test_size=split)\n",
    "    print('size of training data=',len(train_x))\n",
    "    print('size of test data=',len(test_x))\n",
    "    predictions(train_x,train_y,test_x,test_y)\n"
   ]
  },
  {
   "cell_type": "code",
   "execution_count": 47,
   "metadata": {},
   "outputs": [],
   "source": [
    "from sklearn.neighbors import KNeighborsClassifier\n",
    "def predictions(train_x,train_y,test_x,test_y):\n",
    "    k=random.randrange(1,10)\n",
    "    print('value of k=',k)\n",
    "    knn=KNeighborsClassifier(k)\n",
    "    knn.fit(train_x,train_y)\n",
    "    predicted=knn.predict(test_x)\n",
    "    for i in range(len(test_x)):\n",
    "        print(test_x[i],': predicted value=',predicted[i],'   actual value=',test_y[i])\n",
    "    e = 0\n",
    "    for i in range(len(predicted)):\n",
    "        if predicted[i]==test_y[i]:\n",
    "            e+=1\n",
    "    accuracy=(e/len(test_y))*100\n",
    "    print('\\nAccuracy:', accuracy)"
   ]
  }
 ],
 "metadata": {
  "kernelspec": {
   "display_name": "Python 3",
   "language": "python",
   "name": "python3"
  },
  "language_info": {
   "codemirror_mode": {
    "name": "ipython",
    "version": 3
   },
   "file_extension": ".py",
   "mimetype": "text/x-python",
   "name": "python",
   "nbconvert_exporter": "python",
   "pygments_lexer": "ipython3",
   "version": "3.6.4"
  }
 },
 "nbformat": 4,
 "nbformat_minor": 2
}
