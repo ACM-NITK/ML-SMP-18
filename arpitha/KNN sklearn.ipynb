{
 "cells": [
  {
   "cell_type": "code",
   "execution_count": 1,
   "metadata": {
    "collapsed": true
   },
   "outputs": [],
   "source": [
    "from sklearn import datasets\n",
    "from sklearn.model_selection import train_test_split\n",
    "from sklearn.neighbors import KNeighborsClassifier\n",
    "from sklearn.metrics import accuracy_score"
   ]
  },
  {
   "cell_type": "code",
   "execution_count": 2,
   "metadata": {},
   "outputs": [],
   "source": [
    "iris = datasets.load_iris()"
   ]
  },
  {
   "cell_type": "code",
   "execution_count": 3,
   "metadata": {
    "collapsed": true
   },
   "outputs": [],
   "source": [
    "X = iris.data[:, :] \n",
    "y = iris.target\n",
    "X_train, X_test, y_train, y_test = train_test_split(X, y, test_size=0.20, random_state=0)"
   ]
  },
  {
   "cell_type": "code",
   "execution_count": 4,
   "metadata": {
    "collapsed": true
   },
   "outputs": [],
   "source": [
    "knn = KNeighborsClassifier()\n",
    "knn.fit(X_train, y_train)\n",
    "predictions = knn.predict(X_test)"
   ]
  },
  {
   "cell_type": "code",
   "execution_count": 5,
   "metadata": {},
   "outputs": [
    {
     "name": "stdout",
     "output_type": "stream",
     "text": [
      "Accuracy =  0.966666666667\n"
     ]
    }
   ],
   "source": [
    "print(\"Accuracy = \",accuracy_score(y_test, predictions))"
   ]
  },
  {
   "cell_type": "code",
   "execution_count": 6,
   "metadata": {},
   "outputs": [
    {
     "name": "stdout",
     "output_type": "stream",
     "text": [
      "Actual :  2   Predicted :  2\n",
      "Actual :  1   Predicted :  1\n",
      "Actual :  0   Predicted :  0\n",
      "Actual :  2   Predicted :  2\n",
      "Actual :  0   Predicted :  0\n",
      "Actual :  2   Predicted :  2\n",
      "Actual :  0   Predicted :  0\n",
      "Actual :  1   Predicted :  1\n",
      "Actual :  1   Predicted :  1\n",
      "Actual :  1   Predicted :  1\n",
      "Actual :  2   Predicted :  2\n",
      "Actual :  1   Predicted :  1\n",
      "Actual :  1   Predicted :  1\n",
      "Actual :  1   Predicted :  1\n",
      "Actual :  1   Predicted :  2\n",
      "Actual :  0   Predicted :  0\n",
      "Actual :  1   Predicted :  1\n",
      "Actual :  1   Predicted :  1\n",
      "Actual :  0   Predicted :  0\n",
      "Actual :  0   Predicted :  0\n",
      "Actual :  2   Predicted :  2\n",
      "Actual :  1   Predicted :  1\n",
      "Actual :  0   Predicted :  0\n",
      "Actual :  0   Predicted :  0\n",
      "Actual :  2   Predicted :  2\n",
      "Actual :  0   Predicted :  0\n",
      "Actual :  0   Predicted :  0\n",
      "Actual :  1   Predicted :  1\n",
      "Actual :  1   Predicted :  1\n",
      "Actual :  0   Predicted :  0\n"
     ]
    }
   ],
   "source": [
    "for i in range(y_test.size):\n",
    "    print(\"Actual : \",y_test[i],\"  Predicted : \",predictions[i])"
   ]
  },
  {
   "cell_type": "code",
   "execution_count": null,
   "metadata": {
    "collapsed": true
   },
   "outputs": [],
   "source": [
    "# 0- Iris-setosa\n",
    "# 1- Iris-versicolor\n",
    "# 2- Iris-virginica"
   ]
  }
 ],
 "metadata": {
  "kernelspec": {
   "display_name": "Python 3",
   "language": "python",
   "name": "python3"
  },
  "language_info": {
   "codemirror_mode": {
    "name": "ipython",
    "version": 3
   },
   "file_extension": ".py",
   "mimetype": "text/x-python",
   "name": "python",
   "nbconvert_exporter": "python",
   "pygments_lexer": "ipython3",
   "version": "3.6.3"
  }
 },
 "nbformat": 4,
 "nbformat_minor": 2
}
