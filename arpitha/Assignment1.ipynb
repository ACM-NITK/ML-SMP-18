{
 "cells": [
  {
   "cell_type": "code",
   "execution_count": 1,
   "metadata": {
    "collapsed": true
   },
   "outputs": [],
   "source": [
    "import numpy as np"
   ]
  },
  {
   "cell_type": "code",
   "execution_count": 2,
   "metadata": {},
   "outputs": [
    {
     "name": "stdout",
     "output_type": "stream",
     "text": [
      "original array\n",
      "[1 2 3 4 5]\n",
      "reversed array\n",
      "[5 4 3 2 1]\n"
     ]
    }
   ],
   "source": [
    "a=np.array([1,2,3,4,5])\n",
    "print(\"original array\")\n",
    "print (a)\n",
    "print(\"reversed array\")\n",
    "print(a[::-1])"
   ]
  },
  {
   "cell_type": "code",
   "execution_count": 3,
   "metadata": {},
   "outputs": [
    {
     "name": "stdout",
     "output_type": "stream",
     "text": [
      "[[0 1 2]\n",
      " [3 4 5]\n",
      " [6 7 8]]\n"
     ]
    }
   ],
   "source": [
    "a=np.arange(9).reshape([3,3])\n",
    "print (a)"
   ]
  },
  {
   "cell_type": "code",
   "execution_count": 4,
   "metadata": {},
   "outputs": [
    {
     "name": "stdout",
     "output_type": "stream",
     "text": [
      "[[ 0.86286956  0.08172448  0.21574745]\n",
      " [ 0.621589    0.43538837  0.23665408]\n",
      " [ 0.07837583  0.0690936   0.55139956]\n",
      " [ 0.15614056  0.93488932  0.02193426]\n",
      " [ 0.71655683  0.42077382  0.80103753]]\n",
      "[[ 0.97954292  0.18351862]\n",
      " [ 0.65591067  0.49665179]\n",
      " [ 0.01049366  0.35750662]]\n",
      "[[ 0.9010857   0.27607239]\n",
      " [ 0.89693235  0.41491497]\n",
      " [ 0.12787791  0.24582787]\n",
      " [ 0.76638043  0.5008108 ]\n",
      " [ 0.98629402  0.62685581]]\n"
     ]
    }
   ],
   "source": [
    "x = np.random.random((5,3))\n",
    "print(x)\n",
    "y = np.random.random((3,2))\n",
    "print(y)\n",
    "z = np.dot(x, y)\n",
    "print(z)"
   ]
  },
  {
   "cell_type": "code",
   "execution_count": 5,
   "metadata": {},
   "outputs": [
    {
     "name": "stdout",
     "output_type": "stream",
     "text": [
      "[ 17.72386081  15.98531867  14.1070962    1.90550251   6.79356433\n",
      "  10.71310233  11.97527911  17.5678066   15.79206654   9.28300544]\n",
      "[ 17.  15.  14.   1.   6.  10.  11.  17.  15.   9.]\n",
      "[ 17.  15.  14.   1.   6.  10.  11.  17.  15.   9.]\n",
      "[ 17.  15.  14.   1.   6.  10.  11.  17.  15.   9.]\n",
      "[17 15 14  1  6 10 11 17 15  9]\n",
      "[ 17.  15.  14.   1.   6.  10.  11.  17.  15.   9.]\n"
     ]
    }
   ],
   "source": [
    "z = np.random.uniform(0,20,10)\n",
    "print(z)\n",
    "print (z - z%1)\n",
    "print (np.floor(z))\n",
    "print (np.ceil(z)-1)\n",
    "print (z.astype(int))\n",
    "print (np.trunc(z))"
   ]
  },
  {
   "cell_type": "code",
   "execution_count": 6,
   "metadata": {},
   "outputs": [
    {
     "name": "stdout",
     "output_type": "stream",
     "text": [
      "[ 0.18412303  0.12810449  0.05608876  0.19900033  0.77642918]\n",
      "[ 0.78787355  0.71804651  0.79495721  0.55886706  0.57165187]\n",
      "False\n",
      "\n"
     ]
    }
   ],
   "source": [
    "x=np.random.rand(5)\n",
    "print(x)\n",
    "y=np.random.rand(5)\n",
    "print(y)\n",
    "print(np.array_equal(x,y))\n",
    "print()"
   ]
  },
  {
   "cell_type": "code",
   "execution_count": 7,
   "metadata": {},
   "outputs": [
    {
     "name": "stdout",
     "output_type": "stream",
     "text": [
      "[ 0.49735391  0.32108579  0.44779376  0.61138383  0.21603783  0.43020936\n",
      "  0.61055052  0.65616878]\n",
      "0\n",
      "0.497353914927\n"
     ]
    }
   ],
   "source": [
    "v=0.5\n",
    "x=np.random.rand(8)\n",
    "i=(np.abs(x-v)).argmin()\n",
    "print(x)\n",
    "print(i)\n",
    "print(x[i])"
   ]
  },
  {
   "cell_type": "code",
   "execution_count": 8,
   "metadata": {},
   "outputs": [
    {
     "name": "stdout",
     "output_type": "stream",
     "text": [
      "[[ 1.  1.  1.  1.  1.]\n",
      " [ 1.  0.  0.  0.  1.]\n",
      " [ 1.  0.  0.  0.  1.]\n",
      " [ 1.  0.  0.  0.  1.]\n",
      " [ 1.  1.  1.  1.  1.]]\n"
     ]
    }
   ],
   "source": [
    "x = np.ones((5,5))\n",
    "x[1:-1,1:-1] = 0\n",
    "print(x)"
   ]
  },
  {
   "cell_type": "code",
   "execution_count": 9,
   "metadata": {},
   "outputs": [
    {
     "name": "stdout",
     "output_type": "stream",
     "text": [
      "[7 8 9]\n"
     ]
    }
   ],
   "source": [
    "x=np.array([2,5,3,7,1,9,4,8,6])\n",
    "n=3\n",
    "print (x[np.argsort(x)[-n:]])"
   ]
  },
  {
   "cell_type": "code",
   "execution_count": 10,
   "metadata": {},
   "outputs": [
    {
     "name": "stdout",
     "output_type": "stream",
     "text": [
      "[ 0.1397132   0.51420812  0.3312369   0.38000587  0.36089197]\n",
      "0.18675834291835514\n",
      "0\n",
      "0.139713195768\n"
     ]
    }
   ],
   "source": [
    "x=np.random.rand(5)\n",
    "v=np.random.uniform(0,1)\n",
    "print(x)\n",
    "print(v)\n",
    "i=(np.abs(x-v)).argmin()\n",
    "print(i)\n",
    "print(x[i])"
   ]
  },
  {
   "cell_type": "code",
   "execution_count": 11,
   "metadata": {},
   "outputs": [
    {
     "name": "stdout",
     "output_type": "stream",
     "text": [
      "[ 0.33580675  0.48959935  0.2405118   0.62470128  0.87450206  0.13695302\n",
      "  0.54631893  0.63192739  0.51055146  0.26250051  0.8583319   0.80289599\n",
      "  0.7472918   0.99177666  0.00352956]\n",
      "[ 0.33580675  0.48959935  0.2405118   0.62470128  0.87450206  0.13695302\n",
      "  0.54631893  0.63192739  0.51055146  0.26250051  0.8583319   0.80289599\n",
      "  0.7472918  -1.          0.00352956]\n"
     ]
    }
   ],
   "source": [
    "x=np.random.rand(15)\n",
    "print(x)\n",
    "x[x.argmax()]=-1\n",
    "print(x)"
   ]
  },
  {
   "cell_type": "code",
   "execution_count": 12,
   "metadata": {},
   "outputs": [
    {
     "name": "stdout",
     "output_type": "stream",
     "text": [
      "[[ 0.          0.49531089  0.36056434  0.66378561  0.60559788  0.17034998\n",
      "   0.04350696  0.20377794  0.52336018  0.55937507]\n",
      " [ 0.49531089  0.          0.58792669  0.22324498  0.47473992  0.50081124\n",
      "   0.45181032  0.61440706  0.04441633  0.3364961 ]\n",
      " [ 0.36056434  0.58792669  0.          0.64131216  0.37501809  0.19073359\n",
      "   0.36028431  0.55485643  0.63090991  0.42005884]\n",
      " [ 0.66378561  0.22324498  0.64131216  0.          0.38768943  0.61836517\n",
      "   0.62199462  0.81294798  0.23627684  0.25394636]\n",
      " [ 0.60559788  0.47473992  0.37501809  0.38768943  0.          0.47012277\n",
      "   0.57908456  0.8051795   0.51550831  0.14240111]\n",
      " [ 0.17034998  0.50081124  0.19073359  0.61836517  0.47012277  0.\n",
      "   0.17054313  0.36921795  0.53855828  0.45619842]\n",
      " [ 0.04350696  0.45181032  0.36028431  0.62199462  0.57908456  0.17054313\n",
      "   0.          0.22609541  0.47991558  0.52553357]\n",
      " [ 0.20377794  0.61440706  0.55485643  0.81294798  0.8051795   0.36921795\n",
      "   0.22609541  0.          0.6309504   0.74700308]\n",
      " [ 0.52336018  0.04441633  0.63090991  0.23627684  0.51550831  0.53855828\n",
      "   0.47991558  0.6309504   0.          0.37585134]\n",
      " [ 0.55937507  0.3364961   0.42005884  0.25394636  0.14240111  0.45619842\n",
      "   0.52553357  0.74700308  0.37585134  0.        ]]\n"
     ]
    }
   ],
   "source": [
    "z = np.random.random((10,2))\n",
    "x,y = np.atleast_2d(z[:,0], z[:,1])\n",
    "d = np.sqrt( (x-x.T)**2 + (y-y.T)**2)\n",
    "print(d)"
   ]
  },
  {
   "cell_type": "code",
   "execution_count": 13,
   "metadata": {},
   "outputs": [
    {
     "name": "stdout",
     "output_type": "stream",
     "text": [
      "[[ 0.44949163  0.51480366  0.68210849  0.32381175  0.29027147]\n",
      " [ 0.79750316  0.55509578  0.87585476  0.68975333  0.94540242]\n",
      " [ 0.79215283  0.805366    0.06818053  0.48658882  0.17230748]\n",
      " [ 0.07842418  0.30160822  0.48631972  0.01413438  0.20024612]\n",
      " [ 0.5830256   0.96152838  0.07257107  0.28794632  0.80367384]]\n",
      "[[ 0.07842418  0.30160822  0.48631972  0.01413438  0.20024612]\n",
      " [ 0.5830256   0.96152838  0.07257107  0.28794632  0.80367384]\n",
      " [ 0.44949163  0.51480366  0.68210849  0.32381175  0.29027147]\n",
      " [ 0.79215283  0.805366    0.06818053  0.48658882  0.17230748]\n",
      " [ 0.79750316  0.55509578  0.87585476  0.68975333  0.94540242]]\n"
     ]
    }
   ],
   "source": [
    "x=np.random.random((5,5))\n",
    "print(x)\n",
    "n=3\n",
    "x=x[x[:,n].argsort()]\n",
    "print(x)"
   ]
  },
  {
   "cell_type": "code",
   "execution_count": 14,
   "metadata": {},
   "outputs": [
    {
     "name": "stdout",
     "output_type": "stream",
     "text": [
      "[[[[8 7 5 2]\n",
      "   [0 1 4 8]\n",
      "   [4 3 2 7]]\n",
      "\n",
      "  [[8 7 1 6]\n",
      "   [0 1 3 9]\n",
      "   [2 0 4 2]]\n",
      "\n",
      "  [[8 4 5 6]\n",
      "   [3 8 0 3]\n",
      "   [4 6 5 4]]\n",
      "\n",
      "  [[0 5 3 8]\n",
      "   [8 2 4 1]\n",
      "   [2 5 6 0]]]\n",
      "\n",
      "\n",
      " [[[8 5 0 1]\n",
      "   [2 1 6 1]\n",
      "   [9 5 7 0]]\n",
      "\n",
      "  [[7 9 4 2]\n",
      "   [9 0 3 0]\n",
      "   [7 7 3 4]]\n",
      "\n",
      "  [[4 4 9 5]\n",
      "   [7 4 0 6]\n",
      "   [5 1 6 3]]\n",
      "\n",
      "  [[3 1 4 8]\n",
      "   [0 3 1 0]\n",
      "   [8 4 9 4]]]\n",
      "\n",
      "\n",
      " [[[9 1 2 2]\n",
      "   [3 5 2 4]\n",
      "   [1 2 0 9]]\n",
      "\n",
      "  [[6 1 7 8]\n",
      "   [1 4 1 0]\n",
      "   [1 8 4 0]]\n",
      "\n",
      "  [[5 8 4 3]\n",
      "   [8 5 2 8]\n",
      "   [1 2 7 9]]\n",
      "\n",
      "  [[2 0 5 7]\n",
      "   [0 3 5 5]\n",
      "   [0 1 8 2]]]]\n",
      "[[51 43 56 44]\n",
      " [45 55 54 45]\n",
      " [40 41 62 38]]\n"
     ]
    }
   ],
   "source": [
    "x = np.random.randint(0,10,(3,4,3,4))\n",
    "print(x)\n",
    "sum = x.sum(axis=(-2,-1))\n",
    "print(sum)"
   ]
  },
  {
   "cell_type": "code",
   "execution_count": 15,
   "metadata": {},
   "outputs": [
    {
     "name": "stdout",
     "output_type": "stream",
     "text": [
      "[0 1 8 2 9 9 7 0 7 1 5 1 2 7 6 6 8 3 8 0 0 7 3 7 0 9 8 0 1 2 9 8 0 8 8 1 3\n",
      " 6 8 7]\n",
      "8\n"
     ]
    }
   ],
   "source": [
    "x = np.random.randint(0, 10, 40)\n",
    "print(x)\n",
    "print(np.bincount(x).argmax())"
   ]
  },
  {
   "cell_type": "code",
   "execution_count": null,
   "metadata": {
    "collapsed": true
   },
   "outputs": [],
   "source": []
  }
 ],
 "metadata": {
  "kernelspec": {
   "display_name": "Python 3",
   "language": "python",
   "name": "python3"
  },
  "language_info": {
   "codemirror_mode": {
    "name": "ipython",
    "version": 3
   },
   "file_extension": ".py",
   "mimetype": "text/x-python",
   "name": "python",
   "nbconvert_exporter": "python",
   "pygments_lexer": "ipython3",
   "version": "3.6.3"
  }
 },
 "nbformat": 4,
 "nbformat_minor": 2
}
