{
 "cells": [
  {
   "cell_type": "code",
   "execution_count": null,
   "metadata": {},
   "outputs": [],
   "source": [
    "#linear regression"
   ]
  },
  {
   "cell_type": "code",
   "execution_count": 1,
   "metadata": {
    "collapsed": true
   },
   "outputs": [],
   "source": [
    "def Hypothesis(theta,x):\n",
    "#Calculate the hypothesis function h(X1 , X2)\n",
    "    h=np.dot(theta,np.transpose(x))\n",
    "    return h"
   ]
  },
  {
   "cell_type": "code",
   "execution_count": 2,
   "metadata": {
    "collapsed": true
   },
   "outputs": [],
   "source": [
    "def Cost_Function(X,Y,theta,m):\n",
    "#Calculate the cost function J\n",
    "    h=Hypothesis(theta,X)\n",
    "    cf=np.sum(np.square(h-Y))/(2*m)\n",
    "    return cf"
   ]
  },
  {
   "cell_type": "code",
   "execution_count": 3,
   "metadata": {
    "collapsed": true
   },
   "outputs": [],
   "source": [
    "def Cost_Function_Derivative(X,Y,theta,j,m):\n",
    "#Calculate derivatives dJ/dW1 and dJ/dW2\n",
    "    h=Hypothesis(theta,X)\n",
    "    d=np.dot(np.transpose(h-Y),X)\n",
    "    return d"
   ]
  },
  {
   "cell_type": "code",
   "execution_count": 4,
   "metadata": {
    "collapsed": true
   },
   "outputs": [],
   "source": [
    "def Gradient_Descent(X,Y,theta, m, alpha):\n",
    "#Perform the gradient descent update W1 = W1 - alpha* dJ/dW1 , W2 = W2 - alpha*dJ/dW2\n",
    "    j=Cost_Function(X,Y,theta,m)\n",
    "    theta = theta - (alpha * Cost_Function_Derivative(X,Y,theta,j,m))\n",
    "    return theta"
   ]
  },
  {
   "cell_type": "code",
   "execution_count": 5,
   "metadata": {},
   "outputs": [],
   "source": [
    "def Linear_Regression(X,Y,alpha,theta,num_iters):\n",
    "    m = len(X)\n",
    "    for x in range(num_iters):\n",
    "        new_theta = Gradient_Descent(X,Y,theta, m, alpha)\n",
    "        theta = new_theta\n",
    "        if x % 100 == 0:\n",
    "            print(\"iteration \",x)\n",
    "            print ('theta ', theta)\n",
    "            print ('cost is ', Cost_Function(X,Y,theta,m))\n",
    "            print()\n",
    "    return new_theta\n"
   ]
  },
  {
   "cell_type": "code",
   "execution_count": 6,
   "metadata": {},
   "outputs": [
    {
     "name": "stdout",
     "output_type": "stream",
     "text": [
      "iteration  0\n",
      "theta  [ 0.9925  5.1775]\n",
      "cost is  78.1291652778\n",
      "\n",
      "iteration  100\n",
      "theta  [ 11.461924    1.8307814]\n",
      "cost is  5.33532861728\n",
      "\n",
      "iteration  200\n",
      "theta  [ 15.70206065   1.15691582]\n",
      "cost is  0.96931673831\n",
      "\n",
      "iteration  300\n",
      "theta  [ 17.37757619   0.89063377]\n",
      "cost is  0.28757148012\n",
      "\n",
      "iteration  400\n",
      "theta  [ 18.03966625   0.78541082]\n",
      "cost is  0.181118128652\n",
      "\n",
      "iteration  500\n",
      "theta  [ 18.30129512   0.74383133]\n",
      "cost is  0.164495620608\n",
      "\n",
      "iteration  600\n",
      "theta  [ 18.40467935   0.72740095]\n",
      "cost is  0.161900044518\n",
      "\n",
      "iteration  700\n",
      "theta  [ 18.44553225   0.72090838]\n",
      "cost is  0.161494749769\n",
      "\n",
      "iteration  800\n",
      "theta  [ 18.46167552   0.71834281]\n",
      "cost is  0.16143146369\n",
      "\n",
      "iteration  900\n",
      "theta  [ 18.46805463   0.717329  ]\n",
      "cost is  0.161421581677\n",
      "\n",
      "iteration  1000\n",
      "theta  [ 18.47057537   0.71692839]\n",
      "cost is  0.161420038618\n",
      "\n",
      "iteration  1100\n",
      "theta  [ 18.47157146   0.71677009]\n",
      "cost is  0.161419797672\n",
      "\n",
      "iteration  1200\n",
      "theta  [ 18.47196507   0.71670753]\n",
      "cost is  0.161419760048\n",
      "\n",
      "iteration  1300\n",
      "theta  [ 18.47212061   0.71668282]\n",
      "cost is  0.161419754174\n",
      "\n",
      "iteration  1400\n",
      "theta  [ 18.47218207   0.71667305]\n",
      "cost is  0.161419753256\n",
      "\n",
      "iteration  1500\n",
      "theta  [ 18.47220636   0.71666919]\n",
      "cost is  0.161419753113\n",
      "\n",
      "iteration  1600\n",
      "theta  [ 18.47221595   0.71666766]\n",
      "cost is  0.161419753091\n",
      "\n",
      "iteration  1700\n",
      "theta  [ 18.47221974   0.71666706]\n",
      "cost is  0.161419753087\n",
      "\n",
      "iteration  1800\n",
      "theta  [ 18.47222124   0.71666682]\n",
      "cost is  0.161419753087\n",
      "\n",
      "iteration  1900\n",
      "theta  [ 18.47222184   0.71666673]\n",
      "cost is  0.161419753086\n",
      "\n",
      "\n",
      "Final theta:\n",
      "[ 18.47222207   0.71666669]\n"
     ]
    }
   ],
   "source": [
    "import numpy as np\n",
    "\n",
    "\n",
    "Y= [19, 20, 20.5, 21.5, 22, 23, 23, 25.5, 24]\n",
    "X = [[1,1],[1,2],[1,3],[1,4],[1,5],[1,6],[1,7],[1,8],[1,9]]\n",
    "theta = ([0,0])\n",
    "alpha = 0.005\n",
    "iterations = 2000\n",
    "nt=Linear_Regression(X,Y,alpha,theta,iterations)\n",
    "print()\n",
    "print(\"Final theta:\")\n",
    "print(nt)"
   ]
  },
  {
   "cell_type": "code",
   "execution_count": null,
   "metadata": {
    "collapsed": true
   },
   "outputs": [],
   "source": []
  }
 ],
 "metadata": {
  "kernelspec": {
   "display_name": "Python 3",
   "language": "python",
   "name": "python3"
  },
  "language_info": {
   "codemirror_mode": {
    "name": "ipython",
    "version": 3
   },
   "file_extension": ".py",
   "mimetype": "text/x-python",
   "name": "python",
   "nbconvert_exporter": "python",
   "pygments_lexer": "ipython3",
   "version": "3.6.3"
  }
 },
 "nbformat": 4,
 "nbformat_minor": 2
}
